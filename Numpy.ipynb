{
 "cells": [
  {
   "cell_type": "markdown",
   "id": "656148b6",
   "metadata": {},
   "source": [
    "# 🔹 Why NumPy when we already have Python Lists?\n",
    "\n",
    "Python provides **lists**, which can store multiple values.  \n",
    "So why do we need **NumPy arrays**?\n",
    "\n",
    "---\n",
    "\n",
    "## ✅ Limitations of Python Lists\n",
    "1. **Performance Issues**  \n",
    "   - Lists are slow for mathematical computations.  \n",
    "   - Operations require Python loops → inefficient for large datasets.\n",
    "\n",
    "2. **Memory Inefficiency**  \n",
    "   - Lists store objects with extra metadata → more memory usage.  \n",
    "   - Example: `list = [1, 2, 3]` stores integers + object pointers.\n",
    "\n",
    "3. **No Vectorization**  \n",
    "   - Lists don’t support element-wise operations directly.  \n",
    "   - Example:\n",
    "     ```python\n",
    "     a = [1, 2, 3]\n",
    "     b = [4, 5, 6]\n",
    "     print(a + b)  # Just concatenates → [1,2,3,4,5,6]\n",
    "     ```\n",
    "   - For mathematical operations, we need loops or list comprehensions.\n",
    "\n",
    "4. **Limited Functionality**  \n",
    "   - Lists don’t have built-in methods for advanced math/statistics.  \n",
    "   - Example: mean, median, standard deviation → must be coded manually.\n",
    "\n",
    "---\n",
    "\n",
    "## ✅ Why NumPy is Better\n",
    "\n",
    "1. **Faster Execution**  \n",
    "   - Written in **C** → operations are highly optimized.  \n",
    "   - Uses **vectorization** (no explicit loops required).\n",
    "\n",
    "2. **Less Memory Usage**  \n",
    "   - Stores data in a contiguous block (fixed type, e.g., int32).  \n",
    "   - Much more efficient than Python lists.\n",
    "\n",
    "3. **Supports Vectorized Operations**  \n",
    "   - Example:\n",
    "     ```python\n",
    "     import numpy as np\n",
    "     a = np.array([1, 2, 3])\n",
    "     b = np.array([4, 5, 6])\n",
    "     print(a + b)   # [5 7 9]\n",
    "     print(a * b)   # [ 4 10 18]\n",
    "     ```\n",
    "\n",
    "4. **Rich Mathematical Functions**  \n",
    "   - Mean, median, variance, trigonometry, linear algebra, etc.  \n",
    "   - Example:\n",
    "     ```python\n",
    "     np.mean(a)   # 2.0\n",
    "     np.std(a)    # 0.816...\n",
    "     ```\n",
    "\n",
    "5. **Multi-dimensional Arrays**  \n",
    "   - NumPy supports matrices & n-dimensional arrays.  \n",
    "   - Lists are only 1D (nested lists get messy).\n",
    "\n",
    "---\n",
    "\n",
    "## ✅ Example: Speed Test\n",
    "\n",
    "```python\n",
    "import numpy as np\n",
    "import time\n",
    "\n",
    "# Python list\n",
    "lst = list(range(1000000))\n",
    "start = time.time()\n",
    "sum_lst = [x**2 for x in lst]   # Square using loop\n",
    "end = time.time()\n",
    "print(\"Python List Time:\", end - start)\n",
    "\n",
    "# NumPy array\n",
    "arr = np.arange(1000000)\n",
    "start = time.time()\n",
    "sum_arr = arr**2   # Vectorized operation\n",
    "end = time.time()\n",
    "print(\"NumPy Array Time:\", end - start)\n"
   ]
  },
  {
   "cell_type": "markdown",
   "id": "c00e76a0",
   "metadata": {},
   "source": [
    "# 🔹 Difference Between Python List and NumPy Array\n",
    "\n",
    "| Feature                   | Python List                                | NumPy Array                               |\n",
    "|----------------------------|-------------------------------------------|-------------------------------------------|\n",
    "| Data Type                  | Can hold **heterogeneous** elements        | Mostly **homogeneous** elements           |\n",
    "| Performance                | Slower for large-scale numeric operations | Fast due to **C implementation & vectorization** |\n",
    "| Memory Usage               | Higher (stores extra info for objects)    | Lower (contiguous memory block)          |\n",
    "| Mathematical Operations    | Element-wise operations need loops        | Supports **vectorized operations** (`+`, `-`, `*`, `/`) |\n",
    "| Multi-dimensional Support  | Nested lists (less efficient)             | Built-in n-dimensional arrays (`ndarray`) |\n",
    "| Functionality              | Limited (basic methods)                   | Rich mathematical & statistical functions |\n",
    "| Indexing                   | Integer-based                              | Integer & boolean-based indexing, slicing |\n",
    "| Missing Data               | Must handle manually                        | Can handle NaN with floating type         |\n",
    "| Use Case                   | General-purpose storage                     | Scientific computing, ML, AI, data analysis |\n",
    "\n",
    "---"
   ]
  },
  {
   "cell_type": "code",
   "execution_count": 1,
   "id": "f7a9b6fc",
   "metadata": {},
   "outputs": [],
   "source": [
    "import numpy as np"
   ]
  },
  {
   "cell_type": "code",
   "execution_count": 4,
   "id": "b8f2c241",
   "metadata": {},
   "outputs": [
    {
     "data": {
      "text/plain": [
       "array([1, 2, 3, 4, 5])"
      ]
     },
     "execution_count": 4,
     "metadata": {},
     "output_type": "execute_result"
    }
   ],
   "source": [
    "arr=np.array([1,2,3,4,5])\n",
    "arr"
   ]
  },
  {
   "cell_type": "code",
   "execution_count": 5,
   "id": "d9d86d9c",
   "metadata": {},
   "outputs": [
    {
     "data": {
      "text/plain": [
       "1"
      ]
     },
     "execution_count": 5,
     "metadata": {},
     "output_type": "execute_result"
    }
   ],
   "source": [
    "# dimension and scale of Array\n",
    "arr.ndim"
   ]
  },
  {
   "cell_type": "code",
   "execution_count": 11,
   "id": "08010ff3",
   "metadata": {},
   "outputs": [
    {
     "data": {
      "text/plain": [
       "(1, 1, 0)"
      ]
     },
     "execution_count": 11,
     "metadata": {},
     "output_type": "execute_result"
    }
   ],
   "source": [
    "a=np.array([[[]]])\n",
    "a.ndim\n",
    "a.shape"
   ]
  },
  {
   "cell_type": "code",
   "execution_count": 12,
   "id": "e5b2cea8",
   "metadata": {},
   "outputs": [
    {
     "data": {
      "text/plain": [
       "array([1, 2, 3, 4, 5, 6, 7, 8, 9])"
      ]
     },
     "execution_count": 12,
     "metadata": {},
     "output_type": "execute_result"
    }
   ],
   "source": [
    "# creating a range of number\n",
    "\n",
    "range=np.arange(1,10)\n",
    "range"
   ]
  },
  {
   "cell_type": "code",
   "execution_count": 14,
   "id": "9b60d833",
   "metadata": {},
   "outputs": [
    {
     "data": {
      "text/plain": [
       "array([1, 3, 5, 7, 9])"
      ]
     },
     "execution_count": 14,
     "metadata": {},
     "output_type": "execute_result"
    }
   ],
   "source": [
    "# creating range By giving start Stop and step value\n",
    "\n",
    "range =np.arange(1,10,2) #start , stop , step\n",
    "range\n"
   ]
  },
  {
   "cell_type": "markdown",
   "id": "9ebeb693",
   "metadata": {},
   "source": [
    "# 🔹 Using `numpy.linspace()`\n",
    "\n",
    "`numpy.linspace(start, stop, num)` is used to **create evenly spaced numbers over a specified interval**.\n",
    "\n",
    "- `start` → starting value of the sequence  \n",
    "- `stop` → end value of the sequence (inclusive by default)  \n",
    "- `num` → number of samples to generate (default is 50)  \n",
    "\n",
    "---\n",
    "\n",
    "## Example: linspace from 0 to 1 with 10 numbers\n",
    "```python\n",
    "\n",
    "\n",
    "\n"
   ]
  },
  {
   "cell_type": "code",
   "execution_count": 15,
   "id": "1991e095",
   "metadata": {},
   "outputs": [
    {
     "name": "stdout",
     "output_type": "stream",
     "text": [
      "[0.         0.11111111 0.22222222 0.33333333 0.44444444 0.55555556\n",
      " 0.66666667 0.77777778 0.88888889 1.        ]\n"
     ]
    }
   ],
   "source": [
    "# using linspace (0,1,10)\n",
    "arr = np.linspace(0, 1, 10)\n",
    "print(arr)"
   ]
  },
  {
   "cell_type": "markdown",
   "id": "6956ac6b",
   "metadata": {},
   "source": [
    "# logspace \n",
    "\n",
    "- np.logspace(start,ending -> power value, number of values in the scale)"
   ]
  },
  {
   "cell_type": "code",
   "execution_count": 19,
   "id": "c490897a",
   "metadata": {},
   "outputs": [
    {
     "data": {
      "text/plain": [
       "array([  10., 1000.])"
      ]
     },
     "execution_count": 19,
     "metadata": {},
     "output_type": "execute_result"
    }
   ],
   "source": [
    "arr= np.logspace(1,3,2)\n",
    "# logarithmic scale array->10^1 ->10^3 .. 3 points\n",
    "arr"
   ]
  },
  {
   "cell_type": "code",
   "execution_count": 20,
   "id": "640aa30e",
   "metadata": {},
   "outputs": [
    {
     "data": {
      "text/plain": [
       "array([  10.        ,   31.6227766 ,  100.        ,  316.22776602,\n",
       "       1000.        ])"
      ]
     },
     "execution_count": 20,
     "metadata": {},
     "output_type": "execute_result"
    }
   ],
   "source": [
    "arr= np.logspace(1,3,5)\n",
    "# logarithmic scale array->10^1 ->10^3 .. 3 points\n",
    "arr"
   ]
  },
  {
   "cell_type": "markdown",
   "id": "fb02cffd",
   "metadata": {},
   "source": [
    "## np.zeros\n",
    "- It will create an array full of zeros"
   ]
  },
  {
   "cell_type": "code",
   "execution_count": 21,
   "id": "64b8df0d",
   "metadata": {},
   "outputs": [
    {
     "data": {
      "text/plain": [
       "array([0., 0., 0., 0., 0.])"
      ]
     },
     "execution_count": 21,
     "metadata": {},
     "output_type": "execute_result"
    }
   ],
   "source": [
    "arr=np.zeros(5)\n",
    "arr"
   ]
  },
  {
   "cell_type": "markdown",
   "id": "dfc7575f",
   "metadata": {},
   "source": [
    "## np.ones\n",
    "- It will create an arr full of one"
   ]
  },
  {
   "cell_type": "code",
   "execution_count": 22,
   "id": "4d403ea9",
   "metadata": {},
   "outputs": [
    {
     "data": {
      "text/plain": [
       "array([[1., 1.],\n",
       "       [1., 1.],\n",
       "       [1., 1.],\n",
       "       [1., 1.]])"
      ]
     },
     "execution_count": 22,
     "metadata": {},
     "output_type": "execute_result"
    }
   ],
   "source": [
    "arr =np.ones([4,2])\n",
    "arr"
   ]
  },
  {
   "cell_type": "markdown",
   "id": "5e33e48a",
   "metadata": {},
   "source": [
    "## np.full\n",
    "- it will create the array with any constant value\n"
   ]
  },
  {
   "cell_type": "code",
   "execution_count": 23,
   "id": "3d30c9d7",
   "metadata": {},
   "outputs": [
    {
     "data": {
      "text/plain": [
       "array([2, 2, 2, 2, 2, 2, 2, 2, 2, 2])"
      ]
     },
     "execution_count": 23,
     "metadata": {},
     "output_type": "execute_result"
    }
   ],
   "source": [
    "arr=np.full(10,2) # -.create an array full of any value\n",
    "\n",
    "arr"
   ]
  },
  {
   "cell_type": "code",
   "execution_count": null,
   "id": "7f7a1faf",
   "metadata": {},
   "outputs": [
    {
     "data": {
      "text/plain": [
       "array([[8, 8, 8, 8],\n",
       "       [8, 8, 8, 8]])"
      ]
     },
     "execution_count": 24,
     "metadata": {},
     "output_type": "execute_result"
    }
   ],
   "source": [
    "# creating 2d array\n",
    "arr= np.full([2,4],8) #[row,column],default value\n",
    "arr"
   ]
  },
  {
   "cell_type": "code",
   "execution_count": null,
   "id": "8deefd2c",
   "metadata": {},
   "outputs": [
    {
     "data": {
      "text/plain": [
       "array([[0., 0., 0.],\n",
       "       [0., 0., 0.]])"
      ]
     },
     "execution_count": 25,
     "metadata": {},
     "output_type": "execute_result"
    }
   ],
   "source": [
    "arr=np.empty([2,3]) #Uninitialized array\n",
    "arr"
   ]
  },
  {
   "cell_type": "markdown",
   "id": "41c508bc",
   "metadata": {},
   "source": [
    "## np.random.rand() \n",
    "- generating Random floats \n",
    "-"
   ]
  },
  {
   "cell_type": "code",
   "execution_count": 27,
   "id": "06f02054",
   "metadata": {},
   "outputs": [
    {
     "data": {
      "text/plain": [
       "array([[0.01091142, 0.36154778, 0.00431531],\n",
       "       [0.45560047, 0.92731651, 0.25504025]])"
      ]
     },
     "execution_count": 27,
     "metadata": {},
     "output_type": "execute_result"
    }
   ],
   "source": [
    "arr=np.random.rand(2,3)\n",
    "arr"
   ]
  },
  {
   "cell_type": "code",
   "execution_count": 29,
   "id": "a4242648",
   "metadata": {},
   "outputs": [
    {
     "data": {
      "text/plain": [
       "array([[ 1.27126155,  0.06973022,  0.14265458],\n",
       "       [-0.48159273, -0.26475609,  0.04500287]])"
      ]
     },
     "execution_count": 29,
     "metadata": {},
     "output_type": "execute_result"
    }
   ],
   "source": [
    "arr=np.random.randn(2,3) # ->random float from standard normal distribution \n",
    "arr"
   ]
  },
  {
   "cell_type": "code",
   "execution_count": 31,
   "id": "0ee8d59d",
   "metadata": {},
   "outputs": [
    {
     "data": {
      "text/plain": [
       "array([[50, 22, 23],\n",
       "       [27, 88, 20]])"
      ]
     },
     "execution_count": 31,
     "metadata": {},
     "output_type": "execute_result"
    }
   ],
   "source": [
    "arr=np.random.randint(10,100,size=(2,3)) # -> start ,stop ,dimension/number of values\n",
    "arr #-> random integers"
   ]
  },
  {
   "cell_type": "markdown",
   "id": "8f607b66",
   "metadata": {},
   "source": [
    "# Numpy Data Type and Type Casting"
   ]
  },
  {
   "cell_type": "code",
   "execution_count": 33,
   "id": "9d060740",
   "metadata": {},
   "outputs": [
    {
     "data": {
      "text/plain": [
       "array([1. , 2. , 3.1, 4. , 5. , 6. ])"
      ]
     },
     "execution_count": 33,
     "metadata": {},
     "output_type": "execute_result"
    }
   ],
   "source": [
    "arr =np.array([1,2,3.1,4,5,6])\n",
    "arr"
   ]
  },
  {
   "cell_type": "code",
   "execution_count": 34,
   "id": "553367ed",
   "metadata": {},
   "outputs": [
    {
     "name": "stdout",
     "output_type": "stream",
     "text": [
      "<class 'numpy.ndarray'>\n"
     ]
    }
   ],
   "source": [
    "print(type(arr))"
   ]
  },
  {
   "cell_type": "code",
   "execution_count": 35,
   "id": "cad518fd",
   "metadata": {},
   "outputs": [
    {
     "data": {
      "text/plain": [
       "array(['String ', '1', '2', '5'], dtype='<U7')"
      ]
     },
     "execution_count": 35,
     "metadata": {},
     "output_type": "execute_result"
    }
   ],
   "source": [
    "lst=[\"String \",'1','2','5']\n",
    "arr=np.array(lst)\n",
    "arr"
   ]
  },
  {
   "cell_type": "code",
   "execution_count": 40,
   "id": "0ee40544",
   "metadata": {},
   "outputs": [
    {
     "data": {
      "text/plain": [
       "array([1., 2., 3., 4., 5.])"
      ]
     },
     "execution_count": 40,
     "metadata": {},
     "output_type": "execute_result"
    }
   ],
   "source": [
    "arr=np.array([1,2,3,4,5],dtype=np.float64)\n",
    "\n",
    "arr"
   ]
  },
  {
   "cell_type": "code",
   "execution_count": 39,
   "id": "57ae41c8",
   "metadata": {},
   "outputs": [
    {
     "data": {
      "text/plain": [
       "dtype('float64')"
      ]
     },
     "execution_count": 39,
     "metadata": {},
     "output_type": "execute_result"
    }
   ],
   "source": [
    "arr.dtype"
   ]
  },
  {
   "cell_type": "code",
   "execution_count": 41,
   "id": "3beaba67",
   "metadata": {},
   "outputs": [
    {
     "data": {
      "text/plain": [
       "dtype('int32')"
      ]
     },
     "execution_count": 41,
     "metadata": {},
     "output_type": "execute_result"
    }
   ],
   "source": [
    "# type casting -> astype()\n",
    "arr=np.array([1,2,3])\n",
    "arr.dtype"
   ]
  },
  {
   "cell_type": "code",
   "execution_count": 42,
   "id": "3f109087",
   "metadata": {},
   "outputs": [
    {
     "data": {
      "text/plain": [
       "array([1., 2., 3.])"
      ]
     },
     "execution_count": 42,
     "metadata": {},
     "output_type": "execute_result"
    }
   ],
   "source": [
    "new_arr=arr.astype(np.float64)\n",
    "new_arr"
   ]
  },
  {
   "cell_type": "code",
   "execution_count": 6,
   "id": "05229a5c",
   "metadata": {},
   "outputs": [
    {
     "name": "stdout",
     "output_type": "stream",
     "text": [
      "[[1 2 3]\n",
      " [4 5 6]\n",
      " [7 8 9]]\n"
     ]
    }
   ],
   "source": [
    "import numpy as np\n",
    "\n",
    "arr = np.array([1,2,3,4,5,6,7,8,9])\n",
    "\n",
    "reshaped = arr.reshape(3,3)\n",
    "print(reshaped)\n"
   ]
  },
  {
   "cell_type": "code",
   "execution_count": 10,
   "id": "b46df772",
   "metadata": {},
   "outputs": [
    {
     "data": {
      "text/plain": [
       "array([1, 2, 3, 4, 5, 6, 7, 8, 9])"
      ]
     },
     "execution_count": 10,
     "metadata": {},
     "output_type": "execute_result"
    }
   ],
   "source": [
    "# revel ->convery 1D array\n",
    "\n",
    "revel =reshaped.ravel()\n",
    "revel"
   ]
  },
  {
   "cell_type": "markdown",
   "id": "bedc0914",
   "metadata": {},
   "source": [
    "# Arithmetic Operations On Arrays"
   ]
  },
  {
   "cell_type": "code",
   "execution_count": 11,
   "id": "c192ba6b",
   "metadata": {},
   "outputs": [],
   "source": [
    "a=np.array([1,2,3])\n",
    "b=np.array([4,5,6])"
   ]
  },
  {
   "cell_type": "code",
   "execution_count": 12,
   "id": "65be0102",
   "metadata": {},
   "outputs": [
    {
     "name": "stdout",
     "output_type": "stream",
     "text": [
      "[5 7 9]\n"
     ]
    }
   ],
   "source": [
    "print(a+b)"
   ]
  },
  {
   "cell_type": "code",
   "execution_count": 13,
   "id": "1c8931eb",
   "metadata": {},
   "outputs": [
    {
     "name": "stdout",
     "output_type": "stream",
     "text": [
      "[-3 -3 -3]\n"
     ]
    }
   ],
   "source": [
    "# print(a-b)\n",
    "print(a-b)"
   ]
  },
  {
   "cell_type": "code",
   "execution_count": 14,
   "id": "d19d03d5",
   "metadata": {},
   "outputs": [
    {
     "name": "stdout",
     "output_type": "stream",
     "text": [
      "[0.25 0.4  0.5 ]\n"
     ]
    }
   ],
   "source": [
    "# division \n",
    "print(a/b)"
   ]
  },
  {
   "cell_type": "code",
   "execution_count": 15,
   "id": "c940dcdd",
   "metadata": {},
   "outputs": [
    {
     "name": "stdout",
     "output_type": "stream",
     "text": [
      "[1 4 9]\n"
     ]
    }
   ],
   "source": [
    "# exonent-> power\n",
    "print(a**2)"
   ]
  },
  {
   "cell_type": "markdown",
   "id": "c3c4dade",
   "metadata": {},
   "source": [
    "# universal Fuction ->ufuncs"
   ]
  },
  {
   "cell_type": "code",
   "execution_count": null,
   "id": "4ac219a6",
   "metadata": {},
   "outputs": [
    {
     "name": "stdout",
     "output_type": "stream",
     "text": [
      "[1. 2. 3. 4.]\n"
     ]
    }
   ],
   "source": [
    "# square Root \n",
    "arr=np.array([1,4,9,16])\n",
    "print(np.sqrt(arr))"
   ]
  },
  {
   "cell_type": "code",
   "execution_count": 18,
   "id": "1abd5485",
   "metadata": {},
   "outputs": [
    {
     "name": "stdout",
     "output_type": "stream",
     "text": [
      "[2.71828183 7.3890561 ]\n"
     ]
    }
   ],
   "source": [
    "# exponentioal -> np.exp -> e^x -> x is any integer\n",
    "\n",
    "print(np.exp([1,2]))"
   ]
  },
  {
   "cell_type": "code",
   "execution_count": 20,
   "id": "b162b787",
   "metadata": {},
   "outputs": [
    {
     "name": "stdout",
     "output_type": "stream",
     "text": [
      "[0.0000000e+00 1.2246468e-16 1.0000000e+00]\n"
     ]
    }
   ],
   "source": [
    "angeles =np.array([0,np.pi,np.pi/2])\n",
    "print(np.sin(angeles))"
   ]
  },
  {
   "cell_type": "markdown",
   "id": "6e31d82f",
   "metadata": {},
   "source": [
    "## Indexing and Slicing"
   ]
  },
  {
   "cell_type": "code",
   "execution_count": null,
   "id": "507d38cf",
   "metadata": {},
   "outputs": [],
   "source": [
    "a=[213,324,4524,564,765,45]"
   ]
  },
  {
   "cell_type": "code",
   "execution_count": 21,
   "id": "8ac81b03",
   "metadata": {},
   "outputs": [
    {
     "data": {
      "text/plain": [
       "array([3, 2, 1])"
      ]
     },
     "execution_count": 21,
     "metadata": {},
     "output_type": "execute_result"
    }
   ],
   "source": [
    "# if you not provide step value the  nodata will be show\n",
    "a[-1:-4:-1]"
   ]
  },
  {
   "cell_type": "code",
   "execution_count": null,
   "id": "8c337dfc",
   "metadata": {},
   "outputs": [
    {
     "data": {
      "text/plain": [
       "array([], dtype=int32)"
      ]
     },
     "execution_count": 22,
     "metadata": {},
     "output_type": "execute_result"
    }
   ],
   "source": [
    "# without step value\n",
    "a[-1:-4]"
   ]
  },
  {
   "cell_type": "code",
   "execution_count": 23,
   "id": "856d50b3",
   "metadata": {},
   "outputs": [
    {
     "data": {
      "text/plain": [
       "array([1, 3])"
      ]
     },
     "execution_count": 23,
     "metadata": {},
     "output_type": "execute_result"
    }
   ],
   "source": [
    "a[::2]"
   ]
  },
  {
   "cell_type": "code",
   "execution_count": 24,
   "id": "0331357b",
   "metadata": {},
   "outputs": [
    {
     "data": {
      "text/plain": [
       "array([10, 30, 50])"
      ]
     },
     "execution_count": 24,
     "metadata": {},
     "output_type": "execute_result"
    }
   ],
   "source": [
    "arr=np.array([10,20,30,40,50])\n",
    "# indexes=0,2,4\n",
    "arr[::2]"
   ]
  },
  {
   "cell_type": "code",
   "execution_count": 27,
   "id": "7e915907",
   "metadata": {},
   "outputs": [
    {
     "data": {
      "text/plain": [
       "50"
      ]
     },
     "execution_count": 27,
     "metadata": {},
     "output_type": "execute_result"
    }
   ],
   "source": [
    "# negative indixng to access last element of the numpy array\n",
    "arr[-1]"
   ]
  },
  {
   "cell_type": "code",
   "execution_count": 28,
   "id": "9335d5a8",
   "metadata": {},
   "outputs": [
    {
     "name": "stdout",
     "output_type": "stream",
     "text": [
      "50\n"
     ]
    }
   ],
   "source": [
    "print(arr[-1])"
   ]
  },
  {
   "cell_type": "code",
   "execution_count": 32,
   "id": "b47df4ad",
   "metadata": {},
   "outputs": [
    {
     "name": "stdout",
     "output_type": "stream",
     "text": [
      "[[1 2 3]\n",
      " [4 5 6]\n",
      " [7 8 9]]\n"
     ]
    }
   ],
   "source": [
    "import numpy as np\n",
    "\n",
    "matrix = np.array([[1,2,3],\n",
    "                   [4,5,6],\n",
    "                   [7,8,9]])\n",
    "\n",
    "print(matrix)\n"
   ]
  },
  {
   "cell_type": "code",
   "execution_count": 33,
   "id": "2e9f77de",
   "metadata": {},
   "outputs": [
    {
     "name": "stdout",
     "output_type": "stream",
     "text": [
      "[[1 2 3]\n",
      " [4 5 6]]\n"
     ]
    }
   ],
   "source": [
    "print(matrix[0:2, :])"
   ]
  },
  {
   "cell_type": "code",
   "execution_count": 34,
   "id": "d24e7d35",
   "metadata": {},
   "outputs": [
    {
     "name": "stdout",
     "output_type": "stream",
     "text": [
      "[[5 6]\n",
      " [8 9]]\n"
     ]
    }
   ],
   "source": [
    "print(matrix[1: ,1:])"
   ]
  },
  {
   "cell_type": "markdown",
   "id": "0516dacd",
   "metadata": {},
   "source": [
    "# Index arrays->Advance Indexing"
   ]
  },
  {
   "cell_type": "code",
   "execution_count": 35,
   "id": "051011c5",
   "metadata": {},
   "outputs": [
    {
     "name": "stdout",
     "output_type": "stream",
     "text": [
      "[10 30]\n"
     ]
    }
   ],
   "source": [
    "#np.take-> built in function to perform indexing and slicing \n",
    "arr=np.array([10,20,30,40,50,])\n",
    "ind=[0,2]\n",
    "print(np.take(arr,ind))"
   ]
  },
  {
   "cell_type": "markdown",
   "id": "874d0ec4",
   "metadata": {},
   "source": [
    "# Iterating with nditer()"
   ]
  },
  {
   "cell_type": "code",
   "execution_count": null,
   "id": "a1752fa7",
   "metadata": {},
   "outputs": [],
   "source": [
    "arr =np.array([[1,2],[3,4]])"
   ]
  },
  {
   "cell_type": "code",
   "execution_count": 36,
   "id": "b3859a0b",
   "metadata": {},
   "outputs": [
    {
     "name": "stdout",
     "output_type": "stream",
     "text": [
      "10 20 30 40 50 "
     ]
    }
   ],
   "source": [
    "for x in np.nditer(arr):\n",
    "    print(x,end=\" \")"
   ]
  },
  {
   "cell_type": "code",
   "execution_count": 37,
   "id": "140c9fd9",
   "metadata": {},
   "outputs": [
    {
     "name": "stdout",
     "output_type": "stream",
     "text": [
      "(0,) 10\n",
      "(1,) 20\n",
      "(2,) 30\n",
      "(3,) 40\n",
      "(4,) 50\n"
     ]
    }
   ],
   "source": [
    "# ndenumerate( )-> both index +value\n",
    "\n",
    "for ind, x in np.ndenumerate(arr):\n",
    "    print(ind,x)"
   ]
  },
  {
   "cell_type": "code",
   "execution_count": 38,
   "id": "7969c7ec",
   "metadata": {},
   "outputs": [
    {
     "data": {
      "text/plain": [
       "array([2, 3])"
      ]
     },
     "execution_count": 38,
     "metadata": {},
     "output_type": "execute_result"
    }
   ],
   "source": [
    "# Views vs Copies\n",
    "\n",
    "arr=np.array([1,2,3,4,5])\n",
    "view =arr[1:3]\n",
    "view"
   ]
  },
  {
   "cell_type": "code",
   "execution_count": 40,
   "id": "d6fdf667",
   "metadata": {},
   "outputs": [
    {
     "data": {
      "text/plain": [
       "array([  1, 200,   3,   4,   5])"
      ]
     },
     "execution_count": 40,
     "metadata": {},
     "output_type": "execute_result"
    }
   ],
   "source": [
    "# modifying the array \n",
    "copy=view[0]=200\n",
    "\n",
    "arr"
   ]
  },
  {
   "cell_type": "code",
   "execution_count": 42,
   "id": "95f6e13e",
   "metadata": {},
   "outputs": [
    {
     "data": {
      "text/plain": [
       "array([200,   3])"
      ]
     },
     "execution_count": 42,
     "metadata": {},
     "output_type": "execute_result"
    }
   ],
   "source": [
    "# copy\n",
    "copy=arr[1:3].copy()\n",
    "copy"
   ]
  },
  {
   "cell_type": "code",
   "execution_count": null,
   "id": "b131c328",
   "metadata": {},
   "outputs": [
    {
     "data": {
      "text/plain": [
       "array([  1, 200,   3,   4,   5])"
      ]
     },
     "execution_count": 43,
     "metadata": {},
     "output_type": "execute_result"
    }
   ],
   "source": [
    "# the values arr unchanged\n",
    "arr"
   ]
  },
  {
   "cell_type": "code",
   "execution_count": 45,
   "id": "000c63e4",
   "metadata": {},
   "outputs": [
    {
     "name": "stdout",
     "output_type": "stream",
     "text": [
      "[  1 200   3   4   5]\n"
     ]
    }
   ],
   "source": [
    "# Transpose of a matrix\n",
    "print(arr.transpose())"
   ]
  },
  {
   "cell_type": "code",
   "execution_count": 46,
   "id": "c03245c8",
   "metadata": {},
   "outputs": [
    {
     "data": {
      "text/plain": [
       "array([[1, 2],\n",
       "       [3, 4]])"
      ]
     },
     "execution_count": 46,
     "metadata": {},
     "output_type": "execute_result"
    }
   ],
   "source": [
    "arr=np.array([[1,2],[3,4]])\n",
    "arr"
   ]
  },
  {
   "cell_type": "code",
   "execution_count": 47,
   "id": "cb6a7bc6",
   "metadata": {},
   "outputs": [
    {
     "name": "stdout",
     "output_type": "stream",
     "text": [
      "[[1 3]\n",
      " [2 4]]\n"
     ]
    }
   ],
   "source": [
    "print(arr.transpose())"
   ]
  },
  {
   "cell_type": "markdown",
   "id": "ca0d5f81",
   "metadata": {},
   "source": [
    "# Swapaxes->swap 2 specific axes in a matrix\n"
   ]
  },
  {
   "cell_type": "code",
   "execution_count": 48,
   "id": "ef9da1fa",
   "metadata": {},
   "outputs": [
    {
     "data": {
      "text/plain": [
       "(1, 2, 2)"
      ]
     },
     "execution_count": 48,
     "metadata": {},
     "output_type": "execute_result"
    }
   ],
   "source": [
    "arr=np.array([[[1,2],[3,4]]])\n",
    "arr.shape"
   ]
  },
  {
   "cell_type": "code",
   "execution_count": 49,
   "id": "e42e567a",
   "metadata": {},
   "outputs": [
    {
     "data": {
      "text/plain": [
       "(2, 1, 2)"
      ]
     },
     "execution_count": 49,
     "metadata": {},
     "output_type": "execute_result"
    }
   ],
   "source": [
    "swap=np.swapaxes(arr,0,1)\n",
    "swap.shape"
   ]
  },
  {
   "cell_type": "code",
   "execution_count": null,
   "id": "e8206d4b",
   "metadata": {},
   "outputs": [],
   "source": [
    "# concatenation:\n",
    "a=np.array([1,2])\n",
    "b=np.array([3,4])"
   ]
  },
  {
   "cell_type": "code",
   "execution_count": 50,
   "id": "6301c9c7",
   "metadata": {},
   "outputs": [
    {
     "data": {
      "text/plain": [
       "array([1, 2, 3, 4, 5, 6])"
      ]
     },
     "execution_count": 50,
     "metadata": {},
     "output_type": "execute_result"
    }
   ],
   "source": [
    "combine =np.concatenate((a,b))\n",
    "combine"
   ]
  },
  {
   "cell_type": "code",
   "execution_count": 56,
   "id": "249b6111",
   "metadata": {},
   "outputs": [],
   "source": [
    "import numpy as np\n",
    "arr1=np.array([[1,2],[3,4]])\n",
    "arr2=np.array([[1,2],[3,4]])"
   ]
  },
  {
   "cell_type": "code",
   "execution_count": 60,
   "id": "fc536d76",
   "metadata": {},
   "outputs": [
    {
     "name": "stdout",
     "output_type": "stream",
     "text": [
      "[[1 2]\n",
      " [3 4]\n",
      " [1 2]\n",
      " [3 4]]\n"
     ]
    }
   ],
   "source": [
    "print(np.vstack((arr1,arr2)))"
   ]
  },
  {
   "cell_type": "code",
   "execution_count": 58,
   "id": "5bbb5b3e",
   "metadata": {},
   "outputs": [
    {
     "name": "stdout",
     "output_type": "stream",
     "text": [
      "[[1 2 1 2]\n",
      " [3 4 3 4]]\n"
     ]
    }
   ],
   "source": [
    "print(np.hstack((arr1,arr2)))"
   ]
  },
  {
   "cell_type": "code",
   "execution_count": 63,
   "id": "82d47a07",
   "metadata": {},
   "outputs": [
    {
     "name": "stdout",
     "output_type": "stream",
     "text": [
      "[[[1 2]\n",
      "  [3 4]]\n",
      "\n",
      " [[1 2]\n",
      "  [3 4]]]\n"
     ]
    }
   ],
   "source": [
    "print(np.stack((arr1,arr2), axis=0))"
   ]
  },
  {
   "cell_type": "code",
   "execution_count": 64,
   "id": "7459ebf2",
   "metadata": {},
   "outputs": [
    {
     "name": "stdout",
     "output_type": "stream",
     "text": [
      "[[[1 2]\n",
      "  [1 2]]\n",
      "\n",
      " [[3 4]\n",
      "  [3 4]]]\n"
     ]
    }
   ],
   "source": [
    "print(np.stack((arr1,arr2), axis=1))"
   ]
  },
  {
   "cell_type": "code",
   "execution_count": 67,
   "id": "5efc3aeb",
   "metadata": {},
   "outputs": [
    {
     "name": "stdout",
     "output_type": "stream",
     "text": [
      "[array([[1, 2]]), array([[3, 4]])]\n"
     ]
    }
   ],
   "source": [
    "# spliting the arr\n",
    "print(np.split(arr1,2))"
   ]
  },
  {
   "cell_type": "code",
   "execution_count": 68,
   "id": "c0ebdfac",
   "metadata": {},
   "outputs": [
    {
     "name": "stdout",
     "output_type": "stream",
     "text": [
      "[1 1 1 2 2 2 3 3 3 4 4 4]\n"
     ]
    }
   ],
   "source": [
    "# repealt will going to repeat the array n number of time\n",
    "print(np.repeat(arr,3))"
   ]
  },
  {
   "cell_type": "code",
   "execution_count": 72,
   "id": "59c514c7",
   "metadata": {},
   "outputs": [
    {
     "data": {
      "text/plain": [
       "array([[[1, 2],\n",
       "        [3, 4]]])"
      ]
     },
     "execution_count": 72,
     "metadata": {},
     "output_type": "execute_result"
    }
   ],
   "source": [
    "arr"
   ]
  },
  {
   "cell_type": "code",
   "execution_count": 73,
   "id": "17eddfe6",
   "metadata": {},
   "outputs": [
    {
     "name": "stdout",
     "output_type": "stream",
     "text": [
      "[1 2 4 5 6 7 8 1 2 4 5 6 7 8]\n"
     ]
    }
   ],
   "source": [
    "# title -> repeat my whole array\n",
    "print(np.tile([1,2,4,5,6,7,8],2))"
   ]
  },
  {
   "cell_type": "code",
   "execution_count": 74,
   "id": "debd7797",
   "metadata": {},
   "outputs": [
    {
     "name": "stdout",
     "output_type": "stream",
     "text": [
      "6\n"
     ]
    }
   ],
   "source": [
    "# Aggregate Functions:\n",
    "\n",
    "arr =np.array([1,2,3])\n",
    "print(np.sum(arr))"
   ]
  },
  {
   "cell_type": "code",
   "execution_count": 75,
   "id": "b75397c8",
   "metadata": {},
   "outputs": [
    {
     "data": {
      "text/plain": [
       "2.0"
      ]
     },
     "execution_count": 75,
     "metadata": {},
     "output_type": "execute_result"
    }
   ],
   "source": [
    "np.mean(arr)"
   ]
  },
  {
   "cell_type": "code",
   "execution_count": null,
   "id": "d4190b9d",
   "metadata": {},
   "outputs": [
    {
     "data": {
      "text/plain": [
       "0.816496580927726"
      ]
     },
     "execution_count": 76,
     "metadata": {},
     "output_type": "execute_result"
    }
   ],
   "source": [
    "# standerd daviation \n",
    "np.std(arr)"
   ]
  },
  {
   "cell_type": "code",
   "execution_count": 77,
   "id": "f7ebf601",
   "metadata": {},
   "outputs": [
    {
     "data": {
      "text/plain": [
       "0.6666666666666666"
      ]
     },
     "execution_count": 77,
     "metadata": {},
     "output_type": "execute_result"
    }
   ],
   "source": [
    "np.var(arr)"
   ]
  },
  {
   "cell_type": "code",
   "execution_count": 78,
   "id": "e7bf09c1",
   "metadata": {},
   "outputs": [
    {
     "data": {
      "text/plain": [
       "1"
      ]
     },
     "execution_count": 78,
     "metadata": {},
     "output_type": "execute_result"
    }
   ],
   "source": [
    "np.min(arr)"
   ]
  },
  {
   "cell_type": "code",
   "execution_count": 79,
   "id": "e591ca8d",
   "metadata": {},
   "outputs": [
    {
     "name": "stdout",
     "output_type": "stream",
     "text": [
      "[12 15 18]\n"
     ]
    }
   ],
   "source": [
    "print(np.sum(matrix,axis=0))"
   ]
  },
  {
   "cell_type": "code",
   "execution_count": 80,
   "id": "0c22da0a",
   "metadata": {},
   "outputs": [
    {
     "data": {
      "text/plain": [
       "array([1, 2, 3])"
      ]
     },
     "execution_count": 80,
     "metadata": {},
     "output_type": "execute_result"
    }
   ],
   "source": [
    "# Cumulative Operations-> running total\n",
    "\n",
    "arr"
   ]
  },
  {
   "cell_type": "code",
   "execution_count": 81,
   "id": "1247ce16",
   "metadata": {},
   "outputs": [
    {
     "name": "stdout",
     "output_type": "stream",
     "text": [
      "[1 3 6]\n"
     ]
    }
   ],
   "source": [
    "print(np.cumsum(arr))"
   ]
  },
  {
   "cell_type": "code",
   "execution_count": 83,
   "id": "09ccfb60",
   "metadata": {},
   "outputs": [
    {
     "data": {
      "text/plain": [
       "array([1, 2, 3])"
      ]
     },
     "execution_count": 83,
     "metadata": {},
     "output_type": "execute_result"
    }
   ],
   "source": [
    "# Where :\n",
    "arr"
   ]
  },
  {
   "cell_type": "code",
   "execution_count": 84,
   "id": "a5639c49",
   "metadata": {},
   "outputs": [],
   "source": [
    "result =np.where(arr<2,\"low\",\"high\")"
   ]
  },
  {
   "cell_type": "code",
   "execution_count": 85,
   "id": "e0d94436",
   "metadata": {},
   "outputs": [
    {
     "data": {
      "text/plain": [
       "array(['low', 'high', 'high'], dtype='<U4')"
      ]
     },
     "execution_count": 85,
     "metadata": {},
     "output_type": "execute_result"
    }
   ],
   "source": [
    "result"
   ]
  },
  {
   "cell_type": "code",
   "execution_count": null,
   "id": "99bec081",
   "metadata": {},
   "outputs": [],
   "source": []
  }
 ],
 "metadata": {
  "kernelspec": {
   "display_name": "Python 3",
   "language": "python",
   "name": "python3"
  },
  "language_info": {
   "codemirror_mode": {
    "name": "ipython",
    "version": 3
   },
   "file_extension": ".py",
   "mimetype": "text/x-python",
   "name": "python",
   "nbconvert_exporter": "python",
   "pygments_lexer": "ipython3",
   "version": "3.8.7"
  }
 },
 "nbformat": 4,
 "nbformat_minor": 5
}
