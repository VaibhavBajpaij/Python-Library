{
 "cells": [
  {
   "cell_type": "markdown",
   "id": "d930a11e",
   "metadata": {},
   "source": [
    "# why we are using Pandas"
   ]
  },
  {
   "cell_type": "markdown",
   "id": "cf98dbf6",
   "metadata": {},
   "source": [
    "# 📊 Pandas Overview  \n",
    "\n",
    "**Pandas** is a powerful Python library used for **data manipulation and analysis**.  \n",
    "It provides efficient and flexible data structures like **DataFrame** (2D) and **Series** (1D),  \n",
    "making it easy to **clean, transform, and analyze data**.  \n",
    "\n",
    "---\n",
    "\n",
    "## 🔹 Key Features of Pandas  \n",
    "\n",
    "- 📥 **Easy Data Import** → from CSV, Excel, SQL, etc.  \n",
    "- 🧹 **Data Cleansing** → handle missing or incorrect values easily.  \n",
    "- 📏 **Size Mutability** → add/delete columns and rows dynamically.  \n",
    "- 🔄 **Reshaping and Pivoting** → transform datasets into desired formats.  \n",
    "- ⚡ **Efficient Data Manipulation & Extraction** → fast filtering, selection, and aggregation.  \n"
   ]
  },
  {
   "cell_type": "markdown",
   "id": "2d3c33c5",
   "metadata": {},
   "source": [
    "# There are mainly two Data Structures in Pandas  \n",
    "\n",
    "## 1. **Series** → 1D  \n",
    "## 2. **DataFrame** → 2D  \n",
    "\n",
    "**Data Structures** are collections of data types that provide the best way of organizing items (values) in terms of memory usage.\n"
   ]
  },
  {
   "cell_type": "markdown",
   "id": "bd4d058b",
   "metadata": {},
   "source": [
    "| Feature                            | **Series** (1D)                                         | **DataFrame** (2D)                                               |\n",
    "|------------------------------------|---------------------------------------------------------|-------------------------------------------------------------------|\n",
    "| **Definition**                     | One-dimensional labeled array                           | Two-dimensional labeled table (rows + columns)                    |\n",
    "| **Values mutability**              | **Mutable** — elements can be assigned/changed in-place | **Mutable** — cell values can be assigned/changed in-place        |\n",
    "| **Structural mutability**          | Structural ops (drop/concat/reindex) **usually return a new object** | Structural ops (drop/concat/rename) **usually return a new object** |\n",
    "| **Index / axes**                   | Single index                                            | Row index + column labels                                         |\n",
    "| **Data types**                     | Typically homogeneous (backed by ndarray)               | Heterogeneous (different dtypes per column)                       |\n",
    "| **Common creation**                | `pd.Series([1,2,3])`                                    | `pd.DataFrame({'a':[1,2],'b':[3,4]})`                             |\n",
    "| **Interview tip**                  | Emphasize difference: *values* can change in-place; *structure* changes often create copies. |\n"
   ]
  },
  {
   "cell_type": "code",
   "execution_count": 28,
   "id": "74233dcc",
   "metadata": {},
   "outputs": [
    {
     "name": "stdout",
     "output_type": "stream",
     "text": [
      "Original Series:\n",
      " 0    1\n",
      "1    2\n",
      "2    3\n",
      "dtype: int64\n",
      "\n",
      "After s[0] = 100 (value mutation):\n",
      " 0    100\n",
      "1      2\n",
      "2      3\n",
      "dtype: int64\n",
      "\n",
      "Original DataFrame:\n",
      "     A   B\n",
      "0  10  30\n",
      "1  20  40\n",
      "\n",
      "After df.loc[0,'A'] = 999 (value mutation):\n",
      "      A   B\n",
      "0  999  30\n",
      "1   20  40\n"
     ]
    }
   ],
   "source": [
    "import pandas as pd\n",
    "#1. Values are mutable (in-place change works)\n",
    "# Series Example\n",
    "s = pd.Series([1, 2, 3])\n",
    "print(\"Original Series:\\n\", s)\n",
    "\n",
    "# Change element in-place\n",
    "s[0] = 100\n",
    "print(\"\\nAfter s[0] = 100 (value mutation):\\n\", s)\n",
    "\n",
    "# DataFrame Example\n",
    "df = pd.DataFrame({\"A\": [10, 20], \"B\": [30, 40]})\n",
    "print(\"\\nOriginal DataFrame:\\n\", df)\n",
    "\n",
    "# Change a single cell in-place\n",
    "df.loc[0, \"A\"] = 999\n",
    "print(\"\\nAfter df.loc[0,'A'] = 999 (value mutation):\\n\", df)\n"
   ]
  },
  {
   "cell_type": "code",
   "execution_count": 29,
   "id": "2254fa4b",
   "metadata": {},
   "outputs": [
    {
     "name": "stdout",
     "output_type": "stream",
     "text": [
      "\n",
      "Result of s.drop(1):\n",
      " 0    100\n",
      "2      3\n",
      "dtype: int64\n",
      "\n",
      "Original Series remains unchanged:\n",
      " 0    100\n",
      "1      2\n",
      "2      3\n",
      "dtype: int64\n",
      "\n",
      "Result of df.drop(columns='B'):\n",
      "      A\n",
      "0  999\n",
      "1   20\n",
      "\n",
      "Original DataFrame remains unchanged:\n",
      "      A   B\n",
      "0  999  30\n",
      "1   20  40\n"
     ]
    }
   ],
   "source": [
    "#🔹 2. Structural changes return new objects (immutability-like behavior)\n",
    "# Drop operation on Series\n",
    "s2 = s.drop(1)   # removes index 1\n",
    "print(\"\\nResult of s.drop(1):\\n\", s2)\n",
    "print(\"\\nOriginal Series remains unchanged:\\n\", s)\n",
    "\n",
    "# Drop operation on DataFrame\n",
    "df2 = df.drop(columns=\"B\")\n",
    "print(\"\\nResult of df.drop(columns='B'):\\n\", df2)\n",
    "print(\"\\nOriginal DataFrame remains unchanged:\\n\", df)"
   ]
  },
  {
   "cell_type": "markdown",
   "id": "88d19262",
   "metadata": {},
   "source": [
    "## 🔑 Pandas Mutability (Interview Note)\n",
    "\n",
    "- **Series & DataFrame are not fully immutable.**  \n",
    "- **Values are mutable** → can update in-place (`s[0]=5`, `df.loc[0,'col']=7`).  \n",
    "- **Structural changes** (add/remove rows/cols) → usually return a **new object** (`drop`, `concat`, `reindex`).  \n",
    "- `inplace=True` exists but is discouraged (may still copy internally).  \n",
    "\n",
    "👉 **Interview phrasing:**  \n",
    "“Pandas allows in-place modification of values, but structural operations generally return new objects — so treat element mutation and structure mutation differently.”\n"
   ]
  },
  {
   "cell_type": "markdown",
   "id": "075fb023",
   "metadata": {},
   "source": [
    "## 🔹 Homogeneous Nature of Pandas Series  \n",
    "\n",
    "- A **Series is homogeneous** → all elements share the **same dtype**.  \n",
    "- If we insert a different type, Pandas **upcasts** all values to the most common compatible dtype.  \n",
    "\n",
    "### Example:\n",
    "\n",
    "\n"
   ]
  },
  {
   "cell_type": "code",
   "execution_count": 30,
   "id": "42da6ce8",
   "metadata": {},
   "outputs": [
    {
     "name": "stdout",
     "output_type": "stream",
     "text": [
      "0      10\n",
      "1      23\n",
      "2      43\n",
      "3      54\n",
      "4    abcs\n",
      "dtype: object\n",
      "Dtype: object\n",
      "0    10\n",
      "1    23\n",
      "2    43\n",
      "3    54\n",
      "dtype: int64\n",
      "Dtype: int64\n"
     ]
    }
   ],
   "source": [
    "import pandas as pd\n",
    "\n",
    "# Mixed types: int + string\n",
    "s3 = pd.Series([10, 23, 43, 54, \"abcs\"])\n",
    "print(s3)\n",
    "print(\"Dtype:\", s1.dtype)\n",
    "\n",
    "# Pure integers\n",
    "s2 = pd.Series([10, 23, 43, 54])\n",
    "print(s2)\n",
    "print(\"Dtype:\", s2.dtype)"
   ]
  },
  {
   "cell_type": "code",
   "execution_count": 31,
   "id": "9992059e",
   "metadata": {},
   "outputs": [
    {
     "data": {
      "text/plain": [
       "0    10\n",
       "1    23\n",
       "2    43\n",
       "3     4\n",
       "4    45\n",
       "5    56\n",
       "6    78\n",
       "dtype: int64"
      ]
     },
     "execution_count": 31,
     "metadata": {},
     "output_type": "execute_result"
    }
   ],
   "source": [
    "s=pd.Series([10,23,43,4,45,56,78])\n",
    "s"
   ]
  },
  {
   "cell_type": "code",
   "execution_count": 32,
   "id": "1f25e623",
   "metadata": {},
   "outputs": [
    {
     "data": {
      "text/plain": [
       "dtype('int64')"
      ]
     },
     "execution_count": 32,
     "metadata": {},
     "output_type": "execute_result"
    }
   ],
   "source": [
    "s.dtype"
   ]
  },
  {
   "cell_type": "code",
   "execution_count": 33,
   "id": "6ee57f56",
   "metadata": {},
   "outputs": [
    {
     "name": "stdout",
     "output_type": "stream",
     "text": [
      "None\n"
     ]
    }
   ],
   "source": [
    "#here we are give s.name and it give None b/c we have not asign any value to \n",
    "#the column\n",
    "print(s.name)"
   ]
  },
  {
   "cell_type": "code",
   "execution_count": 34,
   "id": "c5cf1018",
   "metadata": {},
   "outputs": [],
   "source": [
    "# now I am assinging the value the to the colume \n",
    "s.name=\"numbers\""
   ]
  },
  {
   "cell_type": "code",
   "execution_count": 35,
   "id": "1f4d826e",
   "metadata": {},
   "outputs": [
    {
     "name": "stdout",
     "output_type": "stream",
     "text": [
      "0    10\n",
      "1    23\n",
      "2    43\n",
      "3     4\n",
      "4    45\n",
      "5    56\n",
      "6    78\n",
      "Name: numbers, dtype: int64\n"
     ]
    }
   ],
   "source": [
    "print(s)"
   ]
  },
  {
   "cell_type": "markdown",
   "id": "9b874ec2",
   "metadata": {},
   "source": [
    "# 📌 Indexing in Pandas Series  \n",
    "\n",
    "A **Series** is like a 1D array with **labels (index)**. Indexing helps access, slice, and filter elements efficiently.  \n",
    "\n",
    "---\n",
    "\n",
    "## 🔹 Types of Indexing  \n",
    "\n",
    "1. **Default Indexing**\n",
    "   - Pandas assigns an integer index starting from 0.\n",
    "   ```python\n",
    "   s = pd.Series([10, 20, 30, 40])\n",
    "   print(s[0])   # Access first element → 10\n"
   ]
  },
  {
   "cell_type": "code",
   "execution_count": 36,
   "id": "52a047e3",
   "metadata": {},
   "outputs": [
    {
     "name": "stdout",
     "output_type": "stream",
     "text": [
      "10\n"
     ]
    },
    {
     "data": {
      "text/plain": [
       "0    10\n",
       "1    23\n",
       "Name: numbers, dtype: int64"
      ]
     },
     "execution_count": 36,
     "metadata": {},
     "output_type": "execute_result"
    }
   ],
   "source": [
    "# 1.Default Indexing\n",
    "s4 = pd.Series([10, 20, 30, 40])\n",
    "print(s4[0])\n",
    "#for selecting a multiple index we use \n",
    "s[0:2] # state(included ): stop value (values to jump)\n"
   ]
  },
  {
   "cell_type": "markdown",
   "id": "5958a111",
   "metadata": {},
   "source": [
    "# 2.Custom Indexing\n",
    "\n",
    "# You can define custom labels for indices."
   ]
  },
  {
   "cell_type": "code",
   "execution_count": null,
   "id": "63a07913",
   "metadata": {},
   "outputs": [],
   "source": [
    "\n",
    "\n",
    "s = pd.Series([10, 20, 30], index=['a', 'b', 'c'])\n",
    "print(s['b'])   # Access element with label 'b' → 20\n",
    "\n",
    "\n",
    "\n",
    "\n",
    "\n",
    "\n",
    "\n",
    "\n",
    "\n",
    "\n",
    "\n",
    "\n",
    "\n",
    "\n",
    "\n",
    "\n",
    "\n",
    "\n"
   ]
  },
  {
   "cell_type": "markdown",
   "id": "b34719fd",
   "metadata": {},
   "source": [
    "# 3.Slicing\n",
    "\n",
    "## Works similar to Python lists (start:end)."
   ]
  },
  {
   "cell_type": "code",
   "execution_count": null,
   "id": "9e666b74",
   "metadata": {},
   "outputs": [],
   "source": [
    "s = pd.Series([10, 20, 30, 40, 50])\n",
    "print(s[1:4])   # Elements at positions 1 to 3"
   ]
  },
  {
   "cell_type": "markdown",
   "id": "55b1a963",
   "metadata": {},
   "source": [
    "# 4.Label-based Indexing (.loc)\n",
    "\n",
    "## Access elements using index labels."
   ]
  },
  {
   "cell_type": "code",
   "execution_count": null,
   "id": "e62e585b",
   "metadata": {},
   "outputs": [],
   "source": [
    "s = pd.Series([100, 200, 300], index=['x', 'y', 'z'])\n",
    "print(s.loc['y'])   # → 200"
   ]
  },
  {
   "cell_type": "markdown",
   "id": "73ad04af",
   "metadata": {},
   "source": [
    "# 5.Position-based Indexing (.iloc)\n",
    "\n",
    "## Access elements using integer positions."
   ]
  },
  {
   "cell_type": "code",
   "execution_count": 41,
   "id": "5797959c",
   "metadata": {},
   "outputs": [
    {
     "name": "stdout",
     "output_type": "stream",
     "text": [
      "200\n"
     ]
    }
   ],
   "source": [
    "s = pd.Series([100, 200, 300], index=['x', 'y', 'z'])\n",
    "print(s.iloc[1])   # → 200"
   ]
  },
  {
   "cell_type": "code",
   "execution_count": 43,
   "id": "a6da0a33",
   "metadata": {},
   "outputs": [
    {
     "data": {
      "text/plain": [
       "x    100\n",
       "y    200\n",
       "z    300\n",
       "dtype: int64"
      ]
     },
     "execution_count": 43,
     "metadata": {},
     "output_type": "execute_result"
    }
   ],
   "source": [
    "s.iloc[[0,1,2]]"
   ]
  },
  {
   "cell_type": "markdown",
   "id": "a03821b5",
   "metadata": {},
   "source": [
    "\n",
    "# 6.Boolean Indexing\n",
    "\n",
    "## Filter elements based on conditions."
   ]
  },
  {
   "cell_type": "code",
   "execution_count": 44,
   "id": "b42d6bd8",
   "metadata": {},
   "outputs": [
    {
     "name": "stdout",
     "output_type": "stream",
     "text": [
      "2    30\n",
      "3    40\n",
      "4    50\n",
      "dtype: int64\n"
     ]
    }
   ],
   "source": [
    "s = pd.Series([10, 20, 30, 40, 50])\n",
    "print(s[s > 25])   # Returns elements > 25"
   ]
  },
  {
   "cell_type": "markdown",
   "id": "1842fd7f",
   "metadata": {},
   "source": [
    "# 📌 Creating a Pandas Series from a Dictionary  \n",
    "\n",
    "- A **dictionary** in Python has **key-value pairs**.  \n",
    "- In Pandas Series:\n",
    "  - **Keys** → become **index labels**  \n",
    "  - **Values** → become **data elements**  \n",
    "\n",
    "### Example:\n",
    "```python\n",
    "\n",
    "\n",
    "# Dictionary\n",
    "\n"
   ]
  },
  {
   "cell_type": "code",
   "execution_count": 46,
   "id": "92325615",
   "metadata": {},
   "outputs": [
    {
     "name": "stdout",
     "output_type": "stream",
     "text": [
      "Series from Dictionary:\n",
      " Apple                     0.3\n",
      "Banana                    1.1\n",
      "Orange                    0.9\n",
      "Mango                     0.8\n",
      "Papaya                    0.5\n",
      "Guava                     2.6\n",
      "Grapes                    0.6\n",
      "Pineapple                 0.5\n",
      "Strawberry                0.8\n",
      "Blueberry                 0.7\n",
      "Blackberry                1.4\n",
      "Raspberry                 1.2\n",
      "Kiwi                      1.1\n",
      "Pomegranate               1.7\n",
      "Watermelon                0.6\n",
      "Cantaloupe (Muskmelon)    0.8\n",
      "Cherry                    1.0\n",
      "Peach                     0.9\n",
      "Pear                      0.4\n",
      "Plum                      0.7\n",
      "Apricot                   1.4\n",
      "Fig                       0.8\n",
      "Date                      1.8\n",
      "Jackfruit                 1.7\n",
      "Avocado                   2.0\n",
      "Dragon Fruit              1.2\n",
      "Lychee                    0.8\n",
      "Coconut (fresh)           3.3\n",
      "Name: protein, dtype: float64\n",
      "\n",
      "Index: Index(['Apple', 'Banana', 'Orange', 'Mango', 'Papaya', 'Guava', 'Grapes',\n",
      "       'Pineapple', 'Strawberry', 'Blueberry', 'Blackberry', 'Raspberry',\n",
      "       'Kiwi', 'Pomegranate', 'Watermelon', 'Cantaloupe (Muskmelon)', 'Cherry',\n",
      "       'Peach', 'Pear', 'Plum', 'Apricot', 'Fig', 'Date', 'Jackfruit',\n",
      "       'Avocado', 'Dragon Fruit', 'Lychee', 'Coconut (fresh)'],\n",
      "      dtype='object')\n",
      "Values: [0.3 1.1 0.9 0.8 0.5 2.6 0.6 0.5 0.8 0.7 1.4 1.2 1.1 1.7 0.6 0.8 1.  0.9\n",
      " 0.4 0.7 1.4 0.8 1.8 1.7 2.  1.2 0.8 3.3]\n"
     ]
    }
   ],
   "source": [
    "\n",
    "# Dictionary of fruits and their protein content (grams per 100g)\n",
    "fruits_protein = {\n",
    "    \"Apple\": 0.3,\n",
    "    \"Banana\": 1.1,\n",
    "    \"Orange\": 0.9,\n",
    "    \"Mango\": 0.8,\n",
    "    \"Papaya\": 0.5,\n",
    "    \"Guava\": 2.6,\n",
    "    \"Grapes\": 0.6,\n",
    "    \"Pineapple\": 0.5,\n",
    "    \"Strawberry\": 0.8,\n",
    "    \"Blueberry\": 0.7,\n",
    "    \"Blackberry\": 1.4,\n",
    "    \"Raspberry\": 1.2,\n",
    "    \"Kiwi\": 1.1,\n",
    "    \"Pomegranate\": 1.7,\n",
    "    \"Watermelon\": 0.6,\n",
    "    \"Cantaloupe (Muskmelon)\": 0.8,\n",
    "    \"Cherry\": 1.0,\n",
    "    \"Peach\": 0.9,\n",
    "    \"Pear\": 0.4,\n",
    "    \"Plum\": 0.7,\n",
    "    \"Apricot\": 1.4,\n",
    "    \"Fig\": 0.8,\n",
    "    \"Date\": 1.8,\n",
    "    \"Jackfruit\": 1.7,\n",
    "    \"Avocado\": 2.0,\n",
    "    \"Dragon Fruit\": 1.2,\n",
    "    \"Lychee\": 0.8,\n",
    "    \"Coconut (fresh)\": 3.3\n",
    "}\n",
    "\n",
    "\n",
    "# Create Series from dictionary\n",
    "s = pd.Series(fruits_protein,name=\"protein\")\n",
    "\n",
    "print(\"Series from Dictionary:\\n\", s)\n",
    "print(\"\\nIndex:\", s.index)\n",
    "print(\"Values:\", s.values)"
   ]
  },
  {
   "cell_type": "markdown",
   "id": "0e39ceec",
   "metadata": {},
   "source": [
    "### ✅ Conditional Selection in Pandas\n",
    "\n",
    "- **Definition:** Selecting rows/values based on a condition (Boolean indexing).\n",
    "- Works like filtering in SQL/Excel.\n",
    "- Returns only the data that matches the condition.**\n",
    "\n",
    "\n",
    "\n",
    "### 📌 Conditional Selection in Pandas (Series)\n",
    "\n",
    "- **Definition:** Extract elements from a Series using conditions.\n",
    "- Produces a Boolean mask (`True/False`) and returns matching values."
   ]
  },
  {
   "cell_type": "code",
   "execution_count": null,
   "id": "f25574fd",
   "metadata": {},
   "outputs": [],
   "source": [
    "# conditonal selection:\n",
    "s2>1"
   ]
  },
  {
   "cell_type": "code",
   "execution_count": null,
   "id": "fe2c5e36",
   "metadata": {},
   "outputs": [],
   "source": [
    "s[s>1]"
   ]
  },
  {
   "cell_type": "markdown",
   "id": "b6ab96e0",
   "metadata": {},
   "source": [
    "# logical operater\n",
    "## 1.and\n",
    "## 2.Or\n",
    "## 3.Nor"
   ]
  }
 ],
 "metadata": {
  "kernelspec": {
   "display_name": "Python 3",
   "language": "python",
   "name": "python3"
  },
  "language_info": {
   "codemirror_mode": {
    "name": "ipython",
    "version": 3
   },
   "file_extension": ".py",
   "mimetype": "text/x-python",
   "name": "python",
   "nbconvert_exporter": "python",
   "pygments_lexer": "ipython3",
   "version": "3.12.1"
  }
 },
 "nbformat": 4,
 "nbformat_minor": 5
}
