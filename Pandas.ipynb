{
 "cells": [
  {
   "cell_type": "markdown",
   "id": "d930a11e",
   "metadata": {},
   "source": [
    "# why we are using Pandas"
   ]
  },
  {
   "cell_type": "markdown",
   "id": "cf98dbf6",
   "metadata": {},
   "source": [
    "# 📊 Pandas Overview  \n",
    "\n",
    "**Pandas** is a powerful Python library used for **data manipulation and analysis**.  \n",
    "It provides efficient and flexible data structures like **DataFrame** (2D) and **Series** (1D),  \n",
    "making it easy to **clean, transform, and analyze data**.  \n",
    "\n",
    "---\n",
    "\n",
    "## 🔹 Key Features of Pandas  \n",
    "\n",
    "- 📥 **Easy Data Import** → from CSV, Excel, SQL, etc.  \n",
    "- 🧹 **Data Cleansing** → handle missing or incorrect values easily.  \n",
    "- 📏 **Size Mutability** → add/delete columns and rows dynamically.  \n",
    "- 🔄 **Reshaping and Pivoting** → transform datasets into desired formats.  \n",
    "- ⚡ **Efficient Data Manipulation & Extraction** → fast filtering, selection, and aggregation.  \n"
   ]
  },
  {
   "cell_type": "markdown",
   "id": "2d3c33c5",
   "metadata": {},
   "source": [
    "# There are mainly two Data Structures in Pandas  \n",
    "\n",
    "## 1. **Series** → 1D  \n",
    "## 2. **DataFrame** → 2D  \n",
    "\n",
    "**Data Structures** are collections of data types that provide the best way of organizing items (values) in terms of memory usage.\n"
   ]
  },
  {
   "cell_type": "markdown",
   "id": "bd4d058b",
   "metadata": {},
   "source": [
    "| Feature                            | **Series** (1D)                                         | **DataFrame** (2D)                                               |\n",
    "|------------------------------------|---------------------------------------------------------|-------------------------------------------------------------------|\n",
    "| **Definition**                     | One-dimensional labeled array                           | Two-dimensional labeled table (rows + columns)                    |\n",
    "| **Values mutability**              | **Mutable** — elements can be assigned/changed in-place | **Mutable** — cell values can be assigned/changed in-place        |\n",
    "| **Structural mutability**          | Structural ops (drop/concat/reindex) **usually return a new object** | Structural ops (drop/concat/rename) **usually return a new object** |\n",
    "| **Index / axes**                   | Single index                                            | Row index + column labels                                         |\n",
    "| **Data types**                     | Typically homogeneous (backed by ndarray)               | Heterogeneous (different dtypes per column)                       |\n",
    "| **Common creation**                | `pd.Series([1,2,3])`                                    | `pd.DataFrame({'a':[1,2],'b':[3,4]})`                             |\n",
    "| **Interview tip**                  | Emphasize difference: *values* can change in-place; *structure* changes often create copies. |\n"
   ]
  },
  {
   "cell_type": "code",
   "execution_count": 28,
   "id": "74233dcc",
   "metadata": {},
   "outputs": [
    {
     "name": "stdout",
     "output_type": "stream",
     "text": [
      "Original Series:\n",
      " 0    1\n",
      "1    2\n",
      "2    3\n",
      "dtype: int64\n",
      "\n",
      "After s[0] = 100 (value mutation):\n",
      " 0    100\n",
      "1      2\n",
      "2      3\n",
      "dtype: int64\n",
      "\n",
      "Original DataFrame:\n",
      "     A   B\n",
      "0  10  30\n",
      "1  20  40\n",
      "\n",
      "After df.loc[0,'A'] = 999 (value mutation):\n",
      "      A   B\n",
      "0  999  30\n",
      "1   20  40\n"
     ]
    }
   ],
   "source": [
    "import pandas as pd\n",
    "#1. Values are mutable (in-place change works)\n",
    "# Series Example\n",
    "s = pd.Series([1, 2, 3])\n",
    "print(\"Original Series:\\n\", s)\n",
    "\n",
    "# Change element in-place\n",
    "s[0] = 100\n",
    "print(\"\\nAfter s[0] = 100 (value mutation):\\n\", s)\n",
    "\n",
    "# DataFrame Example\n",
    "df = pd.DataFrame({\"A\": [10, 20], \"B\": [30, 40]})\n",
    "print(\"\\nOriginal DataFrame:\\n\", df)\n",
    "\n",
    "# Change a single cell in-place\n",
    "df.loc[0, \"A\"] = 999\n",
    "print(\"\\nAfter df.loc[0,'A'] = 999 (value mutation):\\n\", df)\n"
   ]
  },
  {
   "cell_type": "code",
   "execution_count": 29,
   "id": "2254fa4b",
   "metadata": {},
   "outputs": [
    {
     "name": "stdout",
     "output_type": "stream",
     "text": [
      "\n",
      "Result of s.drop(1):\n",
      " 0    100\n",
      "2      3\n",
      "dtype: int64\n",
      "\n",
      "Original Series remains unchanged:\n",
      " 0    100\n",
      "1      2\n",
      "2      3\n",
      "dtype: int64\n",
      "\n",
      "Result of df.drop(columns='B'):\n",
      "      A\n",
      "0  999\n",
      "1   20\n",
      "\n",
      "Original DataFrame remains unchanged:\n",
      "      A   B\n",
      "0  999  30\n",
      "1   20  40\n"
     ]
    }
   ],
   "source": [
    "#🔹 2. Structural changes return new objects (immutability-like behavior)\n",
    "# Drop operation on Series\n",
    "s2 = s.drop(1)   # removes index 1\n",
    "print(\"\\nResult of s.drop(1):\\n\", s2)\n",
    "print(\"\\nOriginal Series remains unchanged:\\n\", s)\n",
    "\n",
    "# Drop operation on DataFrame\n",
    "df2 = df.drop(columns=\"B\")\n",
    "print(\"\\nResult of df.drop(columns='B'):\\n\", df2)\n",
    "print(\"\\nOriginal DataFrame remains unchanged:\\n\", df)"
   ]
  },
  {
   "cell_type": "markdown",
   "id": "88d19262",
   "metadata": {},
   "source": [
    "## 🔑 Pandas Mutability (Interview Note)\n",
    "\n",
    "- **Series & DataFrame are not fully immutable.**  \n",
    "- **Values are mutable** → can update in-place (`s[0]=5`, `df.loc[0,'col']=7`).  \n",
    "- **Structural changes** (add/remove rows/cols) → usually return a **new object** (`drop`, `concat`, `reindex`).  \n",
    "- `inplace=True` exists but is discouraged (may still copy internally).  \n",
    "\n",
    "👉 **Interview phrasing:**  \n",
    "“Pandas allows in-place modification of values, but structural operations generally return new objects — so treat element mutation and structure mutation differently.”\n"
   ]
  },
  {
   "cell_type": "markdown",
   "id": "075fb023",
   "metadata": {},
   "source": [
    "## 🔹 Homogeneous Nature of Pandas Series  \n",
    "\n",
    "- A **Series is homogeneous** → all elements share the **same dtype**.  \n",
    "- If we insert a different type, Pandas **upcasts** all values to the most common compatible dtype.  \n",
    "\n",
    "### Example:\n",
    "\n",
    "\n"
   ]
  },
  {
   "cell_type": "code",
   "execution_count": 30,
   "id": "42da6ce8",
   "metadata": {},
   "outputs": [
    {
     "name": "stdout",
     "output_type": "stream",
     "text": [
      "0      10\n",
      "1      23\n",
      "2      43\n",
      "3      54\n",
      "4    abcs\n",
      "dtype: object\n",
      "Dtype: object\n",
      "0    10\n",
      "1    23\n",
      "2    43\n",
      "3    54\n",
      "dtype: int64\n",
      "Dtype: int64\n"
     ]
    }
   ],
   "source": [
    "import pandas as pd\n",
    "\n",
    "# Mixed types: int + string\n",
    "s3 = pd.Series([10, 23, 43, 54, \"abcs\"])\n",
    "print(s3)\n",
    "print(\"Dtype:\", s1.dtype)\n",
    "\n",
    "# Pure integers\n",
    "s2 = pd.Series([10, 23, 43, 54])\n",
    "print(s2)\n",
    "print(\"Dtype:\", s2.dtype)"
   ]
  },
  {
   "cell_type": "code",
   "execution_count": 31,
   "id": "9992059e",
   "metadata": {},
   "outputs": [
    {
     "data": {
      "text/plain": [
       "0    10\n",
       "1    23\n",
       "2    43\n",
       "3     4\n",
       "4    45\n",
       "5    56\n",
       "6    78\n",
       "dtype: int64"
      ]
     },
     "execution_count": 31,
     "metadata": {},
     "output_type": "execute_result"
    }
   ],
   "source": [
    "s=pd.Series([10,23,43,4,45,56,78])\n",
    "s"
   ]
  },
  {
   "cell_type": "code",
   "execution_count": 32,
   "id": "1f25e623",
   "metadata": {},
   "outputs": [
    {
     "data": {
      "text/plain": [
       "dtype('int64')"
      ]
     },
     "execution_count": 32,
     "metadata": {},
     "output_type": "execute_result"
    }
   ],
   "source": [
    "s.dtype"
   ]
  },
  {
   "cell_type": "code",
   "execution_count": 33,
   "id": "6ee57f56",
   "metadata": {},
   "outputs": [
    {
     "name": "stdout",
     "output_type": "stream",
     "text": [
      "None\n"
     ]
    }
   ],
   "source": [
    "#here we are give s.name and it give None b/c we have not asign any value to \n",
    "#the column\n",
    "print(s.name)"
   ]
  },
  {
   "cell_type": "code",
   "execution_count": 34,
   "id": "c5cf1018",
   "metadata": {},
   "outputs": [],
   "source": [
    "# now I am assinging the value the to the colume \n",
    "s.name=\"numbers\""
   ]
  },
  {
   "cell_type": "code",
   "execution_count": 35,
   "id": "1f4d826e",
   "metadata": {},
   "outputs": [
    {
     "name": "stdout",
     "output_type": "stream",
     "text": [
      "0    10\n",
      "1    23\n",
      "2    43\n",
      "3     4\n",
      "4    45\n",
      "5    56\n",
      "6    78\n",
      "Name: numbers, dtype: int64\n"
     ]
    }
   ],
   "source": [
    "print(s)"
   ]
  },
  {
   "cell_type": "markdown",
   "id": "9b874ec2",
   "metadata": {},
   "source": [
    "# 📌 Indexing in Pandas Series  \n",
    "\n",
    "A **Series** is like a 1D array with **labels (index)**. Indexing helps access, slice, and filter elements efficiently.  \n",
    "\n",
    "---\n",
    "\n",
    "## 🔹 Types of Indexing  \n",
    "\n",
    "1. **Default Indexing**\n",
    "   - Pandas assigns an integer index starting from 0.\n",
    "   ```python\n",
    "   s = pd.Series([10, 20, 30, 40])\n",
    "   print(s[0])   # Access first element → 10\n"
   ]
  },
  {
   "cell_type": "code",
   "execution_count": 36,
   "id": "52a047e3",
   "metadata": {},
   "outputs": [
    {
     "name": "stdout",
     "output_type": "stream",
     "text": [
      "10\n"
     ]
    },
    {
     "data": {
      "text/plain": [
       "0    10\n",
       "1    23\n",
       "Name: numbers, dtype: int64"
      ]
     },
     "execution_count": 36,
     "metadata": {},
     "output_type": "execute_result"
    }
   ],
   "source": [
    "# 1.Default Indexing\n",
    "s4 = pd.Series([10, 20, 30, 40])\n",
    "print(s4[0])\n",
    "#for selecting a multiple index we use \n",
    "s[0:2] # state(included ): stop value (values to jump)\n"
   ]
  },
  {
   "cell_type": "markdown",
   "id": "5958a111",
   "metadata": {},
   "source": [
    "# 2.Custom Indexing\n",
    "\n",
    "# You can define custom labels for indices."
   ]
  },
  {
   "cell_type": "code",
   "execution_count": null,
   "id": "63a07913",
   "metadata": {},
   "outputs": [],
   "source": [
    "\n",
    "\n",
    "s = pd.Series([10, 20, 30], index=['a', 'b', 'c'])\n",
    "print(s['b'])   # Access element with label 'b' → 20\n",
    "\n",
    "\n",
    "\n",
    "\n",
    "\n",
    "\n",
    "\n",
    "\n",
    "\n",
    "\n",
    "\n",
    "\n",
    "\n",
    "\n",
    "\n",
    "\n",
    "\n",
    "\n"
   ]
  },
  {
   "cell_type": "markdown",
   "id": "b34719fd",
   "metadata": {},
   "source": [
    "# 3.Slicing\n",
    "\n",
    "## Works similar to Python lists (start:end)."
   ]
  },
  {
   "cell_type": "code",
   "execution_count": null,
   "id": "9e666b74",
   "metadata": {},
   "outputs": [],
   "source": [
    "s = pd.Series([10, 20, 30, 40, 50])\n",
    "print(s[1:4])   # Elements at positions 1 to 3"
   ]
  },
  {
   "cell_type": "markdown",
   "id": "55b1a963",
   "metadata": {},
   "source": [
    "# 4.Label-based Indexing (.loc)\n",
    "\n",
    "## Access elements using index labels."
   ]
  },
  {
   "cell_type": "code",
   "execution_count": null,
   "id": "e62e585b",
   "metadata": {},
   "outputs": [],
   "source": [
    "s = pd.Series([100, 200, 300], index=['x', 'y', 'z'])\n",
    "print(s.loc['y'])   # → 200"
   ]
  },
  {
   "cell_type": "markdown",
   "id": "73ad04af",
   "metadata": {},
   "source": [
    "# 5.Position-based Indexing (.iloc)\n",
    "\n",
    "## Access elements using integer positions."
   ]
  },
  {
   "cell_type": "code",
   "execution_count": 41,
   "id": "5797959c",
   "metadata": {},
   "outputs": [
    {
     "name": "stdout",
     "output_type": "stream",
     "text": [
      "200\n"
     ]
    }
   ],
   "source": [
    "s = pd.Series([100, 200, 300], index=['x', 'y', 'z'])\n",
    "print(s.iloc[1])   # → 200"
   ]
  },
  {
   "cell_type": "code",
   "execution_count": 43,
   "id": "a6da0a33",
   "metadata": {},
   "outputs": [
    {
     "data": {
      "text/plain": [
       "x    100\n",
       "y    200\n",
       "z    300\n",
       "dtype: int64"
      ]
     },
     "execution_count": 43,
     "metadata": {},
     "output_type": "execute_result"
    }
   ],
   "source": [
    "s.iloc[[0,1,2]]"
   ]
  },
  {
   "cell_type": "markdown",
   "id": "a03821b5",
   "metadata": {},
   "source": [
    "\n",
    "# 6.Boolean Indexing\n",
    "\n",
    "## Filter elements based on conditions."
   ]
  },
  {
   "cell_type": "code",
   "execution_count": 44,
   "id": "b42d6bd8",
   "metadata": {},
   "outputs": [
    {
     "name": "stdout",
     "output_type": "stream",
     "text": [
      "2    30\n",
      "3    40\n",
      "4    50\n",
      "dtype: int64\n"
     ]
    }
   ],
   "source": [
    "s = pd.Series([10, 20, 30, 40, 50])\n",
    "print(s[s > 25])   # Returns elements > 25"
   ]
  },
  {
   "cell_type": "markdown",
   "id": "1842fd7f",
   "metadata": {},
   "source": [
    "# 📌 Creating a Pandas Series from a Dictionary  \n",
    "\n",
    "- A **dictionary** in Python has **key-value pairs**.  \n",
    "- In Pandas Series:\n",
    "  - **Keys** → become **index labels**  \n",
    "  - **Values** → become **data elements**  \n",
    "\n",
    "### Example:\n",
    "```python\n",
    "\n",
    "\n",
    "# Dictionary\n",
    "\n"
   ]
  },
  {
   "cell_type": "code",
   "execution_count": 46,
   "id": "92325615",
   "metadata": {},
   "outputs": [
    {
     "name": "stdout",
     "output_type": "stream",
     "text": [
      "Series from Dictionary:\n",
      " Apple                     0.3\n",
      "Banana                    1.1\n",
      "Orange                    0.9\n",
      "Mango                     0.8\n",
      "Papaya                    0.5\n",
      "Guava                     2.6\n",
      "Grapes                    0.6\n",
      "Pineapple                 0.5\n",
      "Strawberry                0.8\n",
      "Blueberry                 0.7\n",
      "Blackberry                1.4\n",
      "Raspberry                 1.2\n",
      "Kiwi                      1.1\n",
      "Pomegranate               1.7\n",
      "Watermelon                0.6\n",
      "Cantaloupe (Muskmelon)    0.8\n",
      "Cherry                    1.0\n",
      "Peach                     0.9\n",
      "Pear                      0.4\n",
      "Plum                      0.7\n",
      "Apricot                   1.4\n",
      "Fig                       0.8\n",
      "Date                      1.8\n",
      "Jackfruit                 1.7\n",
      "Avocado                   2.0\n",
      "Dragon Fruit              1.2\n",
      "Lychee                    0.8\n",
      "Coconut (fresh)           3.3\n",
      "Name: protein, dtype: float64\n",
      "\n",
      "Index: Index(['Apple', 'Banana', 'Orange', 'Mango', 'Papaya', 'Guava', 'Grapes',\n",
      "       'Pineapple', 'Strawberry', 'Blueberry', 'Blackberry', 'Raspberry',\n",
      "       'Kiwi', 'Pomegranate', 'Watermelon', 'Cantaloupe (Muskmelon)', 'Cherry',\n",
      "       'Peach', 'Pear', 'Plum', 'Apricot', 'Fig', 'Date', 'Jackfruit',\n",
      "       'Avocado', 'Dragon Fruit', 'Lychee', 'Coconut (fresh)'],\n",
      "      dtype='object')\n",
      "Values: [0.3 1.1 0.9 0.8 0.5 2.6 0.6 0.5 0.8 0.7 1.4 1.2 1.1 1.7 0.6 0.8 1.  0.9\n",
      " 0.4 0.7 1.4 0.8 1.8 1.7 2.  1.2 0.8 3.3]\n"
     ]
    }
   ],
   "source": [
    "\n",
    "# Dictionary of fruits and their protein content (grams per 100g)\n",
    "fruits_protein = {\n",
    "    \"Apple\": 0.3,\n",
    "    \"Banana\": 1.1,\n",
    "    \"Orange\": 0.9,\n",
    "    \"Mango\": 0.8,\n",
    "    \"Papaya\": 0.5,\n",
    "    \"Guava\": 2.6,\n",
    "    \"Grapes\": 0.6,\n",
    "    \"Pineapple\": 0.5,\n",
    "    \"Strawberry\": 0.8,\n",
    "    \"Blueberry\": 0.7,\n",
    "    \"Blackberry\": 1.4,\n",
    "    \"Raspberry\": 1.2,\n",
    "    \"Kiwi\": 1.1,\n",
    "    \"Pomegranate\": 1.7,\n",
    "    \"Watermelon\": 0.6,\n",
    "    \"Cantaloupe (Muskmelon)\": 0.8,\n",
    "    \"Cherry\": 1.0,\n",
    "    \"Peach\": 0.9,\n",
    "    \"Pear\": 0.4,\n",
    "    \"Plum\": 0.7,\n",
    "    \"Apricot\": 1.4,\n",
    "    \"Fig\": 0.8,\n",
    "    \"Date\": 1.8,\n",
    "    \"Jackfruit\": 1.7,\n",
    "    \"Avocado\": 2.0,\n",
    "    \"Dragon Fruit\": 1.2,\n",
    "    \"Lychee\": 0.8,\n",
    "    \"Coconut (fresh)\": 3.3\n",
    "}\n",
    "\n",
    "\n",
    "# Create Series from dictionary\n",
    "s = pd.Series(fruits_protein,name=\"protein\")\n",
    "\n",
    "print(\"Series from Dictionary:\\n\", s)\n",
    "print(\"\\nIndex:\", s.index)\n",
    "print(\"Values:\", s.values)"
   ]
  },
  {
   "cell_type": "markdown",
   "id": "0e39ceec",
   "metadata": {},
   "source": [
    "### ✅ Conditional Selection in Pandas\n",
    "\n",
    "- **Definition:** Selecting rows/values based on a condition (Boolean indexing).\n",
    "- Works like filtering in SQL/Excel.\n",
    "- Returns only the data that matches the condition.**\n",
    "\n",
    "\n",
    "\n",
    "### 📌 Conditional Selection in Pandas (Series)\n",
    "\n",
    "- **Definition:** Extract elements from a Series using conditions.\n",
    "- Produces a Boolean mask (`True/False`) and returns matching values."
   ]
  },
  {
   "cell_type": "code",
   "execution_count": 48,
   "id": "18da6414",
   "metadata": {},
   "outputs": [
    {
     "data": {
      "text/plain": [
       "Apple                     False\n",
       "Banana                     True\n",
       "Orange                    False\n",
       "Mango                     False\n",
       "Papaya                    False\n",
       "Guava                      True\n",
       "Grapes                    False\n",
       "Pineapple                 False\n",
       "Strawberry                False\n",
       "Blueberry                 False\n",
       "Blackberry                 True\n",
       "Raspberry                  True\n",
       "Kiwi                       True\n",
       "Pomegranate                True\n",
       "Watermelon                False\n",
       "Cantaloupe (Muskmelon)    False\n",
       "Cherry                    False\n",
       "Peach                     False\n",
       "Pear                      False\n",
       "Plum                      False\n",
       "Apricot                    True\n",
       "Fig                       False\n",
       "Date                       True\n",
       "Jackfruit                  True\n",
       "Avocado                    True\n",
       "Dragon Fruit               True\n",
       "Lychee                    False\n",
       "Coconut (fresh)            True\n",
       "Name: protein, dtype: bool"
      ]
     },
     "execution_count": 48,
     "metadata": {},
     "output_type": "execute_result"
    }
   ],
   "source": [
    "s>1"
   ]
  },
  {
   "cell_type": "code",
   "execution_count": 49,
   "id": "be1ec725",
   "metadata": {},
   "outputs": [
    {
     "data": {
      "text/plain": [
       "Banana             1.1\n",
       "Guava              2.6\n",
       "Blackberry         1.4\n",
       "Raspberry          1.2\n",
       "Kiwi               1.1\n",
       "Pomegranate        1.7\n",
       "Apricot            1.4\n",
       "Date               1.8\n",
       "Jackfruit          1.7\n",
       "Avocado            2.0\n",
       "Dragon Fruit       1.2\n",
       "Coconut (fresh)    3.3\n",
       "Name: protein, dtype: float64"
      ]
     },
     "execution_count": 49,
     "metadata": {},
     "output_type": "execute_result"
    }
   ],
   "source": [
    "# now i don't want these true and false I want frutes which protine is greater then one\n",
    "s[s>1]"
   ]
  },
  {
   "cell_type": "markdown",
   "id": "f9b6c03c",
   "metadata": {},
   "source": [
    "# Logical Operater\n",
    "# 1.And\n",
    "# 2.OR \n",
    "# 3.Nor\n"
   ]
  },
  {
   "cell_type": "code",
   "execution_count": 54,
   "id": "48acdad3",
   "metadata": {},
   "outputs": [
    {
     "data": {
      "text/plain": [
       "Banana                    1.1\n",
       "Orange                    0.9\n",
       "Mango                     0.8\n",
       "Grapes                    0.6\n",
       "Strawberry                0.8\n",
       "Blueberry                 0.7\n",
       "Blackberry                1.4\n",
       "Raspberry                 1.2\n",
       "Kiwi                      1.1\n",
       "Pomegranate               1.7\n",
       "Watermelon                0.6\n",
       "Cantaloupe (Muskmelon)    0.8\n",
       "Cherry                    1.0\n",
       "Peach                     0.9\n",
       "Plum                      0.7\n",
       "Apricot                   1.4\n",
       "Fig                       0.8\n",
       "Date                      1.8\n",
       "Jackfruit                 1.7\n",
       "Dragon Fruit              1.2\n",
       "Lychee                    0.8\n",
       "Name: protein, dtype: float64"
      ]
     },
     "execution_count": 54,
     "metadata": {},
     "output_type": "execute_result"
    }
   ],
   "source": [
    "s[(s>0.5) & (s<2)]"
   ]
  },
  {
   "cell_type": "code",
   "execution_count": 56,
   "id": "bce9fdcb",
   "metadata": {},
   "outputs": [
    {
     "data": {
      "text/plain": [
       "Apple                     0.3\n",
       "Banana                    1.1\n",
       "Orange                    0.9\n",
       "Mango                     0.8\n",
       "Papaya                    0.5\n",
       "Guava                     2.6\n",
       "Grapes                    0.6\n",
       "Pineapple                 0.5\n",
       "Strawberry                0.8\n",
       "Blueberry                 0.7\n",
       "Blackberry                1.4\n",
       "Raspberry                 1.2\n",
       "Kiwi                      1.1\n",
       "Pomegranate               1.7\n",
       "Watermelon                0.6\n",
       "Cantaloupe (Muskmelon)    0.8\n",
       "Cherry                    1.0\n",
       "Peach                     0.9\n",
       "Pear                      0.4\n",
       "Plum                      5.0\n",
       "Apricot                   1.4\n",
       "Fig                       0.8\n",
       "Date                      1.8\n",
       "Jackfruit                 1.7\n",
       "Avocado                   2.0\n",
       "Dragon Fruit              1.2\n",
       "Lychee                    0.8\n",
       "Coconut (fresh)           3.3\n",
       "Name: protein, dtype: float64"
      ]
     },
     "execution_count": 56,
     "metadata": {},
     "output_type": "execute_result"
    }
   ],
   "source": [
    "# modification of Series\n",
    "s['Plum']=5.0\n",
    "s"
   ]
  },
  {
   "cell_type": "markdown",
   "id": "88b704a7",
   "metadata": {},
   "source": [
    "### 📌 Pandas DataFrame\n",
    "\n",
    "- **Definition:** A 2D labeled data structure (rows & columns), like a table in Excel/SQL.\n",
    "- **Components:**\n",
    "  - **Rows (Index):** Labels for each record.\n",
    "  - **Columns:** Labels for each variable/feature.\n",
    "  - **Values:** Actual data stored in cells.\n",
    "- **Can store:** Different data types (int, float, string, bool) in different columns.\n",
    "- **Creation:** From dictionaries, lists of lists, NumPy arrays, CSV/Excel/SQL files.\n",
    "\n",
    "#### ✅ Example\n",
    "```python\n",
    "import pandas as pd\n",
    "\n",
    "data = {\n",
    "    \"Name\": [\"Alice\", \"Bob\", \"Charlie\"],\n",
    "    \"Age\": [25, 30, 35],\n",
    "    \"City\": [\"Delhi\", \"Mumbai\", \"Pune\"]\n",
    "}\n",
    "\n",
    "df = pd.DataFrame(data)\n",
    "print(df)\n"
   ]
  },
  {
   "cell_type": "code",
   "execution_count": 58,
   "id": "45645306",
   "metadata": {},
   "outputs": [
    {
     "name": "stdout",
     "output_type": "stream",
     "text": [
      "   EmployeeID     Name  Age Department  Salary JoiningDate\n",
      "0         101    Alice   25         HR   50000  2020-01-15\n",
      "1         102      Bob   30         IT   60000  2019-03-22\n",
      "2         103  Charlie   28         IT   55000  2021-07-10\n",
      "3         104    David   35    Finance   70000  2018-11-05\n",
      "4         105      Eva   29         HR   52000  2020-06-30\n",
      "5         106    Frank   40    Finance   75000  2017-09-17\n",
      "6         107    Grace   32         IT   58000  2019-12-01\n",
      "7         108   Hannah   27         HR   51000  2021-04-12\n",
      "8         109      Ian   31    Finance   72000  2018-05-20\n",
      "9         110     Jack   38         IT   61000  2020-08-25\n"
     ]
    }
   ],
   "source": [
    "### 📌 Pandas DataFrame\n",
    "\n",
    "\n",
    "import pandas as pd\n",
    "\n",
    "data = {\n",
    "    \"EmployeeID\": [101, 102, 103, 104, 105, 106, 107, 108, 109, 110],\n",
    "    \"Name\": [\"Alice\", \"Bob\", \"Charlie\", \"David\", \"Eva\", \"Frank\", \"Grace\", \"Hannah\", \"Ian\", \"Jack\"],\n",
    "    \"Age\": [25, 30, 28, 35, 29, 40, 32, 27, 31, 38],\n",
    "    \"Department\": [\"HR\", \"IT\", \"IT\", \"Finance\", \"HR\", \"Finance\", \"IT\", \"HR\", \"Finance\", \"IT\"],\n",
    "    \"Salary\": [50000, 60000, 55000, 70000, 52000, 75000, 58000, 51000, 72000, 61000],\n",
    "    \"JoiningDate\": [\"2020-01-15\", \"2019-03-22\", \"2021-07-10\", \"2018-11-05\", \"2020-06-30\",\n",
    "                    \"2017-09-17\", \"2019-12-01\", \"2021-04-12\", \"2018-05-20\", \"2020-08-25\"]\n",
    "}\n",
    "\n",
    "df = pd.DataFrame(data)\n",
    "print(df)\n"
   ]
  },
  {
   "cell_type": "code",
   "execution_count": null,
   "id": "fd7d2bcc",
   "metadata": {},
   "outputs": [
    {
     "name": "stdout",
     "output_type": "stream",
     "text": [
      "now there are custom heads all so mean you can select how many top values should print\n"
     ]
    },
    {
     "data": {
      "text/html": [
       "<div>\n",
       "<style scoped>\n",
       "    .dataframe tbody tr th:only-of-type {\n",
       "        vertical-align: middle;\n",
       "    }\n",
       "\n",
       "    .dataframe tbody tr th {\n",
       "        vertical-align: top;\n",
       "    }\n",
       "\n",
       "    .dataframe thead th {\n",
       "        text-align: right;\n",
       "    }\n",
       "</style>\n",
       "<table border=\"1\" class=\"dataframe\">\n",
       "  <thead>\n",
       "    <tr style=\"text-align: right;\">\n",
       "      <th></th>\n",
       "      <th>EmployeeID</th>\n",
       "      <th>Name</th>\n",
       "      <th>Age</th>\n",
       "      <th>Department</th>\n",
       "      <th>Salary</th>\n",
       "      <th>JoiningDate</th>\n",
       "    </tr>\n",
       "  </thead>\n",
       "  <tbody>\n",
       "    <tr>\n",
       "      <th>0</th>\n",
       "      <td>101</td>\n",
       "      <td>Alice</td>\n",
       "      <td>25</td>\n",
       "      <td>HR</td>\n",
       "      <td>50000</td>\n",
       "      <td>2020-01-15</td>\n",
       "    </tr>\n",
       "    <tr>\n",
       "      <th>1</th>\n",
       "      <td>102</td>\n",
       "      <td>Bob</td>\n",
       "      <td>30</td>\n",
       "      <td>IT</td>\n",
       "      <td>60000</td>\n",
       "      <td>2019-03-22</td>\n",
       "    </tr>\n",
       "  </tbody>\n",
       "</table>\n",
       "</div>"
      ],
      "text/plain": [
       "   EmployeeID   Name  Age Department  Salary JoiningDate\n",
       "0         101  Alice   25         HR   50000  2020-01-15\n",
       "1         102    Bob   30         IT   60000  2019-03-22"
      ]
     },
     "execution_count": 60,
     "metadata": {},
     "output_type": "execute_result"
    }
   ],
   "source": [
    "\n",
    "\n",
    "print(\"now there are custom heads all so mean you can select how many top values should print\")\n",
    "df.head(2)"
   ]
  },
  {
   "cell_type": "code",
   "execution_count": 61,
   "id": "0ad0d258",
   "metadata": {},
   "outputs": [
    {
     "data": {
      "text/html": [
       "<div>\n",
       "<style scoped>\n",
       "    .dataframe tbody tr th:only-of-type {\n",
       "        vertical-align: middle;\n",
       "    }\n",
       "\n",
       "    .dataframe tbody tr th {\n",
       "        vertical-align: top;\n",
       "    }\n",
       "\n",
       "    .dataframe thead th {\n",
       "        text-align: right;\n",
       "    }\n",
       "</style>\n",
       "<table border=\"1\" class=\"dataframe\">\n",
       "  <thead>\n",
       "    <tr style=\"text-align: right;\">\n",
       "      <th></th>\n",
       "      <th>EmployeeID</th>\n",
       "      <th>Name</th>\n",
       "      <th>Age</th>\n",
       "      <th>Department</th>\n",
       "      <th>Salary</th>\n",
       "      <th>JoiningDate</th>\n",
       "    </tr>\n",
       "  </thead>\n",
       "  <tbody>\n",
       "    <tr>\n",
       "      <th>5</th>\n",
       "      <td>106</td>\n",
       "      <td>Frank</td>\n",
       "      <td>40</td>\n",
       "      <td>Finance</td>\n",
       "      <td>75000</td>\n",
       "      <td>2017-09-17</td>\n",
       "    </tr>\n",
       "    <tr>\n",
       "      <th>6</th>\n",
       "      <td>107</td>\n",
       "      <td>Grace</td>\n",
       "      <td>32</td>\n",
       "      <td>IT</td>\n",
       "      <td>58000</td>\n",
       "      <td>2019-12-01</td>\n",
       "    </tr>\n",
       "    <tr>\n",
       "      <th>7</th>\n",
       "      <td>108</td>\n",
       "      <td>Hannah</td>\n",
       "      <td>27</td>\n",
       "      <td>HR</td>\n",
       "      <td>51000</td>\n",
       "      <td>2021-04-12</td>\n",
       "    </tr>\n",
       "    <tr>\n",
       "      <th>8</th>\n",
       "      <td>109</td>\n",
       "      <td>Ian</td>\n",
       "      <td>31</td>\n",
       "      <td>Finance</td>\n",
       "      <td>72000</td>\n",
       "      <td>2018-05-20</td>\n",
       "    </tr>\n",
       "    <tr>\n",
       "      <th>9</th>\n",
       "      <td>110</td>\n",
       "      <td>Jack</td>\n",
       "      <td>38</td>\n",
       "      <td>IT</td>\n",
       "      <td>61000</td>\n",
       "      <td>2020-08-25</td>\n",
       "    </tr>\n",
       "  </tbody>\n",
       "</table>\n",
       "</div>"
      ],
      "text/plain": [
       "   EmployeeID    Name  Age Department  Salary JoiningDate\n",
       "5         106   Frank   40    Finance   75000  2017-09-17\n",
       "6         107   Grace   32         IT   58000  2019-12-01\n",
       "7         108  Hannah   27         HR   51000  2021-04-12\n",
       "8         109     Ian   31    Finance   72000  2018-05-20\n",
       "9         110    Jack   38         IT   61000  2020-08-25"
      ]
     },
     "execution_count": 61,
     "metadata": {},
     "output_type": "execute_result"
    }
   ],
   "source": [
    "df.tail()"
   ]
  },
  {
   "cell_type": "code",
   "execution_count": 62,
   "id": "187aa8d4",
   "metadata": {},
   "outputs": [
    {
     "data": {
      "text/html": [
       "<div>\n",
       "<style scoped>\n",
       "    .dataframe tbody tr th:only-of-type {\n",
       "        vertical-align: middle;\n",
       "    }\n",
       "\n",
       "    .dataframe tbody tr th {\n",
       "        vertical-align: top;\n",
       "    }\n",
       "\n",
       "    .dataframe thead th {\n",
       "        text-align: right;\n",
       "    }\n",
       "</style>\n",
       "<table border=\"1\" class=\"dataframe\">\n",
       "  <thead>\n",
       "    <tr style=\"text-align: right;\">\n",
       "      <th></th>\n",
       "      <th>EmployeeID</th>\n",
       "      <th>Name</th>\n",
       "      <th>Age</th>\n",
       "      <th>Department</th>\n",
       "      <th>Salary</th>\n",
       "      <th>JoiningDate</th>\n",
       "    </tr>\n",
       "  </thead>\n",
       "  <tbody>\n",
       "    <tr>\n",
       "      <th>1</th>\n",
       "      <td>102</td>\n",
       "      <td>Bob</td>\n",
       "      <td>30</td>\n",
       "      <td>IT</td>\n",
       "      <td>60000</td>\n",
       "      <td>2019-03-22</td>\n",
       "    </tr>\n",
       "    <tr>\n",
       "      <th>2</th>\n",
       "      <td>103</td>\n",
       "      <td>Charlie</td>\n",
       "      <td>28</td>\n",
       "      <td>IT</td>\n",
       "      <td>55000</td>\n",
       "      <td>2021-07-10</td>\n",
       "    </tr>\n",
       "  </tbody>\n",
       "</table>\n",
       "</div>"
      ],
      "text/plain": [
       "   EmployeeID     Name  Age Department  Salary JoiningDate\n",
       "1         102      Bob   30         IT   60000  2019-03-22\n",
       "2         103  Charlie   28         IT   55000  2021-07-10"
      ]
     },
     "execution_count": 62,
     "metadata": {},
     "output_type": "execute_result"
    }
   ],
   "source": [
    "# using loc and iloc\n",
    "\n",
    "df.iloc[1:3]"
   ]
  },
  {
   "cell_type": "code",
   "execution_count": 63,
   "id": "8aabff91",
   "metadata": {},
   "outputs": [
    {
     "data": {
      "text/html": [
       "<div>\n",
       "<style scoped>\n",
       "    .dataframe tbody tr th:only-of-type {\n",
       "        vertical-align: middle;\n",
       "    }\n",
       "\n",
       "    .dataframe tbody tr th {\n",
       "        vertical-align: top;\n",
       "    }\n",
       "\n",
       "    .dataframe thead th {\n",
       "        text-align: right;\n",
       "    }\n",
       "</style>\n",
       "<table border=\"1\" class=\"dataframe\">\n",
       "  <thead>\n",
       "    <tr style=\"text-align: right;\">\n",
       "      <th></th>\n",
       "      <th>Age</th>\n",
       "      <th>Department</th>\n",
       "    </tr>\n",
       "  </thead>\n",
       "  <tbody>\n",
       "    <tr>\n",
       "      <th>1</th>\n",
       "      <td>30</td>\n",
       "      <td>IT</td>\n",
       "    </tr>\n",
       "    <tr>\n",
       "      <th>2</th>\n",
       "      <td>28</td>\n",
       "      <td>IT</td>\n",
       "    </tr>\n",
       "    <tr>\n",
       "      <th>3</th>\n",
       "      <td>35</td>\n",
       "      <td>Finance</td>\n",
       "    </tr>\n",
       "  </tbody>\n",
       "</table>\n",
       "</div>"
      ],
      "text/plain": [
       "   Age Department\n",
       "1   30         IT\n",
       "2   28         IT\n",
       "3   35    Finance"
      ]
     },
     "execution_count": 63,
     "metadata": {},
     "output_type": "execute_result"
    }
   ],
   "source": [
    "df.loc[1:3,[\"Age\",\"Department\"]]"
   ]
  },
  {
   "cell_type": "code",
   "execution_count": 65,
   "id": "3cc0dade",
   "metadata": {},
   "outputs": [
    {
     "data": {
      "text/html": [
       "<div>\n",
       "<style scoped>\n",
       "    .dataframe tbody tr th:only-of-type {\n",
       "        vertical-align: middle;\n",
       "    }\n",
       "\n",
       "    .dataframe tbody tr th {\n",
       "        vertical-align: top;\n",
       "    }\n",
       "\n",
       "    .dataframe thead th {\n",
       "        text-align: right;\n",
       "    }\n",
       "</style>\n",
       "<table border=\"1\" class=\"dataframe\">\n",
       "  <thead>\n",
       "    <tr style=\"text-align: right;\">\n",
       "      <th></th>\n",
       "      <th>Age</th>\n",
       "      <th>Department</th>\n",
       "    </tr>\n",
       "  </thead>\n",
       "  <tbody>\n",
       "    <tr>\n",
       "      <th>0</th>\n",
       "      <td>25</td>\n",
       "      <td>HR</td>\n",
       "    </tr>\n",
       "    <tr>\n",
       "      <th>1</th>\n",
       "      <td>30</td>\n",
       "      <td>IT</td>\n",
       "    </tr>\n",
       "    <tr>\n",
       "      <th>2</th>\n",
       "      <td>28</td>\n",
       "      <td>IT</td>\n",
       "    </tr>\n",
       "    <tr>\n",
       "      <th>3</th>\n",
       "      <td>35</td>\n",
       "      <td>Finance</td>\n",
       "    </tr>\n",
       "    <tr>\n",
       "      <th>4</th>\n",
       "      <td>29</td>\n",
       "      <td>HR</td>\n",
       "    </tr>\n",
       "    <tr>\n",
       "      <th>5</th>\n",
       "      <td>40</td>\n",
       "      <td>Finance</td>\n",
       "    </tr>\n",
       "    <tr>\n",
       "      <th>6</th>\n",
       "      <td>32</td>\n",
       "      <td>IT</td>\n",
       "    </tr>\n",
       "    <tr>\n",
       "      <th>7</th>\n",
       "      <td>27</td>\n",
       "      <td>HR</td>\n",
       "    </tr>\n",
       "    <tr>\n",
       "      <th>8</th>\n",
       "      <td>31</td>\n",
       "      <td>Finance</td>\n",
       "    </tr>\n",
       "    <tr>\n",
       "      <th>9</th>\n",
       "      <td>38</td>\n",
       "      <td>IT</td>\n",
       "    </tr>\n",
       "  </tbody>\n",
       "</table>\n",
       "</div>"
      ],
      "text/plain": [
       "   Age Department\n",
       "0   25         HR\n",
       "1   30         IT\n",
       "2   28         IT\n",
       "3   35    Finance\n",
       "4   29         HR\n",
       "5   40    Finance\n",
       "6   32         IT\n",
       "7   27         HR\n",
       "8   31    Finance\n",
       "9   38         IT"
      ]
     },
     "execution_count": 65,
     "metadata": {},
     "output_type": "execute_result"
    }
   ],
   "source": [
    "df[[\"Age\",\"Department\"]]"
   ]
  },
  {
   "cell_type": "code",
   "execution_count": 66,
   "id": "a57afb15",
   "metadata": {},
   "outputs": [
    {
     "data": {
      "text/plain": [
       "(10, 6)"
      ]
     },
     "execution_count": 66,
     "metadata": {},
     "output_type": "execute_result"
    }
   ],
   "source": [
    "df.shape"
   ]
  },
  {
   "cell_type": "markdown",
   "id": "c496ff68",
   "metadata": {},
   "source": [
    "### 📌 Drop Operation in Pandas DataFrame / Series\n",
    "\n",
    "- **Definition:** Used to remove rows or columns from a DataFrame or elements from a Series.\n",
    "- **Default behavior:** Returns a **new object**; the original remains unchanged.\n",
    "- **`inplace=True` option:** Modifies the original object directly without creating a new one.\n",
    "\n",
    "---\n",
    "\n",
    "#### Example: Drop in DataFrame\n",
    "\n"
   ]
  },
  {
   "cell_type": "code",
   "execution_count": 70,
   "id": "4b274b13",
   "metadata": {},
   "outputs": [
    {
     "ename": "KeyError",
     "evalue": "\"['Age'] not found in axis\"",
     "output_type": "error",
     "traceback": [
      "\u001b[31m---------------------------------------------------------------------------\u001b[39m",
      "\u001b[31mKeyError\u001b[39m                                  Traceback (most recent call last)",
      "\u001b[36mCell\u001b[39m\u001b[36m \u001b[39m\u001b[32mIn[70]\u001b[39m\u001b[32m, line 1\u001b[39m\n\u001b[32m----> \u001b[39m\u001b[32m1\u001b[39m \u001b[43mdf\u001b[49m\u001b[43m.\u001b[49m\u001b[43mdrop\u001b[49m\u001b[43m(\u001b[49m\u001b[33;43m\"\u001b[39;49m\u001b[33;43mAge\u001b[39;49m\u001b[33;43m\"\u001b[39;49m\u001b[43m,\u001b[49m\u001b[43maxis\u001b[49m\u001b[43m=\u001b[49m\u001b[32;43m1\u001b[39;49m\u001b[43m,\u001b[49m\u001b[43minplace\u001b[49m\u001b[43m=\u001b[49m\u001b[38;5;28;43;01mTrue\u001b[39;49;00m\u001b[43m)\u001b[49m\n",
      "\u001b[36mFile \u001b[39m\u001b[32m~/.local/lib/python3.12/site-packages/pandas/core/frame.py:5588\u001b[39m, in \u001b[36mDataFrame.drop\u001b[39m\u001b[34m(self, labels, axis, index, columns, level, inplace, errors)\u001b[39m\n\u001b[32m   5440\u001b[39m \u001b[38;5;28;01mdef\u001b[39;00m\u001b[38;5;250m \u001b[39m\u001b[34mdrop\u001b[39m(\n\u001b[32m   5441\u001b[39m     \u001b[38;5;28mself\u001b[39m,\n\u001b[32m   5442\u001b[39m     labels: IndexLabel | \u001b[38;5;28;01mNone\u001b[39;00m = \u001b[38;5;28;01mNone\u001b[39;00m,\n\u001b[32m   (...)\u001b[39m\u001b[32m   5449\u001b[39m     errors: IgnoreRaise = \u001b[33m\"\u001b[39m\u001b[33mraise\u001b[39m\u001b[33m\"\u001b[39m,\n\u001b[32m   5450\u001b[39m ) -> DataFrame | \u001b[38;5;28;01mNone\u001b[39;00m:\n\u001b[32m   5451\u001b[39m \u001b[38;5;250m    \u001b[39m\u001b[33;03m\"\"\"\u001b[39;00m\n\u001b[32m   5452\u001b[39m \u001b[33;03m    Drop specified labels from rows or columns.\u001b[39;00m\n\u001b[32m   5453\u001b[39m \n\u001b[32m   (...)\u001b[39m\u001b[32m   5586\u001b[39m \u001b[33;03m            weight  1.0     0.8\u001b[39;00m\n\u001b[32m   5587\u001b[39m \u001b[33;03m    \"\"\"\u001b[39;00m\n\u001b[32m-> \u001b[39m\u001b[32m5588\u001b[39m     \u001b[38;5;28;01mreturn\u001b[39;00m \u001b[38;5;28;43msuper\u001b[39;49m\u001b[43m(\u001b[49m\u001b[43m)\u001b[49m\u001b[43m.\u001b[49m\u001b[43mdrop\u001b[49m\u001b[43m(\u001b[49m\n\u001b[32m   5589\u001b[39m \u001b[43m        \u001b[49m\u001b[43mlabels\u001b[49m\u001b[43m=\u001b[49m\u001b[43mlabels\u001b[49m\u001b[43m,\u001b[49m\n\u001b[32m   5590\u001b[39m \u001b[43m        \u001b[49m\u001b[43maxis\u001b[49m\u001b[43m=\u001b[49m\u001b[43maxis\u001b[49m\u001b[43m,\u001b[49m\n\u001b[32m   5591\u001b[39m \u001b[43m        \u001b[49m\u001b[43mindex\u001b[49m\u001b[43m=\u001b[49m\u001b[43mindex\u001b[49m\u001b[43m,\u001b[49m\n\u001b[32m   5592\u001b[39m \u001b[43m        \u001b[49m\u001b[43mcolumns\u001b[49m\u001b[43m=\u001b[49m\u001b[43mcolumns\u001b[49m\u001b[43m,\u001b[49m\n\u001b[32m   5593\u001b[39m \u001b[43m        \u001b[49m\u001b[43mlevel\u001b[49m\u001b[43m=\u001b[49m\u001b[43mlevel\u001b[49m\u001b[43m,\u001b[49m\n\u001b[32m   5594\u001b[39m \u001b[43m        \u001b[49m\u001b[43minplace\u001b[49m\u001b[43m=\u001b[49m\u001b[43minplace\u001b[49m\u001b[43m,\u001b[49m\n\u001b[32m   5595\u001b[39m \u001b[43m        \u001b[49m\u001b[43merrors\u001b[49m\u001b[43m=\u001b[49m\u001b[43merrors\u001b[49m\u001b[43m,\u001b[49m\n\u001b[32m   5596\u001b[39m \u001b[43m    \u001b[49m\u001b[43m)\u001b[49m\n",
      "\u001b[36mFile \u001b[39m\u001b[32m~/.local/lib/python3.12/site-packages/pandas/core/generic.py:4807\u001b[39m, in \u001b[36mNDFrame.drop\u001b[39m\u001b[34m(self, labels, axis, index, columns, level, inplace, errors)\u001b[39m\n\u001b[32m   4805\u001b[39m \u001b[38;5;28;01mfor\u001b[39;00m axis, labels \u001b[38;5;129;01min\u001b[39;00m axes.items():\n\u001b[32m   4806\u001b[39m     \u001b[38;5;28;01mif\u001b[39;00m labels \u001b[38;5;129;01mis\u001b[39;00m \u001b[38;5;129;01mnot\u001b[39;00m \u001b[38;5;28;01mNone\u001b[39;00m:\n\u001b[32m-> \u001b[39m\u001b[32m4807\u001b[39m         obj = \u001b[43mobj\u001b[49m\u001b[43m.\u001b[49m\u001b[43m_drop_axis\u001b[49m\u001b[43m(\u001b[49m\u001b[43mlabels\u001b[49m\u001b[43m,\u001b[49m\u001b[43m \u001b[49m\u001b[43maxis\u001b[49m\u001b[43m,\u001b[49m\u001b[43m \u001b[49m\u001b[43mlevel\u001b[49m\u001b[43m=\u001b[49m\u001b[43mlevel\u001b[49m\u001b[43m,\u001b[49m\u001b[43m \u001b[49m\u001b[43merrors\u001b[49m\u001b[43m=\u001b[49m\u001b[43merrors\u001b[49m\u001b[43m)\u001b[49m\n\u001b[32m   4809\u001b[39m \u001b[38;5;28;01mif\u001b[39;00m inplace:\n\u001b[32m   4810\u001b[39m     \u001b[38;5;28mself\u001b[39m._update_inplace(obj)\n",
      "\u001b[36mFile \u001b[39m\u001b[32m~/.local/lib/python3.12/site-packages/pandas/core/generic.py:4849\u001b[39m, in \u001b[36mNDFrame._drop_axis\u001b[39m\u001b[34m(self, labels, axis, level, errors, only_slice)\u001b[39m\n\u001b[32m   4847\u001b[39m         new_axis = axis.drop(labels, level=level, errors=errors)\n\u001b[32m   4848\u001b[39m     \u001b[38;5;28;01melse\u001b[39;00m:\n\u001b[32m-> \u001b[39m\u001b[32m4849\u001b[39m         new_axis = \u001b[43maxis\u001b[49m\u001b[43m.\u001b[49m\u001b[43mdrop\u001b[49m\u001b[43m(\u001b[49m\u001b[43mlabels\u001b[49m\u001b[43m,\u001b[49m\u001b[43m \u001b[49m\u001b[43merrors\u001b[49m\u001b[43m=\u001b[49m\u001b[43merrors\u001b[49m\u001b[43m)\u001b[49m\n\u001b[32m   4850\u001b[39m     indexer = axis.get_indexer(new_axis)\n\u001b[32m   4852\u001b[39m \u001b[38;5;66;03m# Case for non-unique axis\u001b[39;00m\n\u001b[32m   4853\u001b[39m \u001b[38;5;28;01melse\u001b[39;00m:\n",
      "\u001b[36mFile \u001b[39m\u001b[32m~/.local/lib/python3.12/site-packages/pandas/core/indexes/base.py:7136\u001b[39m, in \u001b[36mIndex.drop\u001b[39m\u001b[34m(self, labels, errors)\u001b[39m\n\u001b[32m   7134\u001b[39m \u001b[38;5;28;01mif\u001b[39;00m mask.any():\n\u001b[32m   7135\u001b[39m     \u001b[38;5;28;01mif\u001b[39;00m errors != \u001b[33m\"\u001b[39m\u001b[33mignore\u001b[39m\u001b[33m\"\u001b[39m:\n\u001b[32m-> \u001b[39m\u001b[32m7136\u001b[39m         \u001b[38;5;28;01mraise\u001b[39;00m \u001b[38;5;167;01mKeyError\u001b[39;00m(\u001b[33mf\u001b[39m\u001b[33m\"\u001b[39m\u001b[38;5;132;01m{\u001b[39;00mlabels[mask].tolist()\u001b[38;5;132;01m}\u001b[39;00m\u001b[33m not found in axis\u001b[39m\u001b[33m\"\u001b[39m)\n\u001b[32m   7137\u001b[39m     indexer = indexer[~mask]\n\u001b[32m   7138\u001b[39m \u001b[38;5;28;01mreturn\u001b[39;00m \u001b[38;5;28mself\u001b[39m.delete(indexer)\n",
      "\u001b[31mKeyError\u001b[39m: \"['Age'] not found in axis\""
     ]
    }
   ],
   "source": [
    "df.drop(\"Age\",axis=1,inplace=True)\n"
   ]
  },
  {
   "cell_type": "code",
   "execution_count": 71,
   "id": "dd31842a",
   "metadata": {},
   "outputs": [
    {
     "data": {
      "text/html": [
       "<div>\n",
       "<style scoped>\n",
       "    .dataframe tbody tr th:only-of-type {\n",
       "        vertical-align: middle;\n",
       "    }\n",
       "\n",
       "    .dataframe tbody tr th {\n",
       "        vertical-align: top;\n",
       "    }\n",
       "\n",
       "    .dataframe thead th {\n",
       "        text-align: right;\n",
       "    }\n",
       "</style>\n",
       "<table border=\"1\" class=\"dataframe\">\n",
       "  <thead>\n",
       "    <tr style=\"text-align: right;\">\n",
       "      <th></th>\n",
       "      <th>EmployeeID</th>\n",
       "      <th>Name</th>\n",
       "      <th>Department</th>\n",
       "      <th>Salary</th>\n",
       "      <th>JoiningDate</th>\n",
       "    </tr>\n",
       "  </thead>\n",
       "  <tbody>\n",
       "    <tr>\n",
       "      <th>0</th>\n",
       "      <td>101</td>\n",
       "      <td>Alice</td>\n",
       "      <td>HR</td>\n",
       "      <td>50000</td>\n",
       "      <td>2020-01-15</td>\n",
       "    </tr>\n",
       "    <tr>\n",
       "      <th>1</th>\n",
       "      <td>102</td>\n",
       "      <td>Bob</td>\n",
       "      <td>IT</td>\n",
       "      <td>60000</td>\n",
       "      <td>2019-03-22</td>\n",
       "    </tr>\n",
       "    <tr>\n",
       "      <th>2</th>\n",
       "      <td>103</td>\n",
       "      <td>Charlie</td>\n",
       "      <td>IT</td>\n",
       "      <td>55000</td>\n",
       "      <td>2021-07-10</td>\n",
       "    </tr>\n",
       "    <tr>\n",
       "      <th>3</th>\n",
       "      <td>104</td>\n",
       "      <td>David</td>\n",
       "      <td>Finance</td>\n",
       "      <td>70000</td>\n",
       "      <td>2018-11-05</td>\n",
       "    </tr>\n",
       "    <tr>\n",
       "      <th>4</th>\n",
       "      <td>105</td>\n",
       "      <td>Eva</td>\n",
       "      <td>HR</td>\n",
       "      <td>52000</td>\n",
       "      <td>2020-06-30</td>\n",
       "    </tr>\n",
       "    <tr>\n",
       "      <th>5</th>\n",
       "      <td>106</td>\n",
       "      <td>Frank</td>\n",
       "      <td>Finance</td>\n",
       "      <td>75000</td>\n",
       "      <td>2017-09-17</td>\n",
       "    </tr>\n",
       "    <tr>\n",
       "      <th>6</th>\n",
       "      <td>107</td>\n",
       "      <td>Grace</td>\n",
       "      <td>IT</td>\n",
       "      <td>58000</td>\n",
       "      <td>2019-12-01</td>\n",
       "    </tr>\n",
       "    <tr>\n",
       "      <th>7</th>\n",
       "      <td>108</td>\n",
       "      <td>Hannah</td>\n",
       "      <td>HR</td>\n",
       "      <td>51000</td>\n",
       "      <td>2021-04-12</td>\n",
       "    </tr>\n",
       "    <tr>\n",
       "      <th>8</th>\n",
       "      <td>109</td>\n",
       "      <td>Ian</td>\n",
       "      <td>Finance</td>\n",
       "      <td>72000</td>\n",
       "      <td>2018-05-20</td>\n",
       "    </tr>\n",
       "    <tr>\n",
       "      <th>9</th>\n",
       "      <td>110</td>\n",
       "      <td>Jack</td>\n",
       "      <td>IT</td>\n",
       "      <td>61000</td>\n",
       "      <td>2020-08-25</td>\n",
       "    </tr>\n",
       "  </tbody>\n",
       "</table>\n",
       "</div>"
      ],
      "text/plain": [
       "   EmployeeID     Name Department  Salary JoiningDate\n",
       "0         101    Alice         HR   50000  2020-01-15\n",
       "1         102      Bob         IT   60000  2019-03-22\n",
       "2         103  Charlie         IT   55000  2021-07-10\n",
       "3         104    David    Finance   70000  2018-11-05\n",
       "4         105      Eva         HR   52000  2020-06-30\n",
       "5         106    Frank    Finance   75000  2017-09-17\n",
       "6         107    Grace         IT   58000  2019-12-01\n",
       "7         108   Hannah         HR   51000  2021-04-12\n",
       "8         109      Ian    Finance   72000  2018-05-20\n",
       "9         110     Jack         IT   61000  2020-08-25"
      ]
     },
     "execution_count": 71,
     "metadata": {},
     "output_type": "execute_result"
    }
   ],
   "source": [
    "df"
   ]
  },
  {
   "cell_type": "code",
   "execution_count": 72,
   "id": "69b02f81",
   "metadata": {},
   "outputs": [
    {
     "name": "stdout",
     "output_type": "stream",
     "text": [
      "<class 'pandas.core.frame.DataFrame'>\n",
      "RangeIndex: 10 entries, 0 to 9\n",
      "Data columns (total 5 columns):\n",
      " #   Column       Non-Null Count  Dtype \n",
      "---  ------       --------------  ----- \n",
      " 0   EmployeeID   10 non-null     int64 \n",
      " 1   Name         10 non-null     object\n",
      " 2   Department   10 non-null     object\n",
      " 3   Salary       10 non-null     int64 \n",
      " 4   JoiningDate  10 non-null     object\n",
      "dtypes: int64(2), object(3)\n",
      "memory usage: 532.0+ bytes\n"
     ]
    }
   ],
   "source": [
    "df.info()\n",
    "# to check other the inforamtaion"
   ]
  },
  {
   "cell_type": "markdown",
   "id": "aa40e7da",
   "metadata": {},
   "source": [
    "# describe()\n",
    "## this tell only statical inforamation about data"
   ]
  },
  {
   "cell_type": "code",
   "execution_count": 73,
   "id": "551b0910",
   "metadata": {},
   "outputs": [
    {
     "data": {
      "text/html": [
       "<div>\n",
       "<style scoped>\n",
       "    .dataframe tbody tr th:only-of-type {\n",
       "        vertical-align: middle;\n",
       "    }\n",
       "\n",
       "    .dataframe tbody tr th {\n",
       "        vertical-align: top;\n",
       "    }\n",
       "\n",
       "    .dataframe thead th {\n",
       "        text-align: right;\n",
       "    }\n",
       "</style>\n",
       "<table border=\"1\" class=\"dataframe\">\n",
       "  <thead>\n",
       "    <tr style=\"text-align: right;\">\n",
       "      <th></th>\n",
       "      <th>EmployeeID</th>\n",
       "      <th>Salary</th>\n",
       "    </tr>\n",
       "  </thead>\n",
       "  <tbody>\n",
       "    <tr>\n",
       "      <th>count</th>\n",
       "      <td>10.00000</td>\n",
       "      <td>10.000000</td>\n",
       "    </tr>\n",
       "    <tr>\n",
       "      <th>mean</th>\n",
       "      <td>105.50000</td>\n",
       "      <td>60400.000000</td>\n",
       "    </tr>\n",
       "    <tr>\n",
       "      <th>std</th>\n",
       "      <td>3.02765</td>\n",
       "      <td>9082.339395</td>\n",
       "    </tr>\n",
       "    <tr>\n",
       "      <th>min</th>\n",
       "      <td>101.00000</td>\n",
       "      <td>50000.000000</td>\n",
       "    </tr>\n",
       "    <tr>\n",
       "      <th>25%</th>\n",
       "      <td>103.25000</td>\n",
       "      <td>52750.000000</td>\n",
       "    </tr>\n",
       "    <tr>\n",
       "      <th>50%</th>\n",
       "      <td>105.50000</td>\n",
       "      <td>59000.000000</td>\n",
       "    </tr>\n",
       "    <tr>\n",
       "      <th>75%</th>\n",
       "      <td>107.75000</td>\n",
       "      <td>67750.000000</td>\n",
       "    </tr>\n",
       "    <tr>\n",
       "      <th>max</th>\n",
       "      <td>110.00000</td>\n",
       "      <td>75000.000000</td>\n",
       "    </tr>\n",
       "  </tbody>\n",
       "</table>\n",
       "</div>"
      ],
      "text/plain": [
       "       EmployeeID        Salary\n",
       "count    10.00000     10.000000\n",
       "mean    105.50000  60400.000000\n",
       "std       3.02765   9082.339395\n",
       "min     101.00000  50000.000000\n",
       "25%     103.25000  52750.000000\n",
       "50%     105.50000  59000.000000\n",
       "75%     107.75000  67750.000000\n",
       "max     110.00000  75000.000000"
      ]
     },
     "execution_count": 73,
     "metadata": {},
     "output_type": "execute_result"
    }
   ],
   "source": [
    "df.describe()"
   ]
  },
  {
   "cell_type": "markdown",
   "id": "f8bb27cc",
   "metadata": {},
   "source": [
    "### 📌 Broadcasting in Pandas (DataFrame)\n",
    "\n",
    "- **Definition:** Automatically applies an operation on all rows or columns of a DataFrame or between a DataFrame and a Series/scalar without loops.  \n",
    "- **Scalar + DataFrame:** Applied to every cell.  \n",
    "- **Series + DataFrame:** Applied row-wise (`axis=0`) or column-wise (`axis=1`) with automatic alignment.  \n",
    "- **Use:** Fast, memory-efficient vectorized operations.  \n"
   ]
  },
  {
   "cell_type": "code",
   "execution_count": 74,
   "id": "df0b329a",
   "metadata": {},
   "outputs": [],
   "source": [
    "# Broadcasting\n",
    "\n",
    "df[\"Salary\"]=df[\"Salary\"]+500"
   ]
  },
  {
   "cell_type": "code",
   "execution_count": 75,
   "id": "ac69cbe8",
   "metadata": {},
   "outputs": [
    {
     "data": {
      "text/plain": [
       "0    50500\n",
       "1    60500\n",
       "2    55500\n",
       "3    70500\n",
       "4    52500\n",
       "5    75500\n",
       "6    58500\n",
       "7    51500\n",
       "8    72500\n",
       "9    61500\n",
       "Name: Salary, dtype: int64"
      ]
     },
     "execution_count": 75,
     "metadata": {},
     "output_type": "execute_result"
    }
   ],
   "source": [
    "df[\"Salary\"]"
   ]
  }
 ],
 "metadata": {
  "kernelspec": {
   "display_name": "Python 3",
   "language": "python",
   "name": "python3"
  },
  "language_info": {
   "codemirror_mode": {
    "name": "ipython",
    "version": 3
   },
   "file_extension": ".py",
   "mimetype": "text/x-python",
   "name": "python",
   "nbconvert_exporter": "python",
   "pygments_lexer": "ipython3",
   "version": "3.12.1"
  }
 },
 "nbformat": 4,
 "nbformat_minor": 5
}
