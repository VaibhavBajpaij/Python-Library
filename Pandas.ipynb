{
 "cells": [
  {
   "cell_type": "markdown",
   "id": "d930a11e",
   "metadata": {},
   "source": [
    "# why we are using Pandas"
   ]
  },
  {
   "cell_type": "markdown",
   "id": "cf98dbf6",
   "metadata": {},
   "source": [
    "# 📊 Pandas Overview  \n",
    "\n",
    "**Pandas** is a powerful Python library used for **data manipulation and analysis**.  \n",
    "It provides efficient and flexible data structures like **DataFrame** (2D) and **Series** (1D),  \n",
    "making it easy to **clean, transform, and analyze data**.  \n",
    "\n",
    "---\n",
    "\n",
    "## 🔹 Key Features of Pandas  \n",
    "\n",
    "- 📥 **Easy Data Import** → from CSV, Excel, SQL, etc.  \n",
    "- 🧹 **Data Cleansing** → handle missing or incorrect values easily.  \n",
    "- 📏 **Size Mutability** → add/delete columns and rows dynamically.  \n",
    "- 🔄 **Reshaping and Pivoting** → transform datasets into desired formats.  \n",
    "- ⚡ **Efficient Data Manipulation & Extraction** → fast filtering, selection, and aggregation.  \n"
   ]
  },
  {
   "cell_type": "markdown",
   "id": "2d3c33c5",
   "metadata": {},
   "source": [
    "# There are mainly two Data Structures in Pandas  \n",
    "\n",
    "## 1. **Series** → 1D  \n",
    "## 2. **DataFrame** → 2D  \n",
    "\n",
    "**Data Structures** are collections of data types that provide the best way of organizing items (values) in terms of memory usage.\n"
   ]
  },
  {
   "cell_type": "markdown",
   "id": "bd4d058b",
   "metadata": {},
   "source": [
    "| Feature                            | **Series** (1D)                                         | **DataFrame** (2D)                                               |\n",
    "|------------------------------------|---------------------------------------------------------|-------------------------------------------------------------------|\n",
    "| **Definition**                     | One-dimensional labeled array                           | Two-dimensional labeled table (rows + columns)                    |\n",
    "| **Values mutability**              | **Mutable** — elements can be assigned/changed in-place | **Mutable** — cell values can be assigned/changed in-place        |\n",
    "| **Structural mutability**          | Structural ops (drop/concat/reindex) **usually return a new object** | Structural ops (drop/concat/rename) **usually return a new object** |\n",
    "| **Index / axes**                   | Single index                                            | Row index + column labels                                         |\n",
    "| **Data types**                     | Typically homogeneous (backed by ndarray)               | Heterogeneous (different dtypes per column)                       |\n",
    "| **Common creation**                | `pd.Series([1,2,3])`                                    | `pd.DataFrame({'a':[1,2],'b':[3,4]})`                             |\n",
    "| **Interview tip**                  | Emphasize difference: *values* can change in-place; *structure* changes often create copies. |\n"
   ]
  },
  {
   "cell_type": "markdown",
   "id": "48501892",
   "metadata": {},
   "source": [
    "# 🔹 Why Pandas when we already have NumPy?\n",
    "\n",
    "NumPy provides powerful tools for numerical computations, but **Pandas** builds on top of it to handle **structured/tabular data** more effectively.\n",
    "\n",
    "---\n",
    "\n",
    "## ✅ Limitations of NumPy\n",
    "1. Works mainly with **homogeneous data** (all elements must be of the same type).\n",
    "2. Provides only **array indexing** (difficult to work with row/column labels).\n",
    "3. No direct support for handling **missing values (NaN)** in a structured way.\n",
    "4. Lacks built-in tools for:\n",
    "   - Data cleaning\n",
    "   - Grouping/aggregating\n",
    "   - Handling categorical/string data\n",
    "   - Joining/merging multiple datasets\n",
    "5. Less human-readable outputs for real-world tabular datasets.\n",
    "\n",
    "---\n",
    "\n",
    "## ✅ Why Pandas is Better\n",
    "1. **Tabular data handling**  \n",
    "   - Uses **DataFrame** (rows & columns like Excel/SQL table).  \n",
    "   - Easier to read, interpret, and manipulate.\n",
    "\n",
    "2. **Label-based indexing**  \n",
    "   - Access data using column names & row labels (not just numbers).\n",
    "\n",
    "3. **Heterogeneous data support**  \n",
    "   - Can store different data types in the same table (int, float, string, datetime).\n",
    "\n",
    "4. **Missing data handling**  \n",
    "   - Functions like `.isnull()`, `.dropna()`, `.fillna()` make it easy.\n",
    "\n",
    "5. **Data Cleaning & Transformation**  \n",
    "   - Built-in functions for renaming, replacing, filtering, etc.\n",
    "\n",
    "6. **Merging & Joining**  \n",
    "   - SQL-like operations (`merge`, `join`, `concat`).\n",
    "\n",
    "7. **Grouping & Aggregation**  \n",
    "   - Powerful `.groupby()` functionality for summarizing data.\n",
    "\n",
    "8. **File I/O**  \n",
    "   - Can easily read/write CSV, Excel, SQL, JSON, etc. (NumPy can’t).\n",
    "\n",
    "---\n",
    "\n",
    "## ✅ Example\n",
    "\n",
    "### NumPy (less readable)\n",
    "```python\n",
    "import numpy as np\n",
    "\n",
    "data = np.array([[1, \"Amit\", 25],\n",
    "                 [2, \"Riya\", 28],\n",
    "                 [3, \"Karan\", 22]])\n",
    "\n",
    "print(data)\n",
    "# Hard to see structure, all values become strings\n"
   ]
  },
  {
   "cell_type": "code",
   "execution_count": 1,
   "id": "74233dcc",
   "metadata": {},
   "outputs": [
    {
     "name": "stdout",
     "output_type": "stream",
     "text": [
      "Original Series:\n",
      " 0    1\n",
      "1    2\n",
      "2    3\n",
      "dtype: int64\n",
      "\n",
      "After s[0] = 100 (value mutation):\n",
      " 0    100\n",
      "1      2\n",
      "2      3\n",
      "dtype: int64\n",
      "\n",
      "Original DataFrame:\n",
      "     A   B\n",
      "0  10  30\n",
      "1  20  40\n",
      "\n",
      "After df.loc[0,'A'] = 999 (value mutation):\n",
      "      A   B\n",
      "0  999  30\n",
      "1   20  40\n"
     ]
    }
   ],
   "source": [
    "import pandas as pd\n",
    "#1. Values are mutable (in-place change works)\n",
    "# Series Example\n",
    "s = pd.Series([1, 2, 3])\n",
    "print(\"Original Series:\\n\", s)\n",
    "\n",
    "# Change element in-place\n",
    "s[0] = 100\n",
    "print(\"\\nAfter s[0] = 100 (value mutation):\\n\", s)\n",
    "\n",
    "# DataFrame Example\n",
    "df = pd.DataFrame({\"A\": [10, 20], \"B\": [30, 40]})\n",
    "print(\"\\nOriginal DataFrame:\\n\", df)\n",
    "\n",
    "# Change a single cell in-place\n",
    "df.loc[0, \"A\"] = 999\n",
    "print(\"\\nAfter df.loc[0,'A'] = 999 (value mutation):\\n\", df)\n"
   ]
  },
  {
   "cell_type": "code",
   "execution_count": 2,
   "id": "2254fa4b",
   "metadata": {},
   "outputs": [
    {
     "name": "stdout",
     "output_type": "stream",
     "text": [
      "\n",
      "Result of s.drop(1):\n",
      " 0    100\n",
      "2      3\n",
      "dtype: int64\n",
      "\n",
      "Original Series remains unchanged:\n",
      " 0    100\n",
      "1      2\n",
      "2      3\n",
      "dtype: int64\n",
      "\n",
      "Result of df.drop(columns='B'):\n",
      "      A\n",
      "0  999\n",
      "1   20\n",
      "\n",
      "Original DataFrame remains unchanged:\n",
      "      A   B\n",
      "0  999  30\n",
      "1   20  40\n"
     ]
    }
   ],
   "source": [
    "#🔹 2. Structural changes return new objects (immutability-like behavior)\n",
    "# Drop operation on Series\n",
    "s2 = s.drop(1)   # removes index 1\n",
    "print(\"\\nResult of s.drop(1):\\n\", s2)\n",
    "print(\"\\nOriginal Series remains unchanged:\\n\", s)\n",
    "\n",
    "# Drop operation on DataFrame\n",
    "df2 = df.drop(columns=\"B\")\n",
    "print(\"\\nResult of df.drop(columns='B'):\\n\", df2)\n",
    "print(\"\\nOriginal DataFrame remains unchanged:\\n\", df)"
   ]
  },
  {
   "cell_type": "markdown",
   "id": "88d19262",
   "metadata": {},
   "source": [
    "## 🔑 Pandas Mutability (Interview Note)\n",
    "\n",
    "- **Series & DataFrame are not fully immutable.**  \n",
    "- **Values are mutable** → can update in-place (`s[0]=5`, `df.loc[0,'col']=7`).  \n",
    "- **Structural changes** (add/remove rows/cols) → usually return a **new object** (`drop`, `concat`, `reindex`).  \n",
    "- `inplace=True` exists but is discouraged (may still copy internally).  \n",
    "\n",
    "👉 **Interview phrasing:**  \n",
    "“Pandas allows in-place modification of values, but structural operations generally return new objects — so treat element mutation and structure mutation differently.”\n"
   ]
  },
  {
   "cell_type": "markdown",
   "id": "075fb023",
   "metadata": {},
   "source": [
    "## 🔹 Homogeneous Nature of Pandas Series  \n",
    "\n",
    "- A **Series is homogeneous** → all elements share the **same dtype**.  \n",
    "- If we insert a different type, Pandas **upcasts** all values to the most common compatible dtype.  \n",
    "\n",
    "### Example:\n",
    "\n",
    "\n"
   ]
  },
  {
   "cell_type": "code",
   "execution_count": 4,
   "id": "42da6ce8",
   "metadata": {},
   "outputs": [
    {
     "name": "stdout",
     "output_type": "stream",
     "text": [
      "0      10\n",
      "1      23\n",
      "2      43\n",
      "3      54\n",
      "4    abcs\n",
      "dtype: object\n",
      "Dtype: object\n",
      "0    10\n",
      "1    23\n",
      "2    43\n",
      "3    54\n",
      "dtype: int64\n",
      "Dtype: int64\n"
     ]
    }
   ],
   "source": [
    "import pandas as pd\n",
    "\n",
    "# Mixed types: int + string\n",
    "s3 = pd.Series([10, 23, 43, 54, \"abcs\"])\n",
    "print(s3)\n",
    "print(\"Dtype:\", s3.dtype)\n",
    "\n",
    "# Pure integers\n",
    "s2 = pd.Series([10, 23, 43, 54])\n",
    "print(s2)\n",
    "print(\"Dtype:\", s2.dtype)"
   ]
  },
  {
   "cell_type": "code",
   "execution_count": null,
   "id": "9992059e",
   "metadata": {},
   "outputs": [
    {
     "data": {
      "text/plain": [
       "0    10\n",
       "1    23\n",
       "2    43\n",
       "3     4\n",
       "4    45\n",
       "5    56\n",
       "6    78\n",
       "dtype: int64"
      ]
     },
     "execution_count": 31,
     "metadata": {},
     "output_type": "execute_result"
    }
   ],
   "source": [
    "s=pd.Series([10,23,43,4,45,56,78])\n",
    "s"
   ]
  },
  {
   "cell_type": "code",
   "execution_count": null,
   "id": "1f25e623",
   "metadata": {},
   "outputs": [
    {
     "data": {
      "text/plain": [
       "dtype('int64')"
      ]
     },
     "execution_count": 32,
     "metadata": {},
     "output_type": "execute_result"
    }
   ],
   "source": [
    "s.dtype"
   ]
  },
  {
   "cell_type": "code",
   "execution_count": null,
   "id": "6ee57f56",
   "metadata": {},
   "outputs": [
    {
     "name": "stdout",
     "output_type": "stream",
     "text": [
      "None\n"
     ]
    }
   ],
   "source": [
    "#here we are give s.name and it give None b/c we have not asign any value to \n",
    "#the column\n",
    "print(s.name)"
   ]
  },
  {
   "cell_type": "code",
   "execution_count": null,
   "id": "c5cf1018",
   "metadata": {},
   "outputs": [],
   "source": [
    "# now I am assinging the value the to the colume \n",
    "s.name=\"numbers\""
   ]
  },
  {
   "cell_type": "code",
   "execution_count": null,
   "id": "1f4d826e",
   "metadata": {},
   "outputs": [
    {
     "name": "stdout",
     "output_type": "stream",
     "text": [
      "0    10\n",
      "1    23\n",
      "2    43\n",
      "3     4\n",
      "4    45\n",
      "5    56\n",
      "6    78\n",
      "Name: numbers, dtype: int64\n"
     ]
    }
   ],
   "source": [
    "print(s)"
   ]
  },
  {
   "cell_type": "markdown",
   "id": "9b874ec2",
   "metadata": {},
   "source": [
    "# 📌 Indexing in Pandas Series  \n",
    "\n",
    "A **Series** is like a 1D array with **labels (index)**. Indexing helps access, slice, and filter elements efficiently.  \n",
    "\n",
    "---\n",
    "\n",
    "## 🔹 Types of Indexing  \n",
    "\n",
    "1. **Default Indexing**\n",
    "   - Pandas assigns an integer index starting from 0.\n",
    "   ```python\n",
    "   s = pd.Series([10, 20, 30, 40])\n",
    "   print(s[0])   # Access first element → 10\n"
   ]
  },
  {
   "cell_type": "code",
   "execution_count": null,
   "id": "52a047e3",
   "metadata": {},
   "outputs": [
    {
     "name": "stdout",
     "output_type": "stream",
     "text": [
      "10\n"
     ]
    },
    {
     "data": {
      "text/plain": [
       "0    10\n",
       "1    23\n",
       "Name: numbers, dtype: int64"
      ]
     },
     "execution_count": 36,
     "metadata": {},
     "output_type": "execute_result"
    }
   ],
   "source": [
    "# 1.Default Indexing\n",
    "s4 = pd.Series([10, 20, 30, 40])\n",
    "print(s4[0])\n",
    "#for selecting a multiple index we use \n",
    "s[0:2] # state(included ): stop value (values to jump)\n"
   ]
  },
  {
   "cell_type": "markdown",
   "id": "5958a111",
   "metadata": {},
   "source": [
    "# 2.Custom Indexing\n",
    "\n",
    "# You can define custom labels for indices."
   ]
  },
  {
   "cell_type": "code",
   "execution_count": null,
   "id": "63a07913",
   "metadata": {},
   "outputs": [],
   "source": [
    "\n",
    "\n",
    "s = pd.Series([10, 20, 30], index=['a', 'b', 'c'])\n",
    "print(s['b'])   # Access element with label 'b' → 20\n",
    "\n",
    "\n",
    "\n",
    "\n",
    "\n",
    "\n",
    "\n",
    "\n",
    "\n",
    "\n",
    "\n",
    "\n",
    "\n",
    "\n",
    "\n",
    "\n",
    "\n",
    "\n"
   ]
  },
  {
   "cell_type": "markdown",
   "id": "b34719fd",
   "metadata": {},
   "source": [
    "# 3.Slicing\n",
    "\n",
    "## Works similar to Python lists (start:end)."
   ]
  },
  {
   "cell_type": "code",
   "execution_count": null,
   "id": "9e666b74",
   "metadata": {},
   "outputs": [],
   "source": [
    "s = pd.Series([10, 20, 30, 40, 50])\n",
    "print(s[1:4])   # Elements at positions 1 to 3"
   ]
  },
  {
   "cell_type": "markdown",
   "id": "55b1a963",
   "metadata": {},
   "source": [
    "# 4.Label-based Indexing (.loc)\n",
    "\n",
    "## Access elements using index labels."
   ]
  },
  {
   "cell_type": "code",
   "execution_count": null,
   "id": "e62e585b",
   "metadata": {},
   "outputs": [],
   "source": [
    "s = pd.Series([100, 200, 300], index=['x', 'y', 'z'])\n",
    "print(s.loc['y'])   # → 200"
   ]
  },
  {
   "cell_type": "markdown",
   "id": "73ad04af",
   "metadata": {},
   "source": [
    "# 5.Position-based Indexing (.iloc)\n",
    "\n",
    "## Access elements using integer positions."
   ]
  },
  {
   "cell_type": "code",
   "execution_count": null,
   "id": "5797959c",
   "metadata": {},
   "outputs": [
    {
     "name": "stdout",
     "output_type": "stream",
     "text": [
      "200\n"
     ]
    }
   ],
   "source": [
    "s = pd.Series([100, 200, 300], index=['x', 'y', 'z'])\n",
    "print(s.iloc[1])   # → 200"
   ]
  },
  {
   "cell_type": "code",
   "execution_count": null,
   "id": "a6da0a33",
   "metadata": {},
   "outputs": [
    {
     "data": {
      "text/plain": [
       "x    100\n",
       "y    200\n",
       "z    300\n",
       "dtype: int64"
      ]
     },
     "execution_count": 43,
     "metadata": {},
     "output_type": "execute_result"
    }
   ],
   "source": [
    "s.iloc[[0,1,2]]"
   ]
  },
  {
   "cell_type": "markdown",
   "id": "a03821b5",
   "metadata": {},
   "source": [
    "\n",
    "# 6.Boolean Indexing\n",
    "\n",
    "## Filter elements based on conditions."
   ]
  },
  {
   "cell_type": "code",
   "execution_count": null,
   "id": "b42d6bd8",
   "metadata": {},
   "outputs": [
    {
     "name": "stdout",
     "output_type": "stream",
     "text": [
      "2    30\n",
      "3    40\n",
      "4    50\n",
      "dtype: int64\n"
     ]
    }
   ],
   "source": [
    "s = pd.Series([10, 20, 30, 40, 50])\n",
    "print(s[s > 25])   # Returns elements > 25"
   ]
  },
  {
   "cell_type": "markdown",
   "id": "1842fd7f",
   "metadata": {},
   "source": [
    "# 📌 Creating a Pandas Series from a Dictionary  \n",
    "\n",
    "- A **dictionary** in Python has **key-value pairs**.  \n",
    "- In Pandas Series:\n",
    "  - **Keys** → become **index labels**  \n",
    "  - **Values** → become **data elements**  \n",
    "\n",
    "### Example:\n",
    "```python\n",
    "\n",
    "\n",
    "# Dictionary\n",
    "\n"
   ]
  },
  {
   "cell_type": "code",
   "execution_count": null,
   "id": "92325615",
   "metadata": {},
   "outputs": [
    {
     "name": "stdout",
     "output_type": "stream",
     "text": [
      "Series from Dictionary:\n",
      " Apple                     0.3\n",
      "Banana                    1.1\n",
      "Orange                    0.9\n",
      "Mango                     0.8\n",
      "Papaya                    0.5\n",
      "Guava                     2.6\n",
      "Grapes                    0.6\n",
      "Pineapple                 0.5\n",
      "Strawberry                0.8\n",
      "Blueberry                 0.7\n",
      "Blackberry                1.4\n",
      "Raspberry                 1.2\n",
      "Kiwi                      1.1\n",
      "Pomegranate               1.7\n",
      "Watermelon                0.6\n",
      "Cantaloupe (Muskmelon)    0.8\n",
      "Cherry                    1.0\n",
      "Peach                     0.9\n",
      "Pear                      0.4\n",
      "Plum                      0.7\n",
      "Apricot                   1.4\n",
      "Fig                       0.8\n",
      "Date                      1.8\n",
      "Jackfruit                 1.7\n",
      "Avocado                   2.0\n",
      "Dragon Fruit              1.2\n",
      "Lychee                    0.8\n",
      "Coconut (fresh)           3.3\n",
      "Name: protein, dtype: float64\n",
      "\n",
      "Index: Index(['Apple', 'Banana', 'Orange', 'Mango', 'Papaya', 'Guava', 'Grapes',\n",
      "       'Pineapple', 'Strawberry', 'Blueberry', 'Blackberry', 'Raspberry',\n",
      "       'Kiwi', 'Pomegranate', 'Watermelon', 'Cantaloupe (Muskmelon)', 'Cherry',\n",
      "       'Peach', 'Pear', 'Plum', 'Apricot', 'Fig', 'Date', 'Jackfruit',\n",
      "       'Avocado', 'Dragon Fruit', 'Lychee', 'Coconut (fresh)'],\n",
      "      dtype='object')\n",
      "Values: [0.3 1.1 0.9 0.8 0.5 2.6 0.6 0.5 0.8 0.7 1.4 1.2 1.1 1.7 0.6 0.8 1.  0.9\n",
      " 0.4 0.7 1.4 0.8 1.8 1.7 2.  1.2 0.8 3.3]\n"
     ]
    }
   ],
   "source": [
    "\n",
    "# Dictionary of fruits and their protein content (grams per 100g)\n",
    "fruits_protein = {\n",
    "    \"Apple\": 0.3,\n",
    "    \"Banana\": 1.1,\n",
    "    \"Orange\": 0.9,\n",
    "    \"Mango\": 0.8,\n",
    "    \"Papaya\": 0.5,\n",
    "    \"Guava\": 2.6,\n",
    "    \"Grapes\": 0.6,\n",
    "    \"Pineapple\": 0.5,\n",
    "    \"Strawberry\": 0.8,\n",
    "    \"Blueberry\": 0.7,\n",
    "    \"Blackberry\": 1.4,\n",
    "    \"Raspberry\": 1.2,\n",
    "    \"Kiwi\": 1.1,\n",
    "    \"Pomegranate\": 1.7,\n",
    "    \"Watermelon\": 0.6,\n",
    "    \"Cantaloupe (Muskmelon)\": 0.8,\n",
    "    \"Cherry\": 1.0,\n",
    "    \"Peach\": 0.9,\n",
    "    \"Pear\": 0.4,\n",
    "    \"Plum\": 0.7,\n",
    "    \"Apricot\": 1.4,\n",
    "    \"Fig\": 0.8,\n",
    "    \"Date\": 1.8,\n",
    "    \"Jackfruit\": 1.7,\n",
    "    \"Avocado\": 2.0,\n",
    "    \"Dragon Fruit\": 1.2,\n",
    "    \"Lychee\": 0.8,\n",
    "    \"Coconut (fresh)\": 3.3\n",
    "}\n",
    "\n",
    "\n",
    "# Create Series from dictionary\n",
    "s = pd.Series(fruits_protein,name=\"protein\")\n",
    "\n",
    "print(\"Series from Dictionary:\\n\", s)\n",
    "print(\"\\nIndex:\", s.index)\n",
    "print(\"Values:\", s.values)"
   ]
  },
  {
   "cell_type": "markdown",
   "id": "0e39ceec",
   "metadata": {},
   "source": [
    "### ✅ Conditional Selection in Pandas\n",
    "\n",
    "- **Definition:** Selecting rows/values based on a condition (Boolean indexing).\n",
    "- Works like filtering in SQL/Excel.\n",
    "- Returns only the data that matches the condition.**\n",
    "\n",
    "\n",
    "\n",
    "### 📌 Conditional Selection in Pandas (Series)\n",
    "\n",
    "- **Definition:** Extract elements from a Series using conditions.\n",
    "- Produces a Boolean mask (`True/False`) and returns matching values."
   ]
  },
  {
   "cell_type": "code",
   "execution_count": 5,
   "id": "f25574fd",
   "metadata": {},
   "outputs": [
    {
     "data": {
      "text/plain": [
       "0    True\n",
       "1    True\n",
       "2    True\n",
       "3    True\n",
       "dtype: bool"
      ]
     },
     "execution_count": 5,
     "metadata": {},
     "output_type": "execute_result"
    }
   ],
   "source": [
    "# conditonal selection:\n",
    "s2>1"
   ]
  },
  {
   "cell_type": "code",
   "execution_count": 6,
   "id": "fe2c5e36",
   "metadata": {},
   "outputs": [
    {
     "data": {
      "text/plain": [
       "0    100\n",
       "1      2\n",
       "2      3\n",
       "dtype: int64"
      ]
     },
     "execution_count": 6,
     "metadata": {},
     "output_type": "execute_result"
    }
   ],
   "source": [
    "s[s>1]"
   ]
  },
  {
   "cell_type": "markdown",
   "id": "b6ab96e0",
   "metadata": {},
   "source": [
    "# logical operater\n",
    "## 1.and\n",
    "## 2.Or\n",
    "## 3.Nor"
   ]
  },
  {
   "cell_type": "code",
   "execution_count": 9,
   "id": "bef9ea14",
   "metadata": {},
   "outputs": [
    {
     "data": {
      "text/plain": [
       "1    2\n",
       "2    3\n",
       "dtype: int64"
      ]
     },
     "execution_count": 9,
     "metadata": {},
     "output_type": "execute_result"
    }
   ],
   "source": [
    "s[(s>1) & (s<4)]"
   ]
  },
  {
   "cell_type": "code",
   "execution_count": 12,
   "id": "1220cae9",
   "metadata": {},
   "outputs": [
    {
     "data": {
      "text/plain": [
       "0    100\n",
       "1      2\n",
       "2      3\n",
       "dtype: int64"
      ]
     },
     "execution_count": 12,
     "metadata": {},
     "output_type": "execute_result"
    }
   ],
   "source": [
    "#not opration \n",
    "s[~(1>s)]"
   ]
  },
  {
   "cell_type": "markdown",
   "id": "b68d443f",
   "metadata": {},
   "source": [
    "### 📌 Pandas DataFrame\n",
    "\n",
    "- **Definition:** A 2D labeled data structure (rows & columns), like a table in Excel/SQL.\n",
    "- **Components:**\n",
    "  - **Rows (Index):** Labels for each record.\n",
    "  - **Columns:** Labels for each variable/feature.\n",
    "  - **Values:** Actual data stored in cells.\n",
    "- **Can store:** Different data types (int, float, string, bool) in different columns.\n",
    "- **Creation:** From dictionaries, lists of lists, NumPy arrays, CSV/Excel/SQL files.\n",
    "\n",
    "#### ✅ Example\n",
    "```python\n",
    "import pandas as pd\n",
    "\n",
    "data = {\n",
    "    \"Name\": [\"Alice\", \"Bob\", \"Charlie\"],\n",
    "    \"Age\": [25, 30, 35],\n",
    "    \"City\": [\"Delhi\", \"Mumbai\", \"Pune\"]\n",
    "}\n",
    "\n",
    "df = pd.DataFrame(data)\n",
    "print(df)\n"
   ]
  },
  {
   "cell_type": "code",
   "execution_count": 13,
   "id": "c68c3304",
   "metadata": {},
   "outputs": [
    {
     "name": "stdout",
     "output_type": "stream",
     "text": [
      "   EmployeeID     Name  Age Department  Salary JoiningDate\n",
      "0         101    Alice   25         HR   50000  2020-01-15\n",
      "1         102      Bob   30         IT   60000  2019-03-22\n",
      "2         103  Charlie   28         IT   55000  2021-07-10\n",
      "3         104    David   35    Finance   70000  2018-11-05\n",
      "4         105      Eva   29         HR   52000  2020-06-30\n",
      "5         106    Frank   40    Finance   75000  2017-09-17\n",
      "6         107    Grace   32         IT   58000  2019-12-01\n",
      "7         108   Hannah   27         HR   51000  2021-04-12\n",
      "8         109      Ian   31    Finance   72000  2018-05-20\n",
      "9         110     Jack   38         IT   61000  2020-08-25\n"
     ]
    }
   ],
   "source": [
    "### 📌 Larger Pandas DataFrame Example\n",
    "\n",
    "\n",
    "import pandas as pd\n",
    "\n",
    "# Sample data: Employees information\n",
    "data = {\n",
    "    \"EmployeeID\": [101, 102, 103, 104, 105, 106, 107, 108, 109, 110],\n",
    "    \"Name\": [\"Alice\", \"Bob\", \"Charlie\", \"David\", \"Eva\", \"Frank\", \"Grace\", \"Hannah\", \"Ian\", \"Jack\"],\n",
    "    \"Age\": [25, 30, 28, 35, 29, 40, 32, 27, 31, 38],\n",
    "    \"Department\": [\"HR\", \"IT\", \"IT\", \"Finance\", \"HR\", \"Finance\", \"IT\", \"HR\", \"Finance\", \"IT\"],\n",
    "    \"Salary\": [50000, 60000, 55000, 70000, 52000, 75000, 58000, 51000, 72000, 61000],\n",
    "    \"JoiningDate\": [\"2020-01-15\", \"2019-03-22\", \"2021-07-10\", \"2018-11-05\", \"2020-06-30\",\n",
    "                    \"2017-09-17\", \"2019-12-01\", \"2021-04-12\", \"2018-05-20\", \"2020-08-25\"]\n",
    "}\n",
    "\n",
    "# Create DataFrame\n",
    "df = pd.DataFrame(data)\n",
    "\n",
    "print(df)\n"
   ]
  },
  {
   "cell_type": "code",
   "execution_count": 14,
   "id": "0ebdfc6a",
   "metadata": {},
   "outputs": [
    {
     "data": {
      "text/html": [
       "<div>\n",
       "<style scoped>\n",
       "    .dataframe tbody tr th:only-of-type {\n",
       "        vertical-align: middle;\n",
       "    }\n",
       "\n",
       "    .dataframe tbody tr th {\n",
       "        vertical-align: top;\n",
       "    }\n",
       "\n",
       "    .dataframe thead th {\n",
       "        text-align: right;\n",
       "    }\n",
       "</style>\n",
       "<table border=\"1\" class=\"dataframe\">\n",
       "  <thead>\n",
       "    <tr style=\"text-align: right;\">\n",
       "      <th></th>\n",
       "      <th>EmployeeID</th>\n",
       "      <th>Name</th>\n",
       "      <th>Age</th>\n",
       "      <th>Department</th>\n",
       "      <th>Salary</th>\n",
       "      <th>JoiningDate</th>\n",
       "    </tr>\n",
       "  </thead>\n",
       "  <tbody>\n",
       "    <tr>\n",
       "      <th>0</th>\n",
       "      <td>101</td>\n",
       "      <td>Alice</td>\n",
       "      <td>25</td>\n",
       "      <td>HR</td>\n",
       "      <td>50000</td>\n",
       "      <td>2020-01-15</td>\n",
       "    </tr>\n",
       "    <tr>\n",
       "      <th>1</th>\n",
       "      <td>102</td>\n",
       "      <td>Bob</td>\n",
       "      <td>30</td>\n",
       "      <td>IT</td>\n",
       "      <td>60000</td>\n",
       "      <td>2019-03-22</td>\n",
       "    </tr>\n",
       "    <tr>\n",
       "      <th>2</th>\n",
       "      <td>103</td>\n",
       "      <td>Charlie</td>\n",
       "      <td>28</td>\n",
       "      <td>IT</td>\n",
       "      <td>55000</td>\n",
       "      <td>2021-07-10</td>\n",
       "    </tr>\n",
       "  </tbody>\n",
       "</table>\n",
       "</div>"
      ],
      "text/plain": [
       "   EmployeeID     Name  Age Department  Salary JoiningDate\n",
       "0         101    Alice   25         HR   50000  2020-01-15\n",
       "1         102      Bob   30         IT   60000  2019-03-22\n",
       "2         103  Charlie   28         IT   55000  2021-07-10"
      ]
     },
     "execution_count": 14,
     "metadata": {},
     "output_type": "execute_result"
    }
   ],
   "source": [
    "# get only head row we will use head()\n",
    "df.head(3)"
   ]
  },
  {
   "cell_type": "code",
   "execution_count": 16,
   "id": "f67230ad",
   "metadata": {},
   "outputs": [
    {
     "data": {
      "text/html": [
       "<div>\n",
       "<style scoped>\n",
       "    .dataframe tbody tr th:only-of-type {\n",
       "        vertical-align: middle;\n",
       "    }\n",
       "\n",
       "    .dataframe tbody tr th {\n",
       "        vertical-align: top;\n",
       "    }\n",
       "\n",
       "    .dataframe thead th {\n",
       "        text-align: right;\n",
       "    }\n",
       "</style>\n",
       "<table border=\"1\" class=\"dataframe\">\n",
       "  <thead>\n",
       "    <tr style=\"text-align: right;\">\n",
       "      <th></th>\n",
       "      <th>EmployeeID</th>\n",
       "      <th>Name</th>\n",
       "      <th>Age</th>\n",
       "      <th>Department</th>\n",
       "      <th>Salary</th>\n",
       "      <th>JoiningDate</th>\n",
       "    </tr>\n",
       "  </thead>\n",
       "  <tbody>\n",
       "    <tr>\n",
       "      <th>7</th>\n",
       "      <td>108</td>\n",
       "      <td>Hannah</td>\n",
       "      <td>27</td>\n",
       "      <td>HR</td>\n",
       "      <td>51000</td>\n",
       "      <td>2021-04-12</td>\n",
       "    </tr>\n",
       "    <tr>\n",
       "      <th>8</th>\n",
       "      <td>109</td>\n",
       "      <td>Ian</td>\n",
       "      <td>31</td>\n",
       "      <td>Finance</td>\n",
       "      <td>72000</td>\n",
       "      <td>2018-05-20</td>\n",
       "    </tr>\n",
       "    <tr>\n",
       "      <th>9</th>\n",
       "      <td>110</td>\n",
       "      <td>Jack</td>\n",
       "      <td>38</td>\n",
       "      <td>IT</td>\n",
       "      <td>61000</td>\n",
       "      <td>2020-08-25</td>\n",
       "    </tr>\n",
       "  </tbody>\n",
       "</table>\n",
       "</div>"
      ],
      "text/plain": [
       "   EmployeeID    Name  Age Department  Salary JoiningDate\n",
       "7         108  Hannah   27         HR   51000  2021-04-12\n",
       "8         109     Ian   31    Finance   72000  2018-05-20\n",
       "9         110    Jack   38         IT   61000  2020-08-25"
      ]
     },
     "execution_count": 16,
     "metadata": {},
     "output_type": "execute_result"
    }
   ],
   "source": [
    "# now if I want \n",
    "df.tail(3)"
   ]
  },
  {
   "cell_type": "code",
   "execution_count": 17,
   "id": "2b0dc597",
   "metadata": {},
   "outputs": [
    {
     "data": {
      "text/html": [
       "<div>\n",
       "<style scoped>\n",
       "    .dataframe tbody tr th:only-of-type {\n",
       "        vertical-align: middle;\n",
       "    }\n",
       "\n",
       "    .dataframe tbody tr th {\n",
       "        vertical-align: top;\n",
       "    }\n",
       "\n",
       "    .dataframe thead th {\n",
       "        text-align: right;\n",
       "    }\n",
       "</style>\n",
       "<table border=\"1\" class=\"dataframe\">\n",
       "  <thead>\n",
       "    <tr style=\"text-align: right;\">\n",
       "      <th></th>\n",
       "      <th>EmployeeID</th>\n",
       "      <th>Name</th>\n",
       "      <th>Age</th>\n",
       "      <th>Department</th>\n",
       "      <th>Salary</th>\n",
       "      <th>JoiningDate</th>\n",
       "    </tr>\n",
       "  </thead>\n",
       "  <tbody>\n",
       "    <tr>\n",
       "      <th>1</th>\n",
       "      <td>102</td>\n",
       "      <td>Bob</td>\n",
       "      <td>30</td>\n",
       "      <td>IT</td>\n",
       "      <td>60000</td>\n",
       "      <td>2019-03-22</td>\n",
       "    </tr>\n",
       "    <tr>\n",
       "      <th>2</th>\n",
       "      <td>103</td>\n",
       "      <td>Charlie</td>\n",
       "      <td>28</td>\n",
       "      <td>IT</td>\n",
       "      <td>55000</td>\n",
       "      <td>2021-07-10</td>\n",
       "    </tr>\n",
       "  </tbody>\n",
       "</table>\n",
       "</div>"
      ],
      "text/plain": [
       "   EmployeeID     Name  Age Department  Salary JoiningDate\n",
       "1         102      Bob   30         IT   60000  2019-03-22\n",
       "2         103  Charlie   28         IT   55000  2021-07-10"
      ]
     },
     "execution_count": 17,
     "metadata": {},
     "output_type": "execute_result"
    }
   ],
   "source": [
    "# loc and iloc function \n",
    "df.iloc[1:3]"
   ]
  },
  {
   "cell_type": "code",
   "execution_count": 18,
   "id": "83a6f220",
   "metadata": {},
   "outputs": [
    {
     "data": {
      "text/html": [
       "<div>\n",
       "<style scoped>\n",
       "    .dataframe tbody tr th:only-of-type {\n",
       "        vertical-align: middle;\n",
       "    }\n",
       "\n",
       "    .dataframe tbody tr th {\n",
       "        vertical-align: top;\n",
       "    }\n",
       "\n",
       "    .dataframe thead th {\n",
       "        text-align: right;\n",
       "    }\n",
       "</style>\n",
       "<table border=\"1\" class=\"dataframe\">\n",
       "  <thead>\n",
       "    <tr style=\"text-align: right;\">\n",
       "      <th></th>\n",
       "      <th>Age</th>\n",
       "      <th>Department</th>\n",
       "    </tr>\n",
       "  </thead>\n",
       "  <tbody>\n",
       "    <tr>\n",
       "      <th>1</th>\n",
       "      <td>30</td>\n",
       "      <td>IT</td>\n",
       "    </tr>\n",
       "    <tr>\n",
       "      <th>2</th>\n",
       "      <td>28</td>\n",
       "      <td>IT</td>\n",
       "    </tr>\n",
       "    <tr>\n",
       "      <th>3</th>\n",
       "      <td>35</td>\n",
       "      <td>Finance</td>\n",
       "    </tr>\n",
       "  </tbody>\n",
       "</table>\n",
       "</div>"
      ],
      "text/plain": [
       "   Age Department\n",
       "1   30         IT\n",
       "2   28         IT\n",
       "3   35    Finance"
      ]
     },
     "execution_count": 18,
     "metadata": {},
     "output_type": "execute_result"
    }
   ],
   "source": [
    "df.loc[1:3,['Age',\"Department\"]]"
   ]
  },
  {
   "cell_type": "code",
   "execution_count": 19,
   "id": "a52952e7",
   "metadata": {},
   "outputs": [
    {
     "data": {
      "text/plain": [
       "0    25\n",
       "1    30\n",
       "2    28\n",
       "3    35\n",
       "4    29\n",
       "5    40\n",
       "6    32\n",
       "7    27\n",
       "8    31\n",
       "9    38\n",
       "Name: Age, dtype: int64"
      ]
     },
     "execution_count": 19,
     "metadata": {},
     "output_type": "execute_result"
    }
   ],
   "source": [
    "df[\"Age\"]"
   ]
  },
  {
   "cell_type": "markdown",
   "id": "f0aaccaa",
   "metadata": {},
   "source": [
    "### 📌 Drop Operation in Pandas DataFrame / Series\n",
    "\n",
    "- **Definition:** Used to remove rows or columns from a DataFrame or elements from a Series.\n",
    "- **Default behavior:** Returns a **new object**; the original remains unchanged.\n",
    "- **`inplace=True` option:** Modifies the original object directly without creating a new one.\n",
    "\n",
    "---\n",
    "\n",
    "#### Example: Drop in DataFrame\n"
   ]
  },
  {
   "cell_type": "code",
   "execution_count": 20,
   "id": "9cedd18f",
   "metadata": {},
   "outputs": [
    {
     "name": "stdout",
     "output_type": "stream",
     "text": [
      "New DataFrame after drop:\n",
      "    EmployeeID     Name Department  Salary JoiningDate\n",
      "0         101    Alice         HR   50000  2020-01-15\n",
      "1         102      Bob         IT   60000  2019-03-22\n",
      "2         103  Charlie         IT   55000  2021-07-10\n",
      "3         104    David    Finance   70000  2018-11-05\n",
      "4         105      Eva         HR   52000  2020-06-30\n",
      "5         106    Frank    Finance   75000  2017-09-17\n",
      "6         107    Grace         IT   58000  2019-12-01\n",
      "7         108   Hannah         HR   51000  2021-04-12\n",
      "8         109      Ian    Finance   72000  2018-05-20\n",
      "9         110     Jack         IT   61000  2020-08-25\n",
      "\n",
      "Original DataFrame after in-place drop:\n",
      "    EmployeeID     Name  Age Department  Salary JoiningDate\n",
      "0         101    Alice   25         HR   50000  2020-01-15\n",
      "2         103  Charlie   28         IT   55000  2021-07-10\n",
      "3         104    David   35    Finance   70000  2018-11-05\n",
      "4         105      Eva   29         HR   52000  2020-06-30\n",
      "5         106    Frank   40    Finance   75000  2017-09-17\n",
      "6         107    Grace   32         IT   58000  2019-12-01\n",
      "7         108   Hannah   27         HR   51000  2021-04-12\n",
      "8         109      Ian   31    Finance   72000  2018-05-20\n",
      "9         110     Jack   38         IT   61000  2020-08-25\n"
     ]
    }
   ],
   "source": [
    "\n",
    "import pandas as pd\n",
    "\n",
    "\n",
    "\n",
    "# Drop a column (creates new DataFrame)\n",
    "new_df = df.drop(columns=\"Age\")\n",
    "print(\"New DataFrame after drop:\\n\", new_df)\n",
    "\n",
    "# Drop a row using index (in-place)\n",
    "df.drop(index=1, inplace=True)  # Removes Bob\n",
    "print(\"\\nOriginal DataFrame after in-place drop:\\n\", df)\n"
   ]
  },
  {
   "cell_type": "code",
   "execution_count": 21,
   "id": "637e8da0",
   "metadata": {},
   "outputs": [
    {
     "data": {
      "text/plain": [
       "(9, 6)"
      ]
     },
     "execution_count": 21,
     "metadata": {},
     "output_type": "execute_result"
    }
   ],
   "source": [
    "df.shape\n"
   ]
  },
  {
   "cell_type": "code",
   "execution_count": 22,
   "id": "410a36e9",
   "metadata": {},
   "outputs": [
    {
     "name": "stdout",
     "output_type": "stream",
     "text": [
      "<class 'pandas.core.frame.DataFrame'>\n",
      "Index: 9 entries, 0 to 9\n",
      "Data columns (total 6 columns):\n",
      " #   Column       Non-Null Count  Dtype \n",
      "---  ------       --------------  ----- \n",
      " 0   EmployeeID   9 non-null      int64 \n",
      " 1   Name         9 non-null      object\n",
      " 2   Age          9 non-null      int64 \n",
      " 3   Department   9 non-null      object\n",
      " 4   Salary       9 non-null      int64 \n",
      " 5   JoiningDate  9 non-null      object\n",
      "dtypes: int64(3), object(3)\n",
      "memory usage: 504.0+ bytes\n"
     ]
    }
   ],
   "source": [
    "df.info()"
   ]
  },
  {
   "cell_type": "code",
   "execution_count": 23,
   "id": "49911530",
   "metadata": {},
   "outputs": [
    {
     "data": {
      "text/html": [
       "<div>\n",
       "<style scoped>\n",
       "    .dataframe tbody tr th:only-of-type {\n",
       "        vertical-align: middle;\n",
       "    }\n",
       "\n",
       "    .dataframe tbody tr th {\n",
       "        vertical-align: top;\n",
       "    }\n",
       "\n",
       "    .dataframe thead th {\n",
       "        text-align: right;\n",
       "    }\n",
       "</style>\n",
       "<table border=\"1\" class=\"dataframe\">\n",
       "  <thead>\n",
       "    <tr style=\"text-align: right;\">\n",
       "      <th></th>\n",
       "      <th>EmployeeID</th>\n",
       "      <th>Age</th>\n",
       "      <th>Salary</th>\n",
       "    </tr>\n",
       "  </thead>\n",
       "  <tbody>\n",
       "    <tr>\n",
       "      <th>count</th>\n",
       "      <td>9.000000</td>\n",
       "      <td>9.000000</td>\n",
       "      <td>9.000000</td>\n",
       "    </tr>\n",
       "    <tr>\n",
       "      <th>mean</th>\n",
       "      <td>105.888889</td>\n",
       "      <td>31.666667</td>\n",
       "      <td>60444.444444</td>\n",
       "    </tr>\n",
       "    <tr>\n",
       "      <th>std</th>\n",
       "      <td>2.934469</td>\n",
       "      <td>5.099020</td>\n",
       "      <td>9632.122185</td>\n",
       "    </tr>\n",
       "    <tr>\n",
       "      <th>min</th>\n",
       "      <td>101.000000</td>\n",
       "      <td>25.000000</td>\n",
       "      <td>50000.000000</td>\n",
       "    </tr>\n",
       "    <tr>\n",
       "      <th>25%</th>\n",
       "      <td>104.000000</td>\n",
       "      <td>28.000000</td>\n",
       "      <td>52000.000000</td>\n",
       "    </tr>\n",
       "    <tr>\n",
       "      <th>50%</th>\n",
       "      <td>106.000000</td>\n",
       "      <td>31.000000</td>\n",
       "      <td>58000.000000</td>\n",
       "    </tr>\n",
       "    <tr>\n",
       "      <th>75%</th>\n",
       "      <td>108.000000</td>\n",
       "      <td>35.000000</td>\n",
       "      <td>70000.000000</td>\n",
       "    </tr>\n",
       "    <tr>\n",
       "      <th>max</th>\n",
       "      <td>110.000000</td>\n",
       "      <td>40.000000</td>\n",
       "      <td>75000.000000</td>\n",
       "    </tr>\n",
       "  </tbody>\n",
       "</table>\n",
       "</div>"
      ],
      "text/plain": [
       "       EmployeeID        Age        Salary\n",
       "count    9.000000   9.000000      9.000000\n",
       "mean   105.888889  31.666667  60444.444444\n",
       "std      2.934469   5.099020   9632.122185\n",
       "min    101.000000  25.000000  50000.000000\n",
       "25%    104.000000  28.000000  52000.000000\n",
       "50%    106.000000  31.000000  58000.000000\n",
       "75%    108.000000  35.000000  70000.000000\n",
       "max    110.000000  40.000000  75000.000000"
      ]
     },
     "execution_count": 23,
     "metadata": {},
     "output_type": "execute_result"
    }
   ],
   "source": [
    "df.describe()"
   ]
  },
  {
   "cell_type": "code",
   "execution_count": 24,
   "id": "930bbf8d",
   "metadata": {},
   "outputs": [],
   "source": [
    "# Broadcasting\n",
    "\n",
    "df[\"Salary\"]=df[\"Salary\"]+5000"
   ]
  },
  {
   "cell_type": "code",
   "execution_count": 25,
   "id": "e5e48502",
   "metadata": {},
   "outputs": [
    {
     "data": {
      "text/plain": [
       "0    55000\n",
       "2    60000\n",
       "3    75000\n",
       "4    57000\n",
       "5    80000\n",
       "6    63000\n",
       "7    56000\n",
       "8    77000\n",
       "9    66000\n",
       "Name: Salary, dtype: int64"
      ]
     },
     "execution_count": 25,
     "metadata": {},
     "output_type": "execute_result"
    }
   ],
   "source": [
    "df[\"Salary\"]"
   ]
  },
  {
   "cell_type": "code",
   "execution_count": 26,
   "id": "a13666d1",
   "metadata": {},
   "outputs": [],
   "source": [
    "# rename Columen\n",
    "\n",
    "df.rename(columns={\"Department\" : \"Dept\"},inplace=True)"
   ]
  },
  {
   "cell_type": "code",
   "execution_count": 27,
   "id": "a978747b",
   "metadata": {},
   "outputs": [
    {
     "data": {
      "text/html": [
       "<div>\n",
       "<style scoped>\n",
       "    .dataframe tbody tr th:only-of-type {\n",
       "        vertical-align: middle;\n",
       "    }\n",
       "\n",
       "    .dataframe tbody tr th {\n",
       "        vertical-align: top;\n",
       "    }\n",
       "\n",
       "    .dataframe thead th {\n",
       "        text-align: right;\n",
       "    }\n",
       "</style>\n",
       "<table border=\"1\" class=\"dataframe\">\n",
       "  <thead>\n",
       "    <tr style=\"text-align: right;\">\n",
       "      <th></th>\n",
       "      <th>EmployeeID</th>\n",
       "      <th>Name</th>\n",
       "      <th>Age</th>\n",
       "      <th>Dept</th>\n",
       "      <th>Salary</th>\n",
       "      <th>JoiningDate</th>\n",
       "    </tr>\n",
       "  </thead>\n",
       "  <tbody>\n",
       "    <tr>\n",
       "      <th>0</th>\n",
       "      <td>101</td>\n",
       "      <td>Alice</td>\n",
       "      <td>25</td>\n",
       "      <td>HR</td>\n",
       "      <td>55000</td>\n",
       "      <td>2020-01-15</td>\n",
       "    </tr>\n",
       "    <tr>\n",
       "      <th>2</th>\n",
       "      <td>103</td>\n",
       "      <td>Charlie</td>\n",
       "      <td>28</td>\n",
       "      <td>IT</td>\n",
       "      <td>60000</td>\n",
       "      <td>2021-07-10</td>\n",
       "    </tr>\n",
       "    <tr>\n",
       "      <th>3</th>\n",
       "      <td>104</td>\n",
       "      <td>David</td>\n",
       "      <td>35</td>\n",
       "      <td>Finance</td>\n",
       "      <td>75000</td>\n",
       "      <td>2018-11-05</td>\n",
       "    </tr>\n",
       "    <tr>\n",
       "      <th>4</th>\n",
       "      <td>105</td>\n",
       "      <td>Eva</td>\n",
       "      <td>29</td>\n",
       "      <td>HR</td>\n",
       "      <td>57000</td>\n",
       "      <td>2020-06-30</td>\n",
       "    </tr>\n",
       "    <tr>\n",
       "      <th>5</th>\n",
       "      <td>106</td>\n",
       "      <td>Frank</td>\n",
       "      <td>40</td>\n",
       "      <td>Finance</td>\n",
       "      <td>80000</td>\n",
       "      <td>2017-09-17</td>\n",
       "    </tr>\n",
       "    <tr>\n",
       "      <th>6</th>\n",
       "      <td>107</td>\n",
       "      <td>Grace</td>\n",
       "      <td>32</td>\n",
       "      <td>IT</td>\n",
       "      <td>63000</td>\n",
       "      <td>2019-12-01</td>\n",
       "    </tr>\n",
       "    <tr>\n",
       "      <th>7</th>\n",
       "      <td>108</td>\n",
       "      <td>Hannah</td>\n",
       "      <td>27</td>\n",
       "      <td>HR</td>\n",
       "      <td>56000</td>\n",
       "      <td>2021-04-12</td>\n",
       "    </tr>\n",
       "    <tr>\n",
       "      <th>8</th>\n",
       "      <td>109</td>\n",
       "      <td>Ian</td>\n",
       "      <td>31</td>\n",
       "      <td>Finance</td>\n",
       "      <td>77000</td>\n",
       "      <td>2018-05-20</td>\n",
       "    </tr>\n",
       "    <tr>\n",
       "      <th>9</th>\n",
       "      <td>110</td>\n",
       "      <td>Jack</td>\n",
       "      <td>38</td>\n",
       "      <td>IT</td>\n",
       "      <td>66000</td>\n",
       "      <td>2020-08-25</td>\n",
       "    </tr>\n",
       "  </tbody>\n",
       "</table>\n",
       "</div>"
      ],
      "text/plain": [
       "   EmployeeID     Name  Age     Dept  Salary JoiningDate\n",
       "0         101    Alice   25       HR   55000  2020-01-15\n",
       "2         103  Charlie   28       IT   60000  2021-07-10\n",
       "3         104    David   35  Finance   75000  2018-11-05\n",
       "4         105      Eva   29       HR   57000  2020-06-30\n",
       "5         106    Frank   40  Finance   80000  2017-09-17\n",
       "6         107    Grace   32       IT   63000  2019-12-01\n",
       "7         108   Hannah   27       HR   56000  2021-04-12\n",
       "8         109      Ian   31  Finance   77000  2018-05-20\n",
       "9         110     Jack   38       IT   66000  2020-08-25"
      ]
     },
     "execution_count": 27,
     "metadata": {},
     "output_type": "execute_result"
    }
   ],
   "source": [
    "df"
   ]
  },
  {
   "cell_type": "code",
   "execution_count": 28,
   "id": "61a7198d",
   "metadata": {},
   "outputs": [
    {
     "data": {
      "text/plain": [
       "array(['HR', 'IT', 'Finance'], dtype=object)"
      ]
     },
     "execution_count": 28,
     "metadata": {},
     "output_type": "execute_result"
    }
   ],
   "source": [
    "# to check for the unique Department \n",
    "\n",
    "df[\"Dept\"].unique()"
   ]
  },
  {
   "cell_type": "code",
   "execution_count": 29,
   "id": "f0aa760a",
   "metadata": {},
   "outputs": [
    {
     "data": {
      "text/plain": [
       "Dept\n",
       "HR         3\n",
       "IT         3\n",
       "Finance    3\n",
       "Name: count, dtype: int64"
      ]
     },
     "execution_count": 29,
     "metadata": {},
     "output_type": "execute_result"
    }
   ],
   "source": [
    "df[\"Dept\"].value_counts()"
   ]
  },
  {
   "cell_type": "code",
   "execution_count": 31,
   "id": "c0b5e430",
   "metadata": {},
   "outputs": [
    {
     "data": {
      "text/plain": [
       "EmployeeID     0\n",
       "Name           0\n",
       "Age            0\n",
       "Dept           0\n",
       "Salary         0\n",
       "JoiningDate    0\n",
       "dtype: int64"
      ]
     },
     "execution_count": 31,
     "metadata": {},
     "output_type": "execute_result"
    }
   ],
   "source": [
    "df.isnull().sum()"
   ]
  },
  {
   "cell_type": "markdown",
   "id": "72dcbd17",
   "metadata": {},
   "source": [
    "# Pandas `dropna()` Notes\n",
    "\n",
    "## What is `dropna()`?\n",
    "- Removes missing values (`NaN` / `None`) from a DataFrame or Series.\n",
    "\n",
    "---\n",
    "\n",
    "## Syntax\n",
    "\n",
    "\n",
    "---\n",
    "\n",
    "## Parameters\n",
    "\n",
    "### 1. axis\n",
    "- `0` → drop **rows** with NaN (default)  \n",
    "- `1` → drop **columns** with NaN  \n",
    "\n",
    "### 2. how\n",
    "- `'any'` → drop row/column if **any NaN** exists (default)  \n",
    "- `'all'` → drop row/column only if **all values are NaN**  \n",
    "\n",
    "### 3. thresh\n",
    "- Minimum number of **non-NaN values required** to keep the row/column  \n",
    "\n",
    "### 4. subset\n",
    "- Specify column(s) to check for NaN while dropping  \n",
    "\n",
    "### 5. inplace\n",
    "- `False` → returns new DataFrame (default)  \n",
    "- `True` → modifies the original DataFrame directly  \n",
    "\n",
    "---\n",
    "\n",
    "## Examples\n",
    "\n"
   ]
  },
  {
   "cell_type": "code",
   "execution_count": 39,
   "id": "483982ed",
   "metadata": {},
   "outputs": [
    {
     "data": {
      "text/html": [
       "<div>\n",
       "<style scoped>\n",
       "    .dataframe tbody tr th:only-of-type {\n",
       "        vertical-align: middle;\n",
       "    }\n",
       "\n",
       "    .dataframe tbody tr th {\n",
       "        vertical-align: top;\n",
       "    }\n",
       "\n",
       "    .dataframe thead th {\n",
       "        text-align: right;\n",
       "    }\n",
       "</style>\n",
       "<table border=\"1\" class=\"dataframe\">\n",
       "  <thead>\n",
       "    <tr style=\"text-align: right;\">\n",
       "      <th></th>\n",
       "      <th>Name</th>\n",
       "      <th>Age</th>\n",
       "      <th>City</th>\n",
       "      <th>Salary</th>\n",
       "    </tr>\n",
       "  </thead>\n",
       "  <tbody>\n",
       "    <tr>\n",
       "      <th>0</th>\n",
       "      <td>Amit</td>\n",
       "      <td>25.0</td>\n",
       "      <td>Delhi</td>\n",
       "      <td>50000.0</td>\n",
       "    </tr>\n",
       "    <tr>\n",
       "      <th>1</th>\n",
       "      <td>Riya</td>\n",
       "      <td>NaN</td>\n",
       "      <td>Mumbai</td>\n",
       "      <td>60000.0</td>\n",
       "    </tr>\n",
       "    <tr>\n",
       "      <th>2</th>\n",
       "      <td>Karan</td>\n",
       "      <td>30.0</td>\n",
       "      <td>NaN</td>\n",
       "      <td>NaN</td>\n",
       "    </tr>\n",
       "    <tr>\n",
       "      <th>3</th>\n",
       "      <td>Sneha</td>\n",
       "      <td>22.0</td>\n",
       "      <td>Pune</td>\n",
       "      <td>45000.0</td>\n",
       "    </tr>\n",
       "    <tr>\n",
       "      <th>4</th>\n",
       "      <td>Vikas</td>\n",
       "      <td>NaN</td>\n",
       "      <td>Delhi</td>\n",
       "      <td>52000.0</td>\n",
       "    </tr>\n",
       "    <tr>\n",
       "      <th>5</th>\n",
       "      <td>Neha</td>\n",
       "      <td>28.0</td>\n",
       "      <td>Chennai</td>\n",
       "      <td>NaN</td>\n",
       "    </tr>\n",
       "    <tr>\n",
       "      <th>6</th>\n",
       "      <td>NaN</td>\n",
       "      <td>35.0</td>\n",
       "      <td>Kolkata</td>\n",
       "      <td>70000.0</td>\n",
       "    </tr>\n",
       "    <tr>\n",
       "      <th>7</th>\n",
       "      <td>Rohan</td>\n",
       "      <td>40.0</td>\n",
       "      <td>NaN</td>\n",
       "      <td>80000.0</td>\n",
       "    </tr>\n",
       "  </tbody>\n",
       "</table>\n",
       "</div>"
      ],
      "text/plain": [
       "    Name   Age     City   Salary\n",
       "0   Amit  25.0    Delhi  50000.0\n",
       "1   Riya   NaN   Mumbai  60000.0\n",
       "2  Karan  30.0      NaN      NaN\n",
       "3  Sneha  22.0     Pune  45000.0\n",
       "4  Vikas   NaN    Delhi  52000.0\n",
       "5   Neha  28.0  Chennai      NaN\n",
       "6    NaN  35.0  Kolkata  70000.0\n",
       "7  Rohan  40.0      NaN  80000.0"
      ]
     },
     "execution_count": 39,
     "metadata": {},
     "output_type": "execute_result"
    }
   ],
   "source": [
    "\n",
    "import pandas as pd\n",
    "import numpy as np\n",
    "\n",
    "data = {\n",
    "    \"Name\": [\"Amit\", \"Riya\", \"Karan\", \"Sneha\", \"Vikas\", \"Neha\", np.nan, \"Rohan\"],\n",
    "    \"Age\": [25, np.nan, 30, 22, np.nan, 28, 35, 40],\n",
    "    \"City\": [\"Delhi\", \"Mumbai\", np.nan, \"Pune\", \"Delhi\", \"Chennai\", \"Kolkata\", np.nan],\n",
    "    \"Salary\": [50000, 60000, np.nan, 45000, 52000, np.nan, 70000, 80000]\n",
    "}\n",
    "df2 = pd.DataFrame(data)\n",
    "df2\n",
    "\n"
   ]
  },
  {
   "cell_type": "code",
   "execution_count": 42,
   "id": "e279319e",
   "metadata": {},
   "outputs": [
    {
     "data": {
      "text/html": [
       "<div>\n",
       "<style scoped>\n",
       "    .dataframe tbody tr th:only-of-type {\n",
       "        vertical-align: middle;\n",
       "    }\n",
       "\n",
       "    .dataframe tbody tr th {\n",
       "        vertical-align: top;\n",
       "    }\n",
       "\n",
       "    .dataframe thead th {\n",
       "        text-align: right;\n",
       "    }\n",
       "</style>\n",
       "<table border=\"1\" class=\"dataframe\">\n",
       "  <thead>\n",
       "    <tr style=\"text-align: right;\">\n",
       "      <th></th>\n",
       "      <th>Name</th>\n",
       "      <th>Age</th>\n",
       "      <th>City</th>\n",
       "      <th>Salary</th>\n",
       "    </tr>\n",
       "  </thead>\n",
       "  <tbody>\n",
       "    <tr>\n",
       "      <th>0</th>\n",
       "      <td>Amit</td>\n",
       "      <td>25.0</td>\n",
       "      <td>Delhi</td>\n",
       "      <td>50000.0</td>\n",
       "    </tr>\n",
       "    <tr>\n",
       "      <th>3</th>\n",
       "      <td>Sneha</td>\n",
       "      <td>22.0</td>\n",
       "      <td>Pune</td>\n",
       "      <td>45000.0</td>\n",
       "    </tr>\n",
       "  </tbody>\n",
       "</table>\n",
       "</div>"
      ],
      "text/plain": [
       "    Name   Age   City   Salary\n",
       "0   Amit  25.0  Delhi  50000.0\n",
       "3  Sneha  22.0   Pune  45000.0"
      ]
     },
     "execution_count": 42,
     "metadata": {},
     "output_type": "execute_result"
    }
   ],
   "source": [
    "# Drop rows with any NaN\n",
    "df2.dropna()\n",
    "\n"
   ]
  },
  {
   "cell_type": "code",
   "execution_count": 44,
   "id": "2ab93825",
   "metadata": {},
   "outputs": [
    {
     "data": {
      "text/html": [
       "<div>\n",
       "<style scoped>\n",
       "    .dataframe tbody tr th:only-of-type {\n",
       "        vertical-align: middle;\n",
       "    }\n",
       "\n",
       "    .dataframe tbody tr th {\n",
       "        vertical-align: top;\n",
       "    }\n",
       "\n",
       "    .dataframe thead th {\n",
       "        text-align: right;\n",
       "    }\n",
       "</style>\n",
       "<table border=\"1\" class=\"dataframe\">\n",
       "  <thead>\n",
       "    <tr style=\"text-align: right;\">\n",
       "      <th></th>\n",
       "    </tr>\n",
       "  </thead>\n",
       "  <tbody>\n",
       "    <tr>\n",
       "      <th>0</th>\n",
       "    </tr>\n",
       "    <tr>\n",
       "      <th>1</th>\n",
       "    </tr>\n",
       "    <tr>\n",
       "      <th>2</th>\n",
       "    </tr>\n",
       "    <tr>\n",
       "      <th>3</th>\n",
       "    </tr>\n",
       "    <tr>\n",
       "      <th>4</th>\n",
       "    </tr>\n",
       "    <tr>\n",
       "      <th>5</th>\n",
       "    </tr>\n",
       "    <tr>\n",
       "      <th>6</th>\n",
       "    </tr>\n",
       "    <tr>\n",
       "      <th>7</th>\n",
       "    </tr>\n",
       "  </tbody>\n",
       "</table>\n",
       "</div>"
      ],
      "text/plain": [
       "Empty DataFrame\n",
       "Columns: []\n",
       "Index: [0, 1, 2, 3, 4, 5, 6, 7]"
      ]
     },
     "execution_count": 44,
     "metadata": {},
     "output_type": "execute_result"
    }
   ],
   "source": [
    "# Drop columns with any NaN\n",
    "df2.dropna(axis=1)\n",
    "#in the exple all the colums has NAN\n",
    "\n"
   ]
  },
  {
   "cell_type": "code",
   "execution_count": 45,
   "id": "4f0e50ea",
   "metadata": {},
   "outputs": [
    {
     "data": {
      "text/html": [
       "<div>\n",
       "<style scoped>\n",
       "    .dataframe tbody tr th:only-of-type {\n",
       "        vertical-align: middle;\n",
       "    }\n",
       "\n",
       "    .dataframe tbody tr th {\n",
       "        vertical-align: top;\n",
       "    }\n",
       "\n",
       "    .dataframe thead th {\n",
       "        text-align: right;\n",
       "    }\n",
       "</style>\n",
       "<table border=\"1\" class=\"dataframe\">\n",
       "  <thead>\n",
       "    <tr style=\"text-align: right;\">\n",
       "      <th></th>\n",
       "      <th>Name</th>\n",
       "      <th>Age</th>\n",
       "      <th>City</th>\n",
       "      <th>Salary</th>\n",
       "    </tr>\n",
       "  </thead>\n",
       "  <tbody>\n",
       "    <tr>\n",
       "      <th>0</th>\n",
       "      <td>Amit</td>\n",
       "      <td>25.0</td>\n",
       "      <td>Delhi</td>\n",
       "      <td>50000.0</td>\n",
       "    </tr>\n",
       "    <tr>\n",
       "      <th>1</th>\n",
       "      <td>Riya</td>\n",
       "      <td>NaN</td>\n",
       "      <td>Mumbai</td>\n",
       "      <td>60000.0</td>\n",
       "    </tr>\n",
       "    <tr>\n",
       "      <th>2</th>\n",
       "      <td>Karan</td>\n",
       "      <td>30.0</td>\n",
       "      <td>NaN</td>\n",
       "      <td>NaN</td>\n",
       "    </tr>\n",
       "    <tr>\n",
       "      <th>3</th>\n",
       "      <td>Sneha</td>\n",
       "      <td>22.0</td>\n",
       "      <td>Pune</td>\n",
       "      <td>45000.0</td>\n",
       "    </tr>\n",
       "    <tr>\n",
       "      <th>4</th>\n",
       "      <td>Vikas</td>\n",
       "      <td>NaN</td>\n",
       "      <td>Delhi</td>\n",
       "      <td>52000.0</td>\n",
       "    </tr>\n",
       "    <tr>\n",
       "      <th>5</th>\n",
       "      <td>Neha</td>\n",
       "      <td>28.0</td>\n",
       "      <td>Chennai</td>\n",
       "      <td>NaN</td>\n",
       "    </tr>\n",
       "    <tr>\n",
       "      <th>6</th>\n",
       "      <td>NaN</td>\n",
       "      <td>35.0</td>\n",
       "      <td>Kolkata</td>\n",
       "      <td>70000.0</td>\n",
       "    </tr>\n",
       "    <tr>\n",
       "      <th>7</th>\n",
       "      <td>Rohan</td>\n",
       "      <td>40.0</td>\n",
       "      <td>NaN</td>\n",
       "      <td>80000.0</td>\n",
       "    </tr>\n",
       "  </tbody>\n",
       "</table>\n",
       "</div>"
      ],
      "text/plain": [
       "    Name   Age     City   Salary\n",
       "0   Amit  25.0    Delhi  50000.0\n",
       "1   Riya   NaN   Mumbai  60000.0\n",
       "2  Karan  30.0      NaN      NaN\n",
       "3  Sneha  22.0     Pune  45000.0\n",
       "4  Vikas   NaN    Delhi  52000.0\n",
       "5   Neha  28.0  Chennai      NaN\n",
       "6    NaN  35.0  Kolkata  70000.0\n",
       "7  Rohan  40.0      NaN  80000.0"
      ]
     },
     "execution_count": 45,
     "metadata": {},
     "output_type": "execute_result"
    }
   ],
   "source": [
    "# Drop rows where all values are NaN\n",
    "df2.dropna(how='all')\n",
    "\n"
   ]
  },
  {
   "cell_type": "code",
   "execution_count": 47,
   "id": "7a654076",
   "metadata": {},
   "outputs": [
    {
     "data": {
      "text/html": [
       "<div>\n",
       "<style scoped>\n",
       "    .dataframe tbody tr th:only-of-type {\n",
       "        vertical-align: middle;\n",
       "    }\n",
       "\n",
       "    .dataframe tbody tr th {\n",
       "        vertical-align: top;\n",
       "    }\n",
       "\n",
       "    .dataframe thead th {\n",
       "        text-align: right;\n",
       "    }\n",
       "</style>\n",
       "<table border=\"1\" class=\"dataframe\">\n",
       "  <thead>\n",
       "    <tr style=\"text-align: right;\">\n",
       "      <th></th>\n",
       "      <th>Name</th>\n",
       "      <th>Age</th>\n",
       "      <th>City</th>\n",
       "      <th>Salary</th>\n",
       "    </tr>\n",
       "  </thead>\n",
       "  <tbody>\n",
       "    <tr>\n",
       "      <th>0</th>\n",
       "      <td>Amit</td>\n",
       "      <td>25.0</td>\n",
       "      <td>Delhi</td>\n",
       "      <td>50000.0</td>\n",
       "    </tr>\n",
       "    <tr>\n",
       "      <th>1</th>\n",
       "      <td>Riya</td>\n",
       "      <td>NaN</td>\n",
       "      <td>Mumbai</td>\n",
       "      <td>60000.0</td>\n",
       "    </tr>\n",
       "    <tr>\n",
       "      <th>2</th>\n",
       "      <td>Karan</td>\n",
       "      <td>30.0</td>\n",
       "      <td>NaN</td>\n",
       "      <td>NaN</td>\n",
       "    </tr>\n",
       "    <tr>\n",
       "      <th>3</th>\n",
       "      <td>Sneha</td>\n",
       "      <td>22.0</td>\n",
       "      <td>Pune</td>\n",
       "      <td>45000.0</td>\n",
       "    </tr>\n",
       "    <tr>\n",
       "      <th>4</th>\n",
       "      <td>Vikas</td>\n",
       "      <td>NaN</td>\n",
       "      <td>Delhi</td>\n",
       "      <td>52000.0</td>\n",
       "    </tr>\n",
       "    <tr>\n",
       "      <th>5</th>\n",
       "      <td>Neha</td>\n",
       "      <td>28.0</td>\n",
       "      <td>Chennai</td>\n",
       "      <td>NaN</td>\n",
       "    </tr>\n",
       "    <tr>\n",
       "      <th>6</th>\n",
       "      <td>NaN</td>\n",
       "      <td>35.0</td>\n",
       "      <td>Kolkata</td>\n",
       "      <td>70000.0</td>\n",
       "    </tr>\n",
       "    <tr>\n",
       "      <th>7</th>\n",
       "      <td>Rohan</td>\n",
       "      <td>40.0</td>\n",
       "      <td>NaN</td>\n",
       "      <td>80000.0</td>\n",
       "    </tr>\n",
       "  </tbody>\n",
       "</table>\n",
       "</div>"
      ],
      "text/plain": [
       "    Name   Age     City   Salary\n",
       "0   Amit  25.0    Delhi  50000.0\n",
       "1   Riya   NaN   Mumbai  60000.0\n",
       "2  Karan  30.0      NaN      NaN\n",
       "3  Sneha  22.0     Pune  45000.0\n",
       "4  Vikas   NaN    Delhi  52000.0\n",
       "5   Neha  28.0  Chennai      NaN\n",
       "6    NaN  35.0  Kolkata  70000.0\n",
       "7  Rohan  40.0      NaN  80000.0"
      ]
     },
     "execution_count": 47,
     "metadata": {},
     "output_type": "execute_result"
    }
   ],
   "source": [
    "# Drop rows with less than 2 non-NaN values\n",
    "df2.dropna(thresh=2)\n",
    "\n",
    "\n"
   ]
  },
  {
   "cell_type": "code",
   "execution_count": 48,
   "id": "c93d3682",
   "metadata": {},
   "outputs": [
    {
     "data": {
      "text/html": [
       "<div>\n",
       "<style scoped>\n",
       "    .dataframe tbody tr th:only-of-type {\n",
       "        vertical-align: middle;\n",
       "    }\n",
       "\n",
       "    .dataframe tbody tr th {\n",
       "        vertical-align: top;\n",
       "    }\n",
       "\n",
       "    .dataframe thead th {\n",
       "        text-align: right;\n",
       "    }\n",
       "</style>\n",
       "<table border=\"1\" class=\"dataframe\">\n",
       "  <thead>\n",
       "    <tr style=\"text-align: right;\">\n",
       "      <th></th>\n",
       "      <th>Name</th>\n",
       "      <th>Age</th>\n",
       "      <th>City</th>\n",
       "      <th>Salary</th>\n",
       "    </tr>\n",
       "  </thead>\n",
       "  <tbody>\n",
       "    <tr>\n",
       "      <th>0</th>\n",
       "      <td>Amit</td>\n",
       "      <td>25.0</td>\n",
       "      <td>Delhi</td>\n",
       "      <td>50000.0</td>\n",
       "    </tr>\n",
       "    <tr>\n",
       "      <th>1</th>\n",
       "      <td>Riya</td>\n",
       "      <td>NaN</td>\n",
       "      <td>Mumbai</td>\n",
       "      <td>60000.0</td>\n",
       "    </tr>\n",
       "    <tr>\n",
       "      <th>3</th>\n",
       "      <td>Sneha</td>\n",
       "      <td>22.0</td>\n",
       "      <td>Pune</td>\n",
       "      <td>45000.0</td>\n",
       "    </tr>\n",
       "    <tr>\n",
       "      <th>4</th>\n",
       "      <td>Vikas</td>\n",
       "      <td>NaN</td>\n",
       "      <td>Delhi</td>\n",
       "      <td>52000.0</td>\n",
       "    </tr>\n",
       "    <tr>\n",
       "      <th>6</th>\n",
       "      <td>NaN</td>\n",
       "      <td>35.0</td>\n",
       "      <td>Kolkata</td>\n",
       "      <td>70000.0</td>\n",
       "    </tr>\n",
       "    <tr>\n",
       "      <th>7</th>\n",
       "      <td>Rohan</td>\n",
       "      <td>40.0</td>\n",
       "      <td>NaN</td>\n",
       "      <td>80000.0</td>\n",
       "    </tr>\n",
       "  </tbody>\n",
       "</table>\n",
       "</div>"
      ],
      "text/plain": [
       "    Name   Age     City   Salary\n",
       "0   Amit  25.0    Delhi  50000.0\n",
       "1   Riya   NaN   Mumbai  60000.0\n",
       "3  Sneha  22.0     Pune  45000.0\n",
       "4  Vikas   NaN    Delhi  52000.0\n",
       "6    NaN  35.0  Kolkata  70000.0\n",
       "7  Rohan  40.0      NaN  80000.0"
      ]
     },
     "execution_count": 48,
     "metadata": {},
     "output_type": "execute_result"
    }
   ],
   "source": [
    "# Drop rows if NaN in column 'B'\n",
    "df.dropna(subset=['Salary'])"
   ]
  },
  {
   "cell_type": "code",
   "execution_count": null,
   "id": "b710da74",
   "metadata": {},
   "outputs": [
    {
     "data": {
      "text/html": [
       "<div>\n",
       "<style scoped>\n",
       "    .dataframe tbody tr th:only-of-type {\n",
       "        vertical-align: middle;\n",
       "    }\n",
       "\n",
       "    .dataframe tbody tr th {\n",
       "        vertical-align: top;\n",
       "    }\n",
       "\n",
       "    .dataframe thead th {\n",
       "        text-align: right;\n",
       "    }\n",
       "</style>\n",
       "<table border=\"1\" class=\"dataframe\">\n",
       "  <thead>\n",
       "    <tr style=\"text-align: right;\">\n",
       "      <th></th>\n",
       "      <th>EmployeeID</th>\n",
       "      <th>Name</th>\n",
       "      <th>Age</th>\n",
       "      <th>Dept</th>\n",
       "      <th>Salary</th>\n",
       "      <th>JoiningDate</th>\n",
       "    </tr>\n",
       "  </thead>\n",
       "  <tbody>\n",
       "    <tr>\n",
       "      <th>0</th>\n",
       "      <td>101</td>\n",
       "      <td>Alice</td>\n",
       "      <td>25</td>\n",
       "      <td>HR</td>\n",
       "      <td>55000</td>\n",
       "      <td>2020-01-15</td>\n",
       "    </tr>\n",
       "    <tr>\n",
       "      <th>2</th>\n",
       "      <td>103</td>\n",
       "      <td>Charlie</td>\n",
       "      <td>28</td>\n",
       "      <td>IT</td>\n",
       "      <td>60000</td>\n",
       "      <td>2021-07-10</td>\n",
       "    </tr>\n",
       "    <tr>\n",
       "      <th>3</th>\n",
       "      <td>104</td>\n",
       "      <td>David</td>\n",
       "      <td>35</td>\n",
       "      <td>Finance</td>\n",
       "      <td>75000</td>\n",
       "      <td>2018-11-05</td>\n",
       "    </tr>\n",
       "    <tr>\n",
       "      <th>4</th>\n",
       "      <td>105</td>\n",
       "      <td>Eva</td>\n",
       "      <td>29</td>\n",
       "      <td>HR</td>\n",
       "      <td>57000</td>\n",
       "      <td>2020-06-30</td>\n",
       "    </tr>\n",
       "    <tr>\n",
       "      <th>5</th>\n",
       "      <td>106</td>\n",
       "      <td>Frank</td>\n",
       "      <td>40</td>\n",
       "      <td>Finance</td>\n",
       "      <td>80000</td>\n",
       "      <td>2017-09-17</td>\n",
       "    </tr>\n",
       "    <tr>\n",
       "      <th>6</th>\n",
       "      <td>107</td>\n",
       "      <td>Grace</td>\n",
       "      <td>32</td>\n",
       "      <td>IT</td>\n",
       "      <td>63000</td>\n",
       "      <td>2019-12-01</td>\n",
       "    </tr>\n",
       "    <tr>\n",
       "      <th>7</th>\n",
       "      <td>108</td>\n",
       "      <td>Hannah</td>\n",
       "      <td>27</td>\n",
       "      <td>HR</td>\n",
       "      <td>56000</td>\n",
       "      <td>2021-04-12</td>\n",
       "    </tr>\n",
       "    <tr>\n",
       "      <th>8</th>\n",
       "      <td>109</td>\n",
       "      <td>Ian</td>\n",
       "      <td>31</td>\n",
       "      <td>Finance</td>\n",
       "      <td>77000</td>\n",
       "      <td>2018-05-20</td>\n",
       "    </tr>\n",
       "    <tr>\n",
       "      <th>9</th>\n",
       "      <td>110</td>\n",
       "      <td>Jack</td>\n",
       "      <td>38</td>\n",
       "      <td>IT</td>\n",
       "      <td>66000</td>\n",
       "      <td>2020-08-25</td>\n",
       "    </tr>\n",
       "  </tbody>\n",
       "</table>\n",
       "</div>"
      ],
      "text/plain": [
       "   EmployeeID     Name  Age     Dept  Salary JoiningDate\n",
       "0         101    Alice   25       HR   55000  2020-01-15\n",
       "2         103  Charlie   28       IT   60000  2021-07-10\n",
       "3         104    David   35  Finance   75000  2018-11-05\n",
       "4         105      Eva   29       HR   57000  2020-06-30\n",
       "5         106    Frank   40  Finance   80000  2017-09-17\n",
       "6         107    Grace   32       IT   63000  2019-12-01\n",
       "7         108   Hannah   27       HR   56000  2021-04-12\n",
       "8         109      Ian   31  Finance   77000  2018-05-20\n",
       "9         110     Jack   38       IT   66000  2020-08-25"
      ]
     },
     "execution_count": 32,
     "metadata": {},
     "output_type": "execute_result"
    }
   ],
   "source": [
    "#now if you want to drop some data having null value \n",
    "#then You can use df.dropna()\n",
    "\n",
    "df.dropna()\n"
   ]
  },
  {
   "cell_type": "code",
   "execution_count": 33,
   "id": "6cdde6fa",
   "metadata": {},
   "outputs": [
    {
     "data": {
      "text/html": [
       "<div>\n",
       "<style scoped>\n",
       "    .dataframe tbody tr th:only-of-type {\n",
       "        vertical-align: middle;\n",
       "    }\n",
       "\n",
       "    .dataframe tbody tr th {\n",
       "        vertical-align: top;\n",
       "    }\n",
       "\n",
       "    .dataframe thead th {\n",
       "        text-align: right;\n",
       "    }\n",
       "</style>\n",
       "<table border=\"1\" class=\"dataframe\">\n",
       "  <thead>\n",
       "    <tr style=\"text-align: right;\">\n",
       "      <th></th>\n",
       "      <th>EmployeeID</th>\n",
       "      <th>Name</th>\n",
       "      <th>Age</th>\n",
       "      <th>Dept</th>\n",
       "      <th>Salary</th>\n",
       "      <th>JoiningDate</th>\n",
       "    </tr>\n",
       "  </thead>\n",
       "  <tbody>\n",
       "    <tr>\n",
       "      <th>0</th>\n",
       "      <td>101</td>\n",
       "      <td>Alice</td>\n",
       "      <td>25</td>\n",
       "      <td>HR</td>\n",
       "      <td>55000</td>\n",
       "      <td>2020-01-15</td>\n",
       "    </tr>\n",
       "    <tr>\n",
       "      <th>2</th>\n",
       "      <td>103</td>\n",
       "      <td>Charlie</td>\n",
       "      <td>28</td>\n",
       "      <td>IT</td>\n",
       "      <td>60000</td>\n",
       "      <td>2021-07-10</td>\n",
       "    </tr>\n",
       "    <tr>\n",
       "      <th>3</th>\n",
       "      <td>104</td>\n",
       "      <td>David</td>\n",
       "      <td>35</td>\n",
       "      <td>Finance</td>\n",
       "      <td>75000</td>\n",
       "      <td>2018-11-05</td>\n",
       "    </tr>\n",
       "    <tr>\n",
       "      <th>4</th>\n",
       "      <td>105</td>\n",
       "      <td>Eva</td>\n",
       "      <td>29</td>\n",
       "      <td>HR</td>\n",
       "      <td>57000</td>\n",
       "      <td>2020-06-30</td>\n",
       "    </tr>\n",
       "    <tr>\n",
       "      <th>5</th>\n",
       "      <td>106</td>\n",
       "      <td>Frank</td>\n",
       "      <td>40</td>\n",
       "      <td>Finance</td>\n",
       "      <td>80000</td>\n",
       "      <td>2017-09-17</td>\n",
       "    </tr>\n",
       "    <tr>\n",
       "      <th>6</th>\n",
       "      <td>107</td>\n",
       "      <td>Grace</td>\n",
       "      <td>32</td>\n",
       "      <td>IT</td>\n",
       "      <td>63000</td>\n",
       "      <td>2019-12-01</td>\n",
       "    </tr>\n",
       "    <tr>\n",
       "      <th>7</th>\n",
       "      <td>108</td>\n",
       "      <td>Hannah</td>\n",
       "      <td>27</td>\n",
       "      <td>HR</td>\n",
       "      <td>56000</td>\n",
       "      <td>2021-04-12</td>\n",
       "    </tr>\n",
       "    <tr>\n",
       "      <th>8</th>\n",
       "      <td>109</td>\n",
       "      <td>Ian</td>\n",
       "      <td>31</td>\n",
       "      <td>Finance</td>\n",
       "      <td>77000</td>\n",
       "      <td>2018-05-20</td>\n",
       "    </tr>\n",
       "    <tr>\n",
       "      <th>9</th>\n",
       "      <td>110</td>\n",
       "      <td>Jack</td>\n",
       "      <td>38</td>\n",
       "      <td>IT</td>\n",
       "      <td>66000</td>\n",
       "      <td>2020-08-25</td>\n",
       "    </tr>\n",
       "  </tbody>\n",
       "</table>\n",
       "</div>"
      ],
      "text/plain": [
       "   EmployeeID     Name  Age     Dept  Salary JoiningDate\n",
       "0         101    Alice   25       HR   55000  2020-01-15\n",
       "2         103  Charlie   28       IT   60000  2021-07-10\n",
       "3         104    David   35  Finance   75000  2018-11-05\n",
       "4         105      Eva   29       HR   57000  2020-06-30\n",
       "5         106    Frank   40  Finance   80000  2017-09-17\n",
       "6         107    Grace   32       IT   63000  2019-12-01\n",
       "7         108   Hannah   27       HR   56000  2021-04-12\n",
       "8         109      Ian   31  Finance   77000  2018-05-20\n",
       "9         110     Jack   38       IT   66000  2020-08-25"
      ]
     },
     "execution_count": 33,
     "metadata": {},
     "output_type": "execute_result"
    }
   ],
   "source": [
    "df"
   ]
  },
  {
   "cell_type": "markdown",
   "id": "eee37cc5",
   "metadata": {},
   "source": [
    "\n",
    "---\n",
    "\n",
    "## Parameters\n",
    "\n",
    "### 1. value\n",
    "- Replace NaN with a specific value (number, string, dict, or Series).  \n",
    "- Example: `df.fillna(0)` replaces all NaN with `0`.\n",
    "\n",
    "### 2. method\n",
    "- `'ffill'` (forward fill) → fills NaN with the **previous value**.  \n",
    "- `'bfill'` (backward fill) → fills NaN with the **next value**.  \n",
    "\n",
    "### 3. axis\n",
    "- `0` → fill values **down rows** (default).  \n",
    "- `1` → fill values **across columns**.  \n",
    "\n",
    "### 4. inplace\n",
    "- `False` → returns a new DataFrame (default).  \n",
    "- `True` → modifies the original DataFrame directly.  \n",
    "\n",
    "### 5. limit\n",
    "- Maximum number of NaN values to forward/backward fill.  \n",
    "\n",
    "---\n",
    "\n",
    "## Example Dataset\n",
    "\n",
    "\n",
    "\n"
   ]
  },
  {
   "cell_type": "code",
   "execution_count": 72,
   "id": "76072c27",
   "metadata": {},
   "outputs": [
    {
     "name": "stdout",
     "output_type": "stream",
     "text": [
      "Original DataFrame:\n",
      "     Name   Age     City   Salary\n",
      "0   Amit  25.0    Delhi  50000.0\n",
      "1   Riya   NaN   Mumbai  60000.0\n",
      "2  Karan  30.0      NaN      NaN\n",
      "3  Sneha  22.0     Pune  45000.0\n",
      "4  Vikas   NaN    Delhi  52000.0\n",
      "5   Neha  28.0  Chennai      NaN\n",
      "6    NaN  35.0  Kolkata  70000.0\n",
      "7  Rohan  40.0      NaN  80000.0\n"
     ]
    }
   ],
   "source": [
    "import pandas as pd\n",
    "import numpy as np\n",
    "\n",
    "data = {\n",
    "    \"Name\": [\"Amit\", \"Riya\", \"Karan\", \"Sneha\", \"Vikas\", \"Neha\", np.nan, \"Rohan\"],\n",
    "    \"Age\": [25, np.nan, 30, 22, np.nan, 28, 35, 40],\n",
    "    \"City\": [\"Delhi\", \"Mumbai\", np.nan, \"Pune\", \"Delhi\", \"Chennai\", \"Kolkata\", np.nan],\n",
    "    \"Salary\": [50000, 60000, np.nan, 45000, 52000, np.nan, 70000, 80000]\n",
    "}\n",
    "df3 = pd.DataFrame(data)\n",
    "print(\"Original DataFrame:\\n\", df3)"
   ]
  },
  {
   "cell_type": "code",
   "execution_count": 50,
   "id": "ad83c08e",
   "metadata": {},
   "outputs": [
    {
     "data": {
      "text/html": [
       "<div>\n",
       "<style scoped>\n",
       "    .dataframe tbody tr th:only-of-type {\n",
       "        vertical-align: middle;\n",
       "    }\n",
       "\n",
       "    .dataframe tbody tr th {\n",
       "        vertical-align: top;\n",
       "    }\n",
       "\n",
       "    .dataframe thead th {\n",
       "        text-align: right;\n",
       "    }\n",
       "</style>\n",
       "<table border=\"1\" class=\"dataframe\">\n",
       "  <thead>\n",
       "    <tr style=\"text-align: right;\">\n",
       "      <th></th>\n",
       "      <th>Name</th>\n",
       "      <th>Age</th>\n",
       "      <th>City</th>\n",
       "      <th>Salary</th>\n",
       "    </tr>\n",
       "  </thead>\n",
       "  <tbody>\n",
       "    <tr>\n",
       "      <th>0</th>\n",
       "      <td>Amit</td>\n",
       "      <td>25.0</td>\n",
       "      <td>Delhi</td>\n",
       "      <td>50000.0</td>\n",
       "    </tr>\n",
       "    <tr>\n",
       "      <th>1</th>\n",
       "      <td>Riya</td>\n",
       "      <td>0.0</td>\n",
       "      <td>Mumbai</td>\n",
       "      <td>60000.0</td>\n",
       "    </tr>\n",
       "    <tr>\n",
       "      <th>2</th>\n",
       "      <td>Karan</td>\n",
       "      <td>30.0</td>\n",
       "      <td>0</td>\n",
       "      <td>0.0</td>\n",
       "    </tr>\n",
       "    <tr>\n",
       "      <th>3</th>\n",
       "      <td>Sneha</td>\n",
       "      <td>22.0</td>\n",
       "      <td>Pune</td>\n",
       "      <td>45000.0</td>\n",
       "    </tr>\n",
       "    <tr>\n",
       "      <th>4</th>\n",
       "      <td>Vikas</td>\n",
       "      <td>0.0</td>\n",
       "      <td>Delhi</td>\n",
       "      <td>52000.0</td>\n",
       "    </tr>\n",
       "    <tr>\n",
       "      <th>5</th>\n",
       "      <td>Neha</td>\n",
       "      <td>28.0</td>\n",
       "      <td>Chennai</td>\n",
       "      <td>0.0</td>\n",
       "    </tr>\n",
       "    <tr>\n",
       "      <th>6</th>\n",
       "      <td>0</td>\n",
       "      <td>35.0</td>\n",
       "      <td>Kolkata</td>\n",
       "      <td>70000.0</td>\n",
       "    </tr>\n",
       "    <tr>\n",
       "      <th>7</th>\n",
       "      <td>Rohan</td>\n",
       "      <td>40.0</td>\n",
       "      <td>0</td>\n",
       "      <td>80000.0</td>\n",
       "    </tr>\n",
       "  </tbody>\n",
       "</table>\n",
       "</div>"
      ],
      "text/plain": [
       "    Name   Age     City   Salary\n",
       "0   Amit  25.0    Delhi  50000.0\n",
       "1   Riya   0.0   Mumbai  60000.0\n",
       "2  Karan  30.0        0      0.0\n",
       "3  Sneha  22.0     Pune  45000.0\n",
       "4  Vikas   0.0    Delhi  52000.0\n",
       "5   Neha  28.0  Chennai      0.0\n",
       "6      0  35.0  Kolkata  70000.0\n",
       "7  Rohan  40.0        0  80000.0"
      ]
     },
     "execution_count": 50,
     "metadata": {},
     "output_type": "execute_result"
    }
   ],
   "source": [
    "# 1. Fill all NaN with a constant value\n",
    "df3.fillna(0)"
   ]
  },
  {
   "cell_type": "code",
   "execution_count": 51,
   "id": "58579f1b",
   "metadata": {},
   "outputs": [
    {
     "data": {
      "text/plain": [
       "0    25.0\n",
       "1    30.0\n",
       "2    30.0\n",
       "3    22.0\n",
       "4    30.0\n",
       "5    28.0\n",
       "6    35.0\n",
       "7    40.0\n",
       "Name: Age, dtype: float64"
      ]
     },
     "execution_count": 51,
     "metadata": {},
     "output_type": "execute_result"
    }
   ],
   "source": [
    "# 2. Fill NaN in a specific column with a value\n",
    "df3[\"Age\"].fillna(df3[\"Age\"].mean())   # replace with mean age"
   ]
  },
  {
   "cell_type": "code",
   "execution_count": 52,
   "id": "cc14fbdf",
   "metadata": {},
   "outputs": [
    {
     "data": {
      "text/html": [
       "<div>\n",
       "<style scoped>\n",
       "    .dataframe tbody tr th:only-of-type {\n",
       "        vertical-align: middle;\n",
       "    }\n",
       "\n",
       "    .dataframe tbody tr th {\n",
       "        vertical-align: top;\n",
       "    }\n",
       "\n",
       "    .dataframe thead th {\n",
       "        text-align: right;\n",
       "    }\n",
       "</style>\n",
       "<table border=\"1\" class=\"dataframe\">\n",
       "  <thead>\n",
       "    <tr style=\"text-align: right;\">\n",
       "      <th></th>\n",
       "      <th>Name</th>\n",
       "      <th>Age</th>\n",
       "      <th>City</th>\n",
       "      <th>Salary</th>\n",
       "    </tr>\n",
       "  </thead>\n",
       "  <tbody>\n",
       "    <tr>\n",
       "      <th>0</th>\n",
       "      <td>Amit</td>\n",
       "      <td>25.0</td>\n",
       "      <td>Delhi</td>\n",
       "      <td>50000.0</td>\n",
       "    </tr>\n",
       "    <tr>\n",
       "      <th>1</th>\n",
       "      <td>Riya</td>\n",
       "      <td>25.0</td>\n",
       "      <td>Mumbai</td>\n",
       "      <td>60000.0</td>\n",
       "    </tr>\n",
       "    <tr>\n",
       "      <th>2</th>\n",
       "      <td>Karan</td>\n",
       "      <td>30.0</td>\n",
       "      <td>Mumbai</td>\n",
       "      <td>60000.0</td>\n",
       "    </tr>\n",
       "    <tr>\n",
       "      <th>3</th>\n",
       "      <td>Sneha</td>\n",
       "      <td>22.0</td>\n",
       "      <td>Pune</td>\n",
       "      <td>45000.0</td>\n",
       "    </tr>\n",
       "    <tr>\n",
       "      <th>4</th>\n",
       "      <td>Vikas</td>\n",
       "      <td>22.0</td>\n",
       "      <td>Delhi</td>\n",
       "      <td>52000.0</td>\n",
       "    </tr>\n",
       "    <tr>\n",
       "      <th>5</th>\n",
       "      <td>Neha</td>\n",
       "      <td>28.0</td>\n",
       "      <td>Chennai</td>\n",
       "      <td>52000.0</td>\n",
       "    </tr>\n",
       "    <tr>\n",
       "      <th>6</th>\n",
       "      <td>Neha</td>\n",
       "      <td>35.0</td>\n",
       "      <td>Kolkata</td>\n",
       "      <td>70000.0</td>\n",
       "    </tr>\n",
       "    <tr>\n",
       "      <th>7</th>\n",
       "      <td>Rohan</td>\n",
       "      <td>40.0</td>\n",
       "      <td>Kolkata</td>\n",
       "      <td>80000.0</td>\n",
       "    </tr>\n",
       "  </tbody>\n",
       "</table>\n",
       "</div>"
      ],
      "text/plain": [
       "    Name   Age     City   Salary\n",
       "0   Amit  25.0    Delhi  50000.0\n",
       "1   Riya  25.0   Mumbai  60000.0\n",
       "2  Karan  30.0   Mumbai  60000.0\n",
       "3  Sneha  22.0     Pune  45000.0\n",
       "4  Vikas  22.0    Delhi  52000.0\n",
       "5   Neha  28.0  Chennai  52000.0\n",
       "6   Neha  35.0  Kolkata  70000.0\n",
       "7  Rohan  40.0  Kolkata  80000.0"
      ]
     },
     "execution_count": 52,
     "metadata": {},
     "output_type": "execute_result"
    }
   ],
   "source": [
    "# 3. Forward fill (copy previous value)\n",
    "df3.fillna(method=\"ffill\")"
   ]
  },
  {
   "cell_type": "code",
   "execution_count": null,
   "id": "54abdbfe",
   "metadata": {},
   "outputs": [],
   "source": [
    "# 4. Backward fill (copy next value)\n",
    "df3.fillna(method=\"bfill\")"
   ]
  },
  {
   "cell_type": "code",
   "execution_count": 53,
   "id": "9fe5463c",
   "metadata": {},
   "outputs": [
    {
     "data": {
      "text/html": [
       "<div>\n",
       "<style scoped>\n",
       "    .dataframe tbody tr th:only-of-type {\n",
       "        vertical-align: middle;\n",
       "    }\n",
       "\n",
       "    .dataframe tbody tr th {\n",
       "        vertical-align: top;\n",
       "    }\n",
       "\n",
       "    .dataframe thead th {\n",
       "        text-align: right;\n",
       "    }\n",
       "</style>\n",
       "<table border=\"1\" class=\"dataframe\">\n",
       "  <thead>\n",
       "    <tr style=\"text-align: right;\">\n",
       "      <th></th>\n",
       "      <th>Name</th>\n",
       "      <th>Age</th>\n",
       "      <th>City</th>\n",
       "      <th>Salary</th>\n",
       "    </tr>\n",
       "  </thead>\n",
       "  <tbody>\n",
       "    <tr>\n",
       "      <th>0</th>\n",
       "      <td>Amit</td>\n",
       "      <td>25.0</td>\n",
       "      <td>Delhi</td>\n",
       "      <td>50000.0</td>\n",
       "    </tr>\n",
       "    <tr>\n",
       "      <th>1</th>\n",
       "      <td>Riya</td>\n",
       "      <td>25.0</td>\n",
       "      <td>Mumbai</td>\n",
       "      <td>60000.0</td>\n",
       "    </tr>\n",
       "    <tr>\n",
       "      <th>2</th>\n",
       "      <td>Karan</td>\n",
       "      <td>30.0</td>\n",
       "      <td>Unknown</td>\n",
       "      <td>0.0</td>\n",
       "    </tr>\n",
       "    <tr>\n",
       "      <th>3</th>\n",
       "      <td>Sneha</td>\n",
       "      <td>22.0</td>\n",
       "      <td>Pune</td>\n",
       "      <td>45000.0</td>\n",
       "    </tr>\n",
       "    <tr>\n",
       "      <th>4</th>\n",
       "      <td>Vikas</td>\n",
       "      <td>25.0</td>\n",
       "      <td>Delhi</td>\n",
       "      <td>52000.0</td>\n",
       "    </tr>\n",
       "    <tr>\n",
       "      <th>5</th>\n",
       "      <td>Neha</td>\n",
       "      <td>28.0</td>\n",
       "      <td>Chennai</td>\n",
       "      <td>0.0</td>\n",
       "    </tr>\n",
       "    <tr>\n",
       "      <th>6</th>\n",
       "      <td>NaN</td>\n",
       "      <td>35.0</td>\n",
       "      <td>Kolkata</td>\n",
       "      <td>70000.0</td>\n",
       "    </tr>\n",
       "    <tr>\n",
       "      <th>7</th>\n",
       "      <td>Rohan</td>\n",
       "      <td>40.0</td>\n",
       "      <td>Unknown</td>\n",
       "      <td>80000.0</td>\n",
       "    </tr>\n",
       "  </tbody>\n",
       "</table>\n",
       "</div>"
      ],
      "text/plain": [
       "    Name   Age     City   Salary\n",
       "0   Amit  25.0    Delhi  50000.0\n",
       "1   Riya  25.0   Mumbai  60000.0\n",
       "2  Karan  30.0  Unknown      0.0\n",
       "3  Sneha  22.0     Pune  45000.0\n",
       "4  Vikas  25.0    Delhi  52000.0\n",
       "5   Neha  28.0  Chennai      0.0\n",
       "6    NaN  35.0  Kolkata  70000.0\n",
       "7  Rohan  40.0  Unknown  80000.0"
      ]
     },
     "execution_count": 53,
     "metadata": {},
     "output_type": "execute_result"
    }
   ],
   "source": [
    "# 5. Fill with dictionary (different values for each column)\n",
    "df3.fillna({\"Age\": 25, \"City\": \"Unknown\", \"Salary\": 0})"
   ]
  },
  {
   "cell_type": "code",
   "execution_count": 54,
   "id": "9a018f31",
   "metadata": {},
   "outputs": [
    {
     "data": {
      "text/html": [
       "<div>\n",
       "<style scoped>\n",
       "    .dataframe tbody tr th:only-of-type {\n",
       "        vertical-align: middle;\n",
       "    }\n",
       "\n",
       "    .dataframe tbody tr th {\n",
       "        vertical-align: top;\n",
       "    }\n",
       "\n",
       "    .dataframe thead th {\n",
       "        text-align: right;\n",
       "    }\n",
       "</style>\n",
       "<table border=\"1\" class=\"dataframe\">\n",
       "  <thead>\n",
       "    <tr style=\"text-align: right;\">\n",
       "      <th></th>\n",
       "      <th>Name</th>\n",
       "      <th>Age</th>\n",
       "      <th>City</th>\n",
       "      <th>Salary</th>\n",
       "    </tr>\n",
       "  </thead>\n",
       "  <tbody>\n",
       "    <tr>\n",
       "      <th>0</th>\n",
       "      <td>Amit</td>\n",
       "      <td>25.0</td>\n",
       "      <td>Delhi</td>\n",
       "      <td>50000.0</td>\n",
       "    </tr>\n",
       "    <tr>\n",
       "      <th>1</th>\n",
       "      <td>Riya</td>\n",
       "      <td>25.0</td>\n",
       "      <td>Mumbai</td>\n",
       "      <td>60000.0</td>\n",
       "    </tr>\n",
       "    <tr>\n",
       "      <th>2</th>\n",
       "      <td>Karan</td>\n",
       "      <td>30.0</td>\n",
       "      <td>Mumbai</td>\n",
       "      <td>60000.0</td>\n",
       "    </tr>\n",
       "    <tr>\n",
       "      <th>3</th>\n",
       "      <td>Sneha</td>\n",
       "      <td>22.0</td>\n",
       "      <td>Pune</td>\n",
       "      <td>45000.0</td>\n",
       "    </tr>\n",
       "    <tr>\n",
       "      <th>4</th>\n",
       "      <td>Vikas</td>\n",
       "      <td>22.0</td>\n",
       "      <td>Delhi</td>\n",
       "      <td>52000.0</td>\n",
       "    </tr>\n",
       "    <tr>\n",
       "      <th>5</th>\n",
       "      <td>Neha</td>\n",
       "      <td>28.0</td>\n",
       "      <td>Chennai</td>\n",
       "      <td>52000.0</td>\n",
       "    </tr>\n",
       "    <tr>\n",
       "      <th>6</th>\n",
       "      <td>Neha</td>\n",
       "      <td>35.0</td>\n",
       "      <td>Kolkata</td>\n",
       "      <td>70000.0</td>\n",
       "    </tr>\n",
       "    <tr>\n",
       "      <th>7</th>\n",
       "      <td>Rohan</td>\n",
       "      <td>40.0</td>\n",
       "      <td>Kolkata</td>\n",
       "      <td>80000.0</td>\n",
       "    </tr>\n",
       "  </tbody>\n",
       "</table>\n",
       "</div>"
      ],
      "text/plain": [
       "    Name   Age     City   Salary\n",
       "0   Amit  25.0    Delhi  50000.0\n",
       "1   Riya  25.0   Mumbai  60000.0\n",
       "2  Karan  30.0   Mumbai  60000.0\n",
       "3  Sneha  22.0     Pune  45000.0\n",
       "4  Vikas  22.0    Delhi  52000.0\n",
       "5   Neha  28.0  Chennai  52000.0\n",
       "6   Neha  35.0  Kolkata  70000.0\n",
       "7  Rohan  40.0  Kolkata  80000.0"
      ]
     },
     "execution_count": 54,
     "metadata": {},
     "output_type": "execute_result"
    }
   ],
   "source": [
    "# 6. Fill only limited NaNs\n",
    "df3.fillna(method=\"ffill\", limit=1)"
   ]
  },
  {
   "cell_type": "code",
   "execution_count": 55,
   "id": "f9099934",
   "metadata": {},
   "outputs": [
    {
     "data": {
      "text/plain": [
       "0     Rose\n",
       "1     Riya\n",
       "2    Karan\n",
       "3    Sneha\n",
       "4    Vikas\n",
       "5     Neha\n",
       "6      NaN\n",
       "7    Rohan\n",
       "Name: Name, dtype: object"
      ]
     },
     "execution_count": 55,
     "metadata": {},
     "output_type": "execute_result"
    }
   ],
   "source": [
    "# we can also fill my replace\n",
    "df[\"Name\"].replace('Amit','Rose')"
   ]
  },
  {
   "cell_type": "markdown",
   "id": "1e9a9b2c",
   "metadata": {},
   "source": [
    "# Dealing with Duplicate Values in Pandas\n",
    "\n",
    "## What are duplicate values?\n",
    "- Duplicate rows are rows in a DataFrame where **all or some columns have the same values**.\n",
    "- They can cause incorrect analysis, so we need to **detect and remove them**.\n",
    "\n",
    "---\n",
    "\n",
    "## Functions to handle duplicates\n",
    "\n",
    "### 1. `duplicated()`\n",
    "- Returns a Boolean Series showing which rows are duplicates.\n",
    "- Syntax:\n",
    "  ```python\n",
    "  DataFrame.duplicated(subset=None, keep='first')\n"
   ]
  },
  {
   "cell_type": "code",
   "execution_count": 58,
   "id": "dc3f7b7e",
   "metadata": {},
   "outputs": [],
   "source": [
    "# Duplicates:\n",
    "# we can take keep='first' as well as 'last' \n",
    "\n",
    "df_dup=df3[df3.duplicated(keep='last')]\n",
    "df_dup\n",
    "\n",
    "# now if you want to drop duplicate then \n",
    "\n",
    "df3=df3.drop_duplicates()"
   ]
  },
  {
   "cell_type": "markdown",
   "id": "82e82787",
   "metadata": {},
   "source": [
    "# Dealing with Invalid Values using Lambda in Pandas\n",
    "\n",
    "## What are invalid values?\n",
    "- Values in a DataFrame that are **not correct or meaningful**.\n",
    "- Examples:\n",
    "  - Negative age values\n",
    "  - Wrong city names\n",
    "  - Out-of-range marks/scores\n",
    "\n",
    "We can use **`apply()` with a `lambda` function** to detect and fix them.\n",
    "\n",
    "---\n",
    "\n",
    "## Using `lambda` with `apply()`\n",
    "\n",
    "### General Syntax\n",
    "```python\n",
    "DataFrame['column'] = DataFrame['column'].apply(lambda x: <condition>)\n"
   ]
  },
  {
   "cell_type": "code",
   "execution_count": 59,
   "id": "8f20c32e",
   "metadata": {},
   "outputs": [],
   "source": [
    "# how to deal with invalide fuction \n",
    "# we are using lamdba\n",
    "\n",
    "# 1. Replace invalid ages (<0 or >120) with NaN\n",
    "df3[\"Age\"] = df3[\"Age\"].apply(lambda x: x if (x >= 0 and x <= 120) else pd.NA)"
   ]
  },
  {
   "cell_type": "code",
   "execution_count": 60,
   "id": "cb781007",
   "metadata": {},
   "outputs": [
    {
     "data": {
      "text/html": [
       "<div>\n",
       "<style scoped>\n",
       "    .dataframe tbody tr th:only-of-type {\n",
       "        vertical-align: middle;\n",
       "    }\n",
       "\n",
       "    .dataframe tbody tr th {\n",
       "        vertical-align: top;\n",
       "    }\n",
       "\n",
       "    .dataframe thead th {\n",
       "        text-align: right;\n",
       "    }\n",
       "</style>\n",
       "<table border=\"1\" class=\"dataframe\">\n",
       "  <thead>\n",
       "    <tr style=\"text-align: right;\">\n",
       "      <th></th>\n",
       "      <th>Name</th>\n",
       "      <th>Age</th>\n",
       "      <th>City</th>\n",
       "      <th>Salary</th>\n",
       "    </tr>\n",
       "  </thead>\n",
       "  <tbody>\n",
       "    <tr>\n",
       "      <th>0</th>\n",
       "      <td>Amit</td>\n",
       "      <td>25.0</td>\n",
       "      <td>Delhi</td>\n",
       "      <td>50000.0</td>\n",
       "    </tr>\n",
       "    <tr>\n",
       "      <th>1</th>\n",
       "      <td>Riya</td>\n",
       "      <td>&lt;NA&gt;</td>\n",
       "      <td>Mumbai</td>\n",
       "      <td>60000.0</td>\n",
       "    </tr>\n",
       "    <tr>\n",
       "      <th>2</th>\n",
       "      <td>Karan</td>\n",
       "      <td>30.0</td>\n",
       "      <td>NaN</td>\n",
       "      <td>NaN</td>\n",
       "    </tr>\n",
       "    <tr>\n",
       "      <th>3</th>\n",
       "      <td>Sneha</td>\n",
       "      <td>22.0</td>\n",
       "      <td>Pune</td>\n",
       "      <td>45000.0</td>\n",
       "    </tr>\n",
       "    <tr>\n",
       "      <th>4</th>\n",
       "      <td>Vikas</td>\n",
       "      <td>&lt;NA&gt;</td>\n",
       "      <td>Delhi</td>\n",
       "      <td>52000.0</td>\n",
       "    </tr>\n",
       "    <tr>\n",
       "      <th>5</th>\n",
       "      <td>Neha</td>\n",
       "      <td>28.0</td>\n",
       "      <td>Chennai</td>\n",
       "      <td>NaN</td>\n",
       "    </tr>\n",
       "    <tr>\n",
       "      <th>6</th>\n",
       "      <td>NaN</td>\n",
       "      <td>35.0</td>\n",
       "      <td>Kolkata</td>\n",
       "      <td>70000.0</td>\n",
       "    </tr>\n",
       "    <tr>\n",
       "      <th>7</th>\n",
       "      <td>Rohan</td>\n",
       "      <td>40.0</td>\n",
       "      <td>NaN</td>\n",
       "      <td>80000.0</td>\n",
       "    </tr>\n",
       "  </tbody>\n",
       "</table>\n",
       "</div>"
      ],
      "text/plain": [
       "    Name   Age     City   Salary\n",
       "0   Amit  25.0    Delhi  50000.0\n",
       "1   Riya  <NA>   Mumbai  60000.0\n",
       "2  Karan  30.0      NaN      NaN\n",
       "3  Sneha  22.0     Pune  45000.0\n",
       "4  Vikas  <NA>    Delhi  52000.0\n",
       "5   Neha  28.0  Chennai      NaN\n",
       "6    NaN  35.0  Kolkata  70000.0\n",
       "7  Rohan  40.0      NaN  80000.0"
      ]
     },
     "execution_count": 60,
     "metadata": {},
     "output_type": "execute_result"
    }
   ],
   "source": [
    "df3"
   ]
  },
  {
   "cell_type": "markdown",
   "id": "5550964e",
   "metadata": {},
   "source": [
    "# Splitting a Column into Multiple Columns using `str.split()`\n",
    "\n",
    "## Example\n",
    "\n",
    "```python\n",
    "import pandas as pd\n",
    "\n",
    "# Create a sample DataFrame\n"
   ]
  },
  {
   "cell_type": "code",
   "execution_count": 62,
   "id": "e4c0d30a",
   "metadata": {},
   "outputs": [
    {
     "name": "stdout",
     "output_type": "stream",
     "text": [
      "Original DataFrame:\n",
      "              name\n",
      "0  Vaibhav_Bajpai\n",
      "1     Riya_Sharma\n",
      "2     Karan_Singh\n",
      "3     Sneha_Gupta\n",
      "\n",
      "After splitting:\n",
      "              name first_name last_name\n",
      "0  Vaibhav_Bajpai    Vaibhav    Bajpai\n",
      "1     Riya_Sharma       Riya    Sharma\n",
      "2     Karan_Singh      Karan     Singh\n",
      "3     Sneha_Gupta      Sneha     Gupta\n"
     ]
    }
   ],
   "source": [
    "# in Order to deal with string value like name like Vaibhav_Bajpai\n",
    "df4 = pd.DataFrame({\n",
    "    \"name\": [\"Vaibhav_Bajpai\", \"Riya_Sharma\", \"Karan_Singh\", \"Sneha_Gupta\"]\n",
    "})\n",
    "\n",
    "print(\"Original DataFrame:\\n\", df4)\n",
    "\n",
    "# Split the 'name' column into two new columns: first_name and last_name\n",
    "df4[[\"first_name\", \"last_name\"]] = df4[\"name\"].str.split(\"_\", expand=True)\n",
    "\n",
    "print(\"\\nAfter splitting:\\n\", df4)\n"
   ]
  },
  {
   "cell_type": "code",
   "execution_count": 75,
   "id": "63522a79",
   "metadata": {},
   "outputs": [
    {
     "data": {
      "text/html": [
       "<div>\n",
       "<style scoped>\n",
       "    .dataframe tbody tr th:only-of-type {\n",
       "        vertical-align: middle;\n",
       "    }\n",
       "\n",
       "    .dataframe tbody tr th {\n",
       "        vertical-align: top;\n",
       "    }\n",
       "\n",
       "    .dataframe thead th {\n",
       "        text-align: right;\n",
       "    }\n",
       "</style>\n",
       "<table border=\"1\" class=\"dataframe\">\n",
       "  <thead>\n",
       "    <tr style=\"text-align: right;\">\n",
       "      <th></th>\n",
       "      <th>Name</th>\n",
       "      <th>Age</th>\n",
       "      <th>City</th>\n",
       "      <th>Salary</th>\n",
       "    </tr>\n",
       "  </thead>\n",
       "  <tbody>\n",
       "    <tr>\n",
       "      <th>0</th>\n",
       "      <td>Amit</td>\n",
       "      <td>100.0</td>\n",
       "      <td>Delhi</td>\n",
       "      <td>50000.0</td>\n",
       "    </tr>\n",
       "    <tr>\n",
       "      <th>1</th>\n",
       "      <td>Riya</td>\n",
       "      <td>NaN</td>\n",
       "      <td>Mumbai</td>\n",
       "      <td>60000.0</td>\n",
       "    </tr>\n",
       "    <tr>\n",
       "      <th>2</th>\n",
       "      <td>Karan</td>\n",
       "      <td>120.0</td>\n",
       "      <td>NaN</td>\n",
       "      <td>NaN</td>\n",
       "    </tr>\n",
       "    <tr>\n",
       "      <th>3</th>\n",
       "      <td>Sneha</td>\n",
       "      <td>88.0</td>\n",
       "      <td>Pune</td>\n",
       "      <td>45000.0</td>\n",
       "    </tr>\n",
       "    <tr>\n",
       "      <th>4</th>\n",
       "      <td>Vikas</td>\n",
       "      <td>NaN</td>\n",
       "      <td>Delhi</td>\n",
       "      <td>52000.0</td>\n",
       "    </tr>\n",
       "    <tr>\n",
       "      <th>5</th>\n",
       "      <td>Neha</td>\n",
       "      <td>112.0</td>\n",
       "      <td>Chennai</td>\n",
       "      <td>NaN</td>\n",
       "    </tr>\n",
       "    <tr>\n",
       "      <th>6</th>\n",
       "      <td>NaN</td>\n",
       "      <td>140.0</td>\n",
       "      <td>Kolkata</td>\n",
       "      <td>70000.0</td>\n",
       "    </tr>\n",
       "    <tr>\n",
       "      <th>7</th>\n",
       "      <td>Rohan</td>\n",
       "      <td>160.0</td>\n",
       "      <td>NaN</td>\n",
       "      <td>80000.0</td>\n",
       "    </tr>\n",
       "  </tbody>\n",
       "</table>\n",
       "</div>"
      ],
      "text/plain": [
       "    Name    Age     City   Salary\n",
       "0   Amit  100.0    Delhi  50000.0\n",
       "1   Riya    NaN   Mumbai  60000.0\n",
       "2  Karan  120.0      NaN      NaN\n",
       "3  Sneha   88.0     Pune  45000.0\n",
       "4  Vikas    NaN    Delhi  52000.0\n",
       "5   Neha  112.0  Chennai      NaN\n",
       "6    NaN  140.0  Kolkata  70000.0\n",
       "7  Rohan  160.0      NaN  80000.0"
      ]
     },
     "execution_count": 75,
     "metadata": {},
     "output_type": "execute_result"
    }
   ],
   "source": [
    "def multiplying_age(x):\n",
    "    return x * 2\n",
    "\n",
    "df3[\"Age\"] = df3[\"Age\"].apply(multiplying_age)\n",
    "df3\n"
   ]
  },
  {
   "cell_type": "code",
   "execution_count": 78,
   "id": "8eb4890a",
   "metadata": {},
   "outputs": [
    {
     "data": {
      "text/html": [
       "<div>\n",
       "<style scoped>\n",
       "    .dataframe tbody tr th:only-of-type {\n",
       "        vertical-align: middle;\n",
       "    }\n",
       "\n",
       "    .dataframe tbody tr th {\n",
       "        vertical-align: top;\n",
       "    }\n",
       "\n",
       "    .dataframe thead th {\n",
       "        text-align: right;\n",
       "    }\n",
       "</style>\n",
       "<table border=\"1\" class=\"dataframe\">\n",
       "  <thead>\n",
       "    <tr style=\"text-align: right;\">\n",
       "      <th></th>\n",
       "      <th>Name</th>\n",
       "      <th>Age</th>\n",
       "      <th>City</th>\n",
       "      <th>Salary</th>\n",
       "    </tr>\n",
       "  </thead>\n",
       "  <tbody>\n",
       "    <tr>\n",
       "      <th>0</th>\n",
       "      <td>Amit</td>\n",
       "      <td>25.0</td>\n",
       "      <td>Delhi</td>\n",
       "      <td>50000.0</td>\n",
       "    </tr>\n",
       "    <tr>\n",
       "      <th>1</th>\n",
       "      <td>Riya</td>\n",
       "      <td>NaN</td>\n",
       "      <td>Mumbai</td>\n",
       "      <td>60000.0</td>\n",
       "    </tr>\n",
       "    <tr>\n",
       "      <th>2</th>\n",
       "      <td>Karan</td>\n",
       "      <td>30.0</td>\n",
       "      <td>NaN</td>\n",
       "      <td>NaN</td>\n",
       "    </tr>\n",
       "    <tr>\n",
       "      <th>3</th>\n",
       "      <td>Sneha</td>\n",
       "      <td>22.0</td>\n",
       "      <td>Pune</td>\n",
       "      <td>45000.0</td>\n",
       "    </tr>\n",
       "    <tr>\n",
       "      <th>4</th>\n",
       "      <td>Vikas</td>\n",
       "      <td>NaN</td>\n",
       "      <td>Delhi</td>\n",
       "      <td>52000.0</td>\n",
       "    </tr>\n",
       "    <tr>\n",
       "      <th>5</th>\n",
       "      <td>Neha</td>\n",
       "      <td>28.0</td>\n",
       "      <td>Chennai</td>\n",
       "      <td>NaN</td>\n",
       "    </tr>\n",
       "    <tr>\n",
       "      <th>6</th>\n",
       "      <td>NaN</td>\n",
       "      <td>35.0</td>\n",
       "      <td>Kolkata</td>\n",
       "      <td>70000.0</td>\n",
       "    </tr>\n",
       "    <tr>\n",
       "      <th>7</th>\n",
       "      <td>Rohan</td>\n",
       "      <td>40.0</td>\n",
       "      <td>NaN</td>\n",
       "      <td>80000.0</td>\n",
       "    </tr>\n",
       "  </tbody>\n",
       "</table>\n",
       "</div>"
      ],
      "text/plain": [
       "    Name   Age     City   Salary\n",
       "0   Amit  25.0    Delhi  50000.0\n",
       "1   Riya   NaN   Mumbai  60000.0\n",
       "2  Karan  30.0      NaN      NaN\n",
       "3  Sneha  22.0     Pune  45000.0\n",
       "4  Vikas   NaN    Delhi  52000.0\n",
       "5   Neha  28.0  Chennai      NaN\n",
       "6    NaN  35.0  Kolkata  70000.0\n",
       "7  Rohan  40.0      NaN  80000.0"
      ]
     },
     "execution_count": 78,
     "metadata": {},
     "output_type": "execute_result"
    }
   ],
   "source": [
    "df3[\"Age\"]=df3[\"Age\"].apply(lambda x:x/2)\n",
    "df3"
   ]
  },
  {
   "cell_type": "markdown",
   "id": "1793e00b",
   "metadata": {},
   "source": [
    "# Joins in Pandas\n",
    "\n",
    "## What are Joins?\n",
    "- A **join** combines rows from two DataFrames based on a common column (called a **key**).\n",
    "- Similar to **SQL JOINs**.\n",
    "- In Pandas, joins are mainly performed using:\n",
    "  - `merge()` → column or index based\n",
    "  - `join()` → index based\n",
    "\n",
    "---\n",
    "\n",
    "## 🔹 Syntax for `merge()`\n",
    "```python\n",
    "pd.merge(left, right, how='join_type', on='key_column')\n"
   ]
  },
  {
   "cell_type": "code",
   "execution_count": 79,
   "id": "0f920c90",
   "metadata": {},
   "outputs": [
    {
     "name": "stdout",
     "output_type": "stream",
     "text": [
      "DataFrame 1:\n",
      "    id   name  age\n",
      "0   1   Amit   25\n",
      "1   2   Riya   28\n",
      "2   3  Karan   22\n",
      "3   4  Sneha   30\n",
      "4   5   Anuj   26\n",
      "5   6  Priya   24\n",
      "\n",
      "DataFrame 2:\n",
      "    id  salary department\n",
      "0   3   55000         IT\n",
      "1   4   60000         HR\n",
      "2   5   70000    Finance\n",
      "3   6   80000  Marketing\n",
      "4   7   75000      Sales\n",
      "5   8   90000      Admin\n"
     ]
    }
   ],
   "source": [
    "import pandas as pd\n",
    "\n",
    "# DataFrame 1: Employee details\n",
    "ndf1 = pd.DataFrame({\n",
    "    \"id\": [1, 2, 3, 4, 5, 6],\n",
    "    \"name\": [\"Amit\", \"Riya\", \"Karan\", \"Sneha\", \"Anuj\", \"Priya\"],\n",
    "    \"age\": [25, 28, 22, 30, 26, 24]\n",
    "})\n",
    "\n",
    "# DataFrame 2: Salary & Department\n",
    "ndf2 = pd.DataFrame({\n",
    "    \"id\": [3, 4, 5, 6, 7, 8],\n",
    "    \"salary\": [55000, 60000, 70000, 80000, 75000, 90000],\n",
    "    \"department\": [\"IT\", \"HR\", \"Finance\", \"Marketing\", \"Sales\", \"Admin\"]\n",
    "})\n",
    "\n",
    "print(\"DataFrame 1:\\n\", ndf1)\n",
    "print(\"\\nDataFrame 2:\\n\", ndf2)\n"
   ]
  },
  {
   "cell_type": "markdown",
   "id": "a9598cf5",
   "metadata": {},
   "source": [
    "## 🔹 Inner Join\n",
    "- Keeps only matching rows from both DataFrames.\n"
   ]
  },
  {
   "cell_type": "code",
   "execution_count": 80,
   "id": "ecf5f38d",
   "metadata": {},
   "outputs": [
    {
     "name": "stdout",
     "output_type": "stream",
     "text": [
      "   id   name  age  salary department\n",
      "0   3  Karan   22   55000         IT\n",
      "1   4  Sneha   30   60000         HR\n",
      "2   5   Anuj   26   70000    Finance\n",
      "3   6  Priya   24   80000  Marketing\n"
     ]
    }
   ],
   "source": [
    "inner = pd.merge(ndf1, ndf2, on=\"id\", how=\"inner\")\n",
    "print(inner)\n"
   ]
  },
  {
   "cell_type": "markdown",
   "id": "7384b8a4",
   "metadata": {},
   "source": [
    "## 🔹 Left Join\n",
    "- Keeps all rows from `ndf1` and matching rows from `ndf2`.\n"
   ]
  },
  {
   "cell_type": "code",
   "execution_count": 81,
   "id": "88ac0775",
   "metadata": {},
   "outputs": [
    {
     "name": "stdout",
     "output_type": "stream",
     "text": [
      "   id   name  age   salary department\n",
      "0   1   Amit   25      NaN        NaN\n",
      "1   2   Riya   28      NaN        NaN\n",
      "2   3  Karan   22  55000.0         IT\n",
      "3   4  Sneha   30  60000.0         HR\n",
      "4   5   Anuj   26  70000.0    Finance\n",
      "5   6  Priya   24  80000.0  Marketing\n"
     ]
    }
   ],
   "source": [
    "left = pd.merge(ndf1, ndf2, on=\"id\", how=\"left\")\n",
    "print(left)\n"
   ]
  },
  {
   "cell_type": "markdown",
   "id": "617ccd24",
   "metadata": {},
   "source": [
    "## 🔹 Right Join\n",
    "- Keeps all rows from `ndf2` and matching rows from `ndf1`.\n"
   ]
  },
  {
   "cell_type": "code",
   "execution_count": 82,
   "id": "a89ea91d",
   "metadata": {},
   "outputs": [
    {
     "name": "stdout",
     "output_type": "stream",
     "text": [
      "   id   name   age  salary department\n",
      "0   3  Karan  22.0   55000         IT\n",
      "1   4  Sneha  30.0   60000         HR\n",
      "2   5   Anuj  26.0   70000    Finance\n",
      "3   6  Priya  24.0   80000  Marketing\n",
      "4   7    NaN   NaN   75000      Sales\n",
      "5   8    NaN   NaN   90000      Admin\n"
     ]
    }
   ],
   "source": [
    "right = pd.merge(ndf1, ndf2, on=\"id\", how=\"right\")\n",
    "print(right)\n"
   ]
  },
  {
   "cell_type": "markdown",
   "id": "6072d08e",
   "metadata": {},
   "source": [
    "## 🔹 Outer Join\n",
    "- Keeps all rows from both DataFrames, fills missing values with NaN.\n"
   ]
  },
  {
   "cell_type": "code",
   "execution_count": 83,
   "id": "7bff76aa",
   "metadata": {},
   "outputs": [
    {
     "name": "stdout",
     "output_type": "stream",
     "text": [
      "   id   name   age   salary department\n",
      "0   1   Amit  25.0      NaN        NaN\n",
      "1   2   Riya  28.0      NaN        NaN\n",
      "2   3  Karan  22.0  55000.0         IT\n",
      "3   4  Sneha  30.0  60000.0         HR\n",
      "4   5   Anuj  26.0  70000.0    Finance\n",
      "5   6  Priya  24.0  80000.0  Marketing\n",
      "6   7    NaN   NaN  75000.0      Sales\n",
      "7   8    NaN   NaN  90000.0      Admin\n"
     ]
    }
   ],
   "source": [
    "outer = pd.merge(ndf1, ndf2, on=\"id\", how=\"outer\")\n",
    "print(outer)\n"
   ]
  },
  {
   "cell_type": "code",
   "execution_count": 85,
   "id": "7c9c1877",
   "metadata": {},
   "outputs": [
    {
     "name": "stdout",
     "output_type": "stream",
     "text": [
      "Row-wise Concat:\n",
      "    id   name   age   salary department\n",
      "0   1   Amit  25.0      NaN        NaN\n",
      "1   2   Riya  28.0      NaN        NaN\n",
      "2   3  Karan  22.0      NaN        NaN\n",
      "3   4  Sneha  30.0      NaN        NaN\n",
      "4   5   Anuj  26.0      NaN        NaN\n",
      "5   6  Priya  24.0      NaN        NaN\n",
      "0   3    NaN   NaN  55000.0         IT\n",
      "1   4    NaN   NaN  60000.0         HR\n",
      "2   5    NaN   NaN  70000.0    Finance\n",
      "3   6    NaN   NaN  80000.0  Marketing\n",
      "4   7    NaN   NaN  75000.0      Sales\n",
      "5   8    NaN   NaN  90000.0      Admin\n",
      "\n",
      "Column-wise Concat:\n",
      "    id   name  age  id  salary department\n",
      "0   1   Amit   25   3   55000         IT\n",
      "1   2   Riya   28   4   60000         HR\n",
      "2   3  Karan   22   5   70000    Finance\n",
      "3   4  Sneha   30   6   80000  Marketing\n",
      "4   5   Anuj   26   7   75000      Sales\n",
      "5   6  Priya   24   8   90000      Admin\n"
     ]
    }
   ],
   "source": [
    "# Concacte\n",
    "\n",
    "# ✅ Row-wise concat (default)\n",
    "row_concat = pd.concat([ndf1, ndf2])\n",
    "\n",
    "# ✅ Column-wise concat\n",
    "col_concat = pd.concat([ndf1, ndf2], axis=1)\n",
    "\n",
    "print(\"Row-wise Concat:\\n\", row_concat)\n",
    "print(\"\\nColumn-wise Concat:\\n\", col_concat)"
   ]
  }
 ],
 "metadata": {
  "kernelspec": {
   "display_name": "Python 3",
   "language": "python",
   "name": "python3"
  },
  "language_info": {
   "codemirror_mode": {
    "name": "ipython",
    "version": 3
   },
   "file_extension": ".py",
   "mimetype": "text/x-python",
   "name": "python",
   "nbconvert_exporter": "python",
   "pygments_lexer": "ipython3",
   "version": "3.8.7"
  }
 },
 "nbformat": 4,
 "nbformat_minor": 5
}
